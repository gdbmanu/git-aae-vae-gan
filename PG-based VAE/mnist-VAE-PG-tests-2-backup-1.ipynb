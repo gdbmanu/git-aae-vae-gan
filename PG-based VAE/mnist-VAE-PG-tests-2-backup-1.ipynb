{
 "cells": [
  {
   "cell_type": "code",
   "execution_count": 110,
   "metadata": {},
   "outputs": [],
   "source": [
    "## La couche d'encodage est le label"
   ]
  },
  {
   "cell_type": "code",
   "execution_count": 2,
   "metadata": {},
   "outputs": [],
   "source": [
    "import tensorflow as tf\n",
    "import numpy as np"
   ]
  },
  {
   "cell_type": "code",
   "execution_count": 3,
   "metadata": {},
   "outputs": [
    {
     "name": "stdout",
     "output_type": "stream",
     "text": [
      "Extracting MNIST_data/train-images-idx3-ubyte.gz\n",
      "Extracting MNIST_data/train-labels-idx1-ubyte.gz\n",
      "Extracting MNIST_data/t10k-images-idx3-ubyte.gz\n",
      "Extracting MNIST_data/t10k-labels-idx1-ubyte.gz\n"
     ]
    }
   ],
   "source": [
    "from tensorflow.examples.tutorials.mnist import input_data\n",
    "mnist = input_data.read_data_sets(\"MNIST_data/\", one_hot=True)"
   ]
  },
  {
   "cell_type": "code",
   "execution_count": 4,
   "metadata": {},
   "outputs": [],
   "source": [
    "NB_LABEL = 10"
   ]
  },
  {
   "cell_type": "code",
   "execution_count": 5,
   "metadata": {},
   "outputs": [],
   "source": [
    "def weight_variable(shape):\n",
    "    stddev = np.sqrt(1. / np.prod(shape[:-1]))\n",
    "    print(stddev)\n",
    "    initial = tf.random_normal(shape, stddev = stddev)\n",
    "    return tf.Variable(initial)\n",
    "\n",
    "def bias_variable(shape):\n",
    "    initial = tf.constant(0., shape=shape)\n",
    "    return tf.Variable(initial)"
   ]
  },
  {
   "cell_type": "code",
   "execution_count": 6,
   "metadata": {},
   "outputs": [],
   "source": [
    "def conv2d(x, W):\n",
    "    return tf.nn.conv2d(x, W, strides=[1, 1, 1, 1], padding='SAME')\n",
    "\n",
    "def max_pool_2x2(x):\n",
    "    return tf.nn.max_pool(x, ksize=[1, 2, 2, 1],\n",
    "                        strides=[1, 2, 2, 1], padding='SAME')\n"
   ]
  },
  {
   "cell_type": "code",
   "execution_count": 7,
   "metadata": {},
   "outputs": [],
   "source": [
    "x = tf.placeholder(tf.float32, [None, 784])\n",
    "y_ = tf.placeholder(tf.float32, [None, NB_LABEL])"
   ]
  },
  {
   "cell_type": "code",
   "execution_count": 8,
   "metadata": {},
   "outputs": [
    {
     "name": "stdout",
     "output_type": "stream",
     "text": [
      "0.2\n"
     ]
    }
   ],
   "source": [
    "W_conv1 = weight_variable([5, 5, 1, 32])\n",
    "b_conv1 = bias_variable([32])"
   ]
  },
  {
   "cell_type": "code",
   "execution_count": 9,
   "metadata": {},
   "outputs": [],
   "source": [
    "x_image = tf.reshape(x, [-1, 28, 28, 1])"
   ]
  },
  {
   "cell_type": "code",
   "execution_count": 10,
   "metadata": {},
   "outputs": [],
   "source": [
    "h_conv1 = tf.nn.relu(conv2d(x_image, W_conv1) + b_conv1)\n",
    "h_pool1 = max_pool_2x2(h_conv1)"
   ]
  },
  {
   "cell_type": "code",
   "execution_count": 11,
   "metadata": {},
   "outputs": [
    {
     "name": "stdout",
     "output_type": "stream",
     "text": [
      "0.0353553390593\n"
     ]
    }
   ],
   "source": [
    "W_conv2 = weight_variable([5, 5, 32, 64])\n",
    "b_conv2 = bias_variable([64])\n",
    "\n",
    "h_conv2 = tf.nn.relu(conv2d(h_pool1, W_conv2) + b_conv2)\n",
    "h_pool2 = max_pool_2x2(h_conv2)"
   ]
  },
  {
   "cell_type": "code",
   "execution_count": 12,
   "metadata": {},
   "outputs": [
    {
     "name": "stdout",
     "output_type": "stream",
     "text": [
      "0.0178571428571\n"
     ]
    }
   ],
   "source": [
    "W_fc1 = weight_variable([7 * 7 * 64, 1024])\n",
    "b_fc1 = bias_variable([1024])\n",
    "\n",
    "h_pool2_flat = tf.reshape(h_pool2, [-1, 7*7*64])\n",
    "h_fc1 = tf.nn.relu(tf.matmul(h_pool2_flat, W_fc1) + b_fc1)"
   ]
  },
  {
   "cell_type": "code",
   "execution_count": 77,
   "metadata": {},
   "outputs": [
    {
     "name": "stdout",
     "output_type": "stream",
     "text": [
      "0.03125\n"
     ]
    }
   ],
   "source": [
    "W_fc2 = weight_variable([1024, 10])\n",
    "b_fc2 = bias_variable([10])\n",
    "\n",
    "y_logit = tf.matmul(h_fc1, W_fc2) + b_fc2"
   ]
  },
  {
   "cell_type": "code",
   "execution_count": 95,
   "metadata": {},
   "outputs": [],
   "source": [
    "indices = tf.argmax(y_logit, 1)\n",
    "\n",
    "# multinomial softmax draw\n",
    "#indices = tf.multinomial(y_logit, 1)[:,0]\n",
    "\n",
    "depth = NB_LABEL\n",
    "y_hat = tf.one_hot(indices, depth)"
   ]
  },
  {
   "cell_type": "markdown",
   "metadata": {},
   "source": [
    "### Decoder"
   ]
  },
  {
   "cell_type": "code",
   "execution_count": 96,
   "metadata": {},
   "outputs": [
    {
     "name": "stdout",
     "output_type": "stream",
     "text": [
      "0.316227766017\n"
     ]
    }
   ],
   "source": [
    "'''W_fc3 = weight_variable([10, 1024])\n",
    "b_fc3 = bias_variable([1024])\n",
    "\n",
    "#h_decoder = tf.nn.relu(tf.matmul(tf.nn.softmax(y_logit), W_fc3) + b_fc3)\n",
    "h_decoder = tf.nn.relu(tf.matmul(y_hat * y_logit, W_fc3) + b_fc3)\n",
    "#h_decoder = tf.matmul(y_hat, W_fc3) + b_fc3\n",
    "\n",
    "W_fc4 = weight_variable([1024, 784])\n",
    "b_fc4 = bias_variable([784])\n",
    "\n",
    "x_gen = tf.matmul(h_decoder, W_fc4) + b_fc4'''\n",
    "\n",
    "\n",
    "W_fc3 = weight_variable([10, 784])\n",
    "b_fc3 = bias_variable([784])\n",
    "#x_gen = tf.matmul(tf.nn.softmax(y_logit), W_fc3) + b_fc3\n",
    "x_gen = tf.matmul(y_hat, W_fc3) + b_fc3\n",
    "\n",
    "#x_gen = tf.matmul(y_hat * y_logit, W_fc3) + b_fc3\n"
   ]
  },
  {
   "cell_type": "code",
   "execution_count": 97,
   "metadata": {},
   "outputs": [],
   "source": [
    "correct_prediction = tf.cast(tf.equal(indices, tf.argmax(y_, 1)), tf.float32)\n",
    "reward = correct_prediction - (1 - correct_prediction)\n",
    "#reward_KL_plus = 1 #correct_prediction\n",
    "#reward_KL_moins = 1 - correct_prediction"
   ]
  },
  {
   "cell_type": "code",
   "execution_count": 98,
   "metadata": {},
   "outputs": [],
   "source": [
    "#cross_entropy = tf.reduce_mean(tf.nn.softmax_cross_entropy_with_logits(labels=y_, logits=y_conv))\n",
    "\n",
    "p = tf.nn.softmax(y_logit)\n",
    "q = 1. / NB_LABEL\n",
    "\n",
    "#KL = tf.reduce_sum(p * y_logit,reduction_indices=1)\n",
    "KL_ref = tf.reduce_sum(p * tf.log(p/q), reduction_indices=1)\n",
    "KL = tf.reduce_mean(KL_ref) # + reward_KL_moins * (- tf.log(0.1) - KL_ref))\n",
    "#KL = tf.nn.softmax_cross_entropy_with_logits(labels=y_hat, logits=y_logit) #!! KL(1_\\hat{y})\n",
    "#KL = tf.reduce_mean(tf.nn.softmax_cross_entropy_with_logits(labels=y_, logits=y_logit)) #!! KL(1_\\hat{y})\n",
    "\n",
    "#cross_entropy_loss = tf.reduce_mean(reward * tf.reduce_sum(tf.nn.sigmoid_cross_entropy_with_logits(logits=x_gen, labels=x), reduction_indices=1))\n",
    "#reward = 1\n",
    "cross_entropy_loss = tf.reduce_mean(reward  * tf.nn.softmax_cross_entropy_with_logits(labels=y_hat, logits=y_logit)) \n",
    "#cross_entropy_loss = tf.reduce_mean(tf.nn.sigmoid_cross_entropy_with_logits(logits=x_gen, labels=x))\n",
    "\n",
    "reconstruction_loss = tf.reduce_mean(tf.reduce_sum(tf.nn.sigmoid_cross_entropy_with_logits(logits=x_gen, labels=x), reduction_indices = 1))\n",
    "#rewarded_loss = reward * (KL + cross_entropy_loss)\n",
    "\n",
    "rewarded_loss = KL +  cross_entropy_loss + reconstruction_loss\n",
    "                              \n",
    "train_step = tf.train.AdamOptimizer(1e-4).minimize(rewarded_loss)\n",
    "accuracy = tf.reduce_mean(correct_prediction)\n",
    "\n"
   ]
  },
  {
   "cell_type": "code",
   "execution_count": 99,
   "metadata": {},
   "outputs": [],
   "source": [
    "sess = tf.InteractiveSession()"
   ]
  },
  {
   "cell_type": "code",
   "execution_count": 100,
   "metadata": {},
   "outputs": [],
   "source": [
    "#sess.run(KL, feed_dict={x: batch[0], y_: batch[1]})\n",
    "#sess.run(reward, feed_dict={x: batch[0], y_: batch[1]})\n"
   ]
  },
  {
   "cell_type": "code",
   "execution_count": 101,
   "metadata": {},
   "outputs": [],
   "source": [
    "#sess.run(rewarded_cross_entropy, feed_dict={x: batch[0], y_: batch[1]})"
   ]
  },
  {
   "cell_type": "code",
   "execution_count": 102,
   "metadata": {},
   "outputs": [],
   "source": [
    "sess.run(tf.global_variables_initializer())"
   ]
  },
  {
   "cell_type": "code",
   "execution_count": 103,
   "metadata": {},
   "outputs": [
    {
     "name": "stdout",
     "output_type": "stream",
     "text": [
      "step 0, training accuracy 0.08, consistency loss : 0.0199928, code_loss -1.68037, reconstr_loss 554.237\n",
      "step 100, training accuracy 0.8, consistency loss : 0.306415, code_loss 0.476682, reconstr_loss 547.511\n",
      "step 200, training accuracy 0.9, consistency loss : 0.399056, code_loss 0.663301, reconstr_loss 543.162\n",
      "step 300, training accuracy 0.98, consistency loss : 0.45922, code_loss 0.788514, reconstr_loss 538.489\n",
      "step 400, training accuracy 1, consistency loss : 0.418548, code_loss 0.874703, reconstr_loss 532.4\n",
      "step 500, training accuracy 0.94, consistency loss : 0.403554, code_loss 0.720719, reconstr_loss 527.521\n",
      "step 600, training accuracy 0.98, consistency loss : 0.431441, code_loss 0.798912, reconstr_loss 523.35\n",
      "step 700, training accuracy 1, consistency loss : 0.42575, code_loss 0.850445, reconstr_loss 517.767\n",
      "step 800, training accuracy 0.98, consistency loss : 0.421299, code_loss 0.822363, reconstr_loss 512.466\n",
      "step 900, training accuracy 0.96, consistency loss : 0.429141, code_loss 0.752657, reconstr_loss 507.343\n",
      "step 1000, training accuracy 0.98, consistency loss : 0.450645, code_loss 0.755516, reconstr_loss 502.714\n",
      "step 1100, training accuracy 0.92, consistency loss : 0.38071, code_loss 0.668553, reconstr_loss 497.684\n",
      "step 1200, training accuracy 1, consistency loss : 0.515457, code_loss 0.717081, reconstr_loss 491.471\n",
      "step 1300, training accuracy 1, consistency loss : 0.43864, code_loss 0.820336, reconstr_loss 486.412\n",
      "step 1400, training accuracy 0.98, consistency loss : 0.48876, code_loss 0.678779, reconstr_loss 483.564\n",
      "step 1500, training accuracy 0.96, consistency loss : 0.394759, code_loss 0.74059, reconstr_loss 477.972\n",
      "step 1600, training accuracy 1, consistency loss : 0.440905, code_loss 0.810264, reconstr_loss 473.179\n",
      "step 1700, training accuracy 0.98, consistency loss : 0.432893, code_loss 0.774088, reconstr_loss 469.94\n",
      "step 1800, training accuracy 0.98, consistency loss : 0.43167, code_loss 0.756929, reconstr_loss 464.555\n",
      "step 1900, training accuracy 0.96, consistency loss : 0.434191, code_loss 0.699966, reconstr_loss 460.495\n",
      "step 2000, training accuracy 1, consistency loss : 0.458811, code_loss 0.782104, reconstr_loss 457.932\n",
      "step 2100, training accuracy 0.98, consistency loss : 0.412912, code_loss 0.769596, reconstr_loss 453.135\n",
      "step 2200, training accuracy 1, consistency loss : 0.49065, code_loss 0.747809, reconstr_loss 449.225\n",
      "step 2300, training accuracy 0.98, consistency loss : 0.428598, code_loss 0.76154, reconstr_loss 441.851\n",
      "step 2400, training accuracy 0.98, consistency loss : 0.410753, code_loss 0.778635, reconstr_loss 438.827\n",
      "step 2500, training accuracy 1, consistency loss : 0.494351, code_loss 0.7258, reconstr_loss 435.669\n",
      "step 2600, training accuracy 1, consistency loss : 0.458097, code_loss 0.766803, reconstr_loss 434.346\n",
      "step 2700, training accuracy 1, consistency loss : 0.435246, code_loss 0.802322, reconstr_loss 431.514\n",
      "step 2800, training accuracy 0.98, consistency loss : 0.445061, code_loss 0.736457, reconstr_loss 422.001\n",
      "step 2900, training accuracy 1, consistency loss : 0.45059, code_loss 0.780614, reconstr_loss 420.747\n",
      "step 3000, training accuracy 1, consistency loss : 0.448773, code_loss 0.781821, reconstr_loss 417.869\n",
      "step 3100, training accuracy 0.96, consistency loss : 0.419367, code_loss 0.706304, reconstr_loss 415.341\n",
      "step 3200, training accuracy 1, consistency loss : 0.469908, code_loss 0.755224, reconstr_loss 408.086\n",
      "step 3300, training accuracy 1, consistency loss : 0.47696, code_loss 0.737921, reconstr_loss 409.567\n",
      "step 3400, training accuracy 0.98, consistency loss : 0.481954, code_loss 0.692483, reconstr_loss 402.403\n",
      "step 3500, training accuracy 1, consistency loss : 0.463274, code_loss 0.751063, reconstr_loss 402.514\n",
      "step 3600, training accuracy 1, consistency loss : 0.440931, code_loss 0.783519, reconstr_loss 396.585\n",
      "step 3700, training accuracy 0.98, consistency loss : 0.435198, code_loss 0.737728, reconstr_loss 395.12\n",
      "step 3800, training accuracy 1, consistency loss : 0.501783, code_loss 0.717468, reconstr_loss 386.814\n",
      "step 3900, training accuracy 1, consistency loss : 0.504862, code_loss 0.720265, reconstr_loss 386.035\n",
      "step 4000, training accuracy 0.98, consistency loss : 0.421777, code_loss 0.747775, reconstr_loss 383.463\n",
      "step 4100, training accuracy 1, consistency loss : 0.457837, code_loss 0.768589, reconstr_loss 380.788\n",
      "step 4200, training accuracy 1, consistency loss : 0.459656, code_loss 0.7657, reconstr_loss 379.571\n",
      "step 4300, training accuracy 0.96, consistency loss : 0.458885, code_loss 0.670287, reconstr_loss 372.07\n",
      "step 4400, training accuracy 1, consistency loss : 0.465267, code_loss 0.770597, reconstr_loss 374.469\n",
      "step 4500, training accuracy 0.98, consistency loss : 0.469918, code_loss 0.686127, reconstr_loss 366.102\n",
      "step 4600, training accuracy 1, consistency loss : 0.472152, code_loss 0.759564, reconstr_loss 371.056\n",
      "step 4700, training accuracy 1, consistency loss : 0.455094, code_loss 0.766075, reconstr_loss 360.832\n",
      "step 4800, training accuracy 1, consistency loss : 0.441705, code_loss 0.784676, reconstr_loss 360.642\n",
      "step 4900, training accuracy 1, consistency loss : 0.479192, code_loss 0.741487, reconstr_loss 357.753\n",
      "step 5000, training accuracy 1, consistency loss : 0.44896, code_loss 0.769009, reconstr_loss 355.652\n",
      "step 5100, training accuracy 1, consistency loss : 0.456354, code_loss 0.783882, reconstr_loss 354.619\n",
      "step 5200, training accuracy 1, consistency loss : 0.452837, code_loss 0.758859, reconstr_loss 349.725\n",
      "step 5300, training accuracy 1, consistency loss : 0.46679, code_loss 0.744241, reconstr_loss 344.539\n",
      "step 5400, training accuracy 1, consistency loss : 0.436591, code_loss 0.783906, reconstr_loss 342.911\n",
      "step 5500, training accuracy 1, consistency loss : 0.443327, code_loss 0.780377, reconstr_loss 337.472\n",
      "step 5600, training accuracy 0.98, consistency loss : 0.483879, code_loss 0.694117, reconstr_loss 335.626\n",
      "step 5700, training accuracy 1, consistency loss : 0.456178, code_loss 0.761273, reconstr_loss 338.383\n",
      "step 5800, training accuracy 1, consistency loss : 0.424105, code_loss 0.791673, reconstr_loss 329.493\n",
      "step 5900, training accuracy 1, consistency loss : 0.428634, code_loss 0.787067, reconstr_loss 334.461\n",
      "step 6000, training accuracy 1, consistency loss : 0.488056, code_loss 0.722265, reconstr_loss 325.093\n",
      "step 6100, training accuracy 1, consistency loss : 0.44909, code_loss 0.767084, reconstr_loss 325.93\n",
      "step 6200, training accuracy 0.98, consistency loss : 0.453916, code_loss 0.714143, reconstr_loss 322.008\n",
      "step 6300, training accuracy 1, consistency loss : 0.44197, code_loss 0.78839, reconstr_loss 323.083\n",
      "step 6400, training accuracy 1, consistency loss : 0.461705, code_loss 0.75631, reconstr_loss 322.956\n",
      "step 6500, training accuracy 1, consistency loss : 0.448838, code_loss 0.764256, reconstr_loss 322.419\n",
      "step 6600, training accuracy 1, consistency loss : 0.460779, code_loss 0.751451, reconstr_loss 313.18\n",
      "step 6700, training accuracy 0.98, consistency loss : 0.453332, code_loss 0.714912, reconstr_loss 315.8\n",
      "step 6800, training accuracy 1, consistency loss : 0.467881, code_loss 0.747903, reconstr_loss 312.197\n",
      "step 6900, training accuracy 1, consistency loss : 0.440899, code_loss 0.780004, reconstr_loss 304.963\n",
      "step 7000, training accuracy 0.98, consistency loss : 0.469566, code_loss 0.693514, reconstr_loss 305.863\n",
      "step 7100, training accuracy 1, consistency loss : 0.447492, code_loss 0.762532, reconstr_loss 303.655\n",
      "step 7200, training accuracy 1, consistency loss : 0.487139, code_loss 0.722894, reconstr_loss 302.696\n",
      "step 7300, training accuracy 1, consistency loss : 0.450021, code_loss 0.766466, reconstr_loss 300.171\n",
      "step 7400, training accuracy 1, consistency loss : 0.45218, code_loss 0.762054, reconstr_loss 301.16\n",
      "step 7500, training accuracy 1, consistency loss : 0.456958, code_loss 0.752168, reconstr_loss 293.334\n",
      "step 7600, training accuracy 1, consistency loss : 0.474881, code_loss 0.737013, reconstr_loss 296.373\n",
      "step 7700, training accuracy 1, consistency loss : 0.457152, code_loss 0.756065, reconstr_loss 295.911\n",
      "step 7800, training accuracy 1, consistency loss : 0.445345, code_loss 0.767076, reconstr_loss 291.022\n",
      "step 7900, training accuracy 1, consistency loss : 0.445333, code_loss 0.776533, reconstr_loss 287.115\n"
     ]
    },
    {
     "name": "stdout",
     "output_type": "stream",
     "text": [
      "step 8000, training accuracy 1, consistency loss : 0.459303, code_loss 0.752703, reconstr_loss 282.257\n",
      "step 8100, training accuracy 1, consistency loss : 0.442037, code_loss 0.781355, reconstr_loss 286.358\n",
      "step 8200, training accuracy 1, consistency loss : 0.468671, code_loss 0.743004, reconstr_loss 280.726\n",
      "step 8300, training accuracy 1, consistency loss : 0.455671, code_loss 0.754676, reconstr_loss 285.906\n",
      "step 8400, training accuracy 1, consistency loss : 0.437628, code_loss 0.784845, reconstr_loss 271.192\n",
      "step 8500, training accuracy 1, consistency loss : 0.466589, code_loss 0.743969, reconstr_loss 275.507\n",
      "step 8600, training accuracy 1, consistency loss : 0.450002, code_loss 0.770517, reconstr_loss 281.849\n",
      "step 8700, training accuracy 0.98, consistency loss : 0.453451, code_loss 0.706267, reconstr_loss 285.341\n",
      "step 8800, training accuracy 1, consistency loss : 0.465583, code_loss 0.747024, reconstr_loss 268.8\n",
      "step 8900, training accuracy 1, consistency loss : 0.478524, code_loss 0.731504, reconstr_loss 275.705\n",
      "step 9000, training accuracy 1, consistency loss : 0.427437, code_loss 0.785064, reconstr_loss 266.421\n",
      "step 9100, training accuracy 1, consistency loss : 0.447757, code_loss 0.759995, reconstr_loss 278.683\n",
      "step 9200, training accuracy 1, consistency loss : 0.458499, code_loss 0.753794, reconstr_loss 275.732\n",
      "step 9300, training accuracy 1, consistency loss : 0.465005, code_loss 0.7464, reconstr_loss 266.64\n",
      "step 9400, training accuracy 1, consistency loss : 0.464729, code_loss 0.744406, reconstr_loss 262.521\n",
      "step 9500, training accuracy 1, consistency loss : 0.452227, code_loss 0.756017, reconstr_loss 256.952\n",
      "step 9600, training accuracy 1, consistency loss : 0.451583, code_loss 0.760693, reconstr_loss 260.33\n",
      "step 9700, training accuracy 1, consistency loss : 0.434202, code_loss 0.779808, reconstr_loss 257.815\n",
      "step 9800, training accuracy 1, consistency loss : 0.473338, code_loss 0.743193, reconstr_loss 263.323\n",
      "step 9900, training accuracy 1, consistency loss : 0.440536, code_loss 0.773983, reconstr_loss 263.661\n",
      "step 10000, training accuracy 1, consistency loss : 0.450681, code_loss 0.765038, reconstr_loss 251.917\n",
      "step 10100, training accuracy 1, consistency loss : 0.47235, code_loss 0.735949, reconstr_loss 252.375\n",
      "step 10200, training accuracy 1, consistency loss : 0.448237, code_loss 0.76239, reconstr_loss 250.809\n",
      "step 10300, training accuracy 1, consistency loss : 0.452002, code_loss 0.758294, reconstr_loss 251.392\n",
      "step 10400, training accuracy 1, consistency loss : 0.446724, code_loss 0.76705, reconstr_loss 245.225\n",
      "step 10500, training accuracy 1, consistency loss : 0.462475, code_loss 0.752148, reconstr_loss 263.347\n",
      "step 10600, training accuracy 1, consistency loss : 0.45944, code_loss 0.752457, reconstr_loss 239.032\n",
      "step 10700, training accuracy 1, consistency loss : 0.447109, code_loss 0.763745, reconstr_loss 248.136\n",
      "step 10800, training accuracy 1, consistency loss : 0.457024, code_loss 0.752538, reconstr_loss 245.607\n",
      "step 10900, training accuracy 1, consistency loss : 0.45239, code_loss 0.755749, reconstr_loss 243.943\n",
      "step 11000, training accuracy 1, consistency loss : 0.451841, code_loss 0.761411, reconstr_loss 240.462\n",
      "step 11100, training accuracy 1, consistency loss : 0.463192, code_loss 0.746314, reconstr_loss 243.785\n",
      "step 11200, training accuracy 1, consistency loss : 0.449297, code_loss 0.759178, reconstr_loss 238.706\n",
      "step 11300, training accuracy 1, consistency loss : 0.447311, code_loss 0.760691, reconstr_loss 236.353\n",
      "step 11400, training accuracy 1, consistency loss : 0.437069, code_loss 0.772375, reconstr_loss 242.126\n",
      "step 11500, training accuracy 1, consistency loss : 0.438203, code_loss 0.771983, reconstr_loss 240.456\n",
      "step 11600, training accuracy 1, consistency loss : 0.446592, code_loss 0.760808, reconstr_loss 240.601\n",
      "step 11700, training accuracy 1, consistency loss : 0.456548, code_loss 0.751841, reconstr_loss 230.147\n",
      "step 11800, training accuracy 1, consistency loss : 0.47676, code_loss 0.733457, reconstr_loss 231.723\n",
      "step 11900, training accuracy 1, consistency loss : 0.445844, code_loss 0.765158, reconstr_loss 228.925\n",
      "step 12000, training accuracy 1, consistency loss : 0.457592, code_loss 0.75018, reconstr_loss 218.528\n",
      "step 12100, training accuracy 1, consistency loss : 0.454702, code_loss 0.754312, reconstr_loss 228.914\n",
      "step 12200, training accuracy 1, consistency loss : 0.463414, code_loss 0.746053, reconstr_loss 234.562\n",
      "step 12300, training accuracy 1, consistency loss : 0.462284, code_loss 0.747007, reconstr_loss 220.974\n",
      "step 12400, training accuracy 1, consistency loss : 0.464476, code_loss 0.742775, reconstr_loss 226.254\n",
      "step 12500, training accuracy 1, consistency loss : 0.453198, code_loss 0.752059, reconstr_loss 215.265\n",
      "step 12600, training accuracy 1, consistency loss : 0.467877, code_loss 0.738071, reconstr_loss 232.98\n",
      "step 12700, training accuracy 1, consistency loss : 0.458521, code_loss 0.748439, reconstr_loss 221.858\n",
      "step 12800, training accuracy 1, consistency loss : 0.466384, code_loss 0.745009, reconstr_loss 225.782\n",
      "step 12900, training accuracy 1, consistency loss : 0.468128, code_loss 0.741386, reconstr_loss 218.094\n",
      "step 13000, training accuracy 1, consistency loss : 0.454598, code_loss 0.757677, reconstr_loss 223.234\n",
      "step 13100, training accuracy 1, consistency loss : 0.45059, code_loss 0.758145, reconstr_loss 223.101\n",
      "step 13200, training accuracy 1, consistency loss : 0.481018, code_loss 0.726143, reconstr_loss 228.089\n",
      "step 13300, training accuracy 1, consistency loss : 0.454047, code_loss 0.753743, reconstr_loss 221.448\n",
      "step 13400, training accuracy 1, consistency loss : 0.458555, code_loss 0.74938, reconstr_loss 213.925\n",
      "step 13500, training accuracy 1, consistency loss : 0.459119, code_loss 0.747083, reconstr_loss 220.142\n",
      "step 13600, training accuracy 1, consistency loss : 0.470983, code_loss 0.73634, reconstr_loss 226.77\n",
      "step 13700, training accuracy 1, consistency loss : 0.451576, code_loss 0.754618, reconstr_loss 216.095\n",
      "step 13800, training accuracy 1, consistency loss : 0.46617, code_loss 0.740927, reconstr_loss 227.771\n",
      "step 13900, training accuracy 1, consistency loss : 0.465038, code_loss 0.741866, reconstr_loss 220.003\n",
      "step 14000, training accuracy 1, consistency loss : 0.44825, code_loss 0.759578, reconstr_loss 221.719\n",
      "step 14100, training accuracy 1, consistency loss : 0.44794, code_loss 0.760191, reconstr_loss 215.344\n",
      "step 14200, training accuracy 1, consistency loss : 0.445473, code_loss 0.760323, reconstr_loss 210.292\n",
      "step 14300, training accuracy 1, consistency loss : 0.454321, code_loss 0.751889, reconstr_loss 211.157\n",
      "step 14400, training accuracy 1, consistency loss : 0.462654, code_loss 0.742687, reconstr_loss 217.398\n",
      "step 14500, training accuracy 1, consistency loss : 0.455306, code_loss 0.750329, reconstr_loss 213.689\n",
      "step 14600, training accuracy 1, consistency loss : 0.446969, code_loss 0.758556, reconstr_loss 208.077\n",
      "step 14700, training accuracy 1, consistency loss : 0.45377, code_loss 0.752961, reconstr_loss 212.638\n",
      "step 14800, training accuracy 1, consistency loss : 0.442759, code_loss 0.7649, reconstr_loss 212.519\n",
      "step 14900, training accuracy 1, consistency loss : 0.458071, code_loss 0.747341, reconstr_loss 207.084\n",
      "step 15000, training accuracy 1, consistency loss : 0.449339, code_loss 0.756857, reconstr_loss 212.226\n",
      "step 15100, training accuracy 1, consistency loss : 0.442858, code_loss 0.766648, reconstr_loss 206.261\n",
      "step 15200, training accuracy 1, consistency loss : 0.454928, code_loss 0.766574, reconstr_loss 208.984\n",
      "step 15300, training accuracy 1, consistency loss : 0.430204, code_loss 0.777349, reconstr_loss 217.001\n",
      "step 15400, training accuracy 1, consistency loss : 0.460028, code_loss 0.746752, reconstr_loss 213.413\n",
      "step 15500, training accuracy 1, consistency loss : 0.459654, code_loss 0.748343, reconstr_loss 207.483\n",
      "step 15600, training accuracy 1, consistency loss : 0.457679, code_loss 0.74893, reconstr_loss 209.191\n",
      "step 15700, training accuracy 1, consistency loss : 0.459653, code_loss 0.745132, reconstr_loss 206.841\n",
      "step 15800, training accuracy 0.98, consistency loss : 0.462684, code_loss 0.679653, reconstr_loss 209.196\n",
      "step 15900, training accuracy 1, consistency loss : 0.46006, code_loss 0.745356, reconstr_loss 210.438\n"
     ]
    },
    {
     "name": "stdout",
     "output_type": "stream",
     "text": [
      "step 16000, training accuracy 1, consistency loss : 0.44479, code_loss 0.760324, reconstr_loss 198.167\n",
      "step 16100, training accuracy 1, consistency loss : 0.455786, code_loss 0.750142, reconstr_loss 210.007\n",
      "step 16200, training accuracy 1, consistency loss : 0.455217, code_loss 0.750424, reconstr_loss 204.489\n",
      "step 16300, training accuracy 1, consistency loss : 0.448898, code_loss 0.757095, reconstr_loss 208.679\n",
      "step 16400, training accuracy 1, consistency loss : 0.4602, code_loss 0.745673, reconstr_loss 193.329\n",
      "step 16500, training accuracy 1, consistency loss : 0.45759, code_loss 0.748731, reconstr_loss 204.745\n",
      "step 16600, training accuracy 1, consistency loss : 0.459419, code_loss 0.748539, reconstr_loss 202.996\n",
      "step 16700, training accuracy 1, consistency loss : 0.476185, code_loss 0.727906, reconstr_loss 206.513\n",
      "step 16800, training accuracy 1, consistency loss : 0.463005, code_loss 0.742511, reconstr_loss 212.809\n",
      "step 16900, training accuracy 1, consistency loss : 0.453242, code_loss 0.7526, reconstr_loss 194.389\n",
      "step 17000, training accuracy 1, consistency loss : 0.455946, code_loss 0.749031, reconstr_loss 201.065\n",
      "step 17100, training accuracy 1, consistency loss : 0.479993, code_loss 0.725286, reconstr_loss 206.202\n",
      "step 17200, training accuracy 1, consistency loss : 0.460442, code_loss 0.745189, reconstr_loss 205.916\n",
      "step 17300, training accuracy 1, consistency loss : 0.453017, code_loss 0.752723, reconstr_loss 213.467\n",
      "step 17400, training accuracy 1, consistency loss : 0.445657, code_loss 0.759119, reconstr_loss 199.615\n",
      "step 17500, training accuracy 1, consistency loss : 0.456433, code_loss 0.755411, reconstr_loss 195.261\n",
      "step 17600, training accuracy 1, consistency loss : 0.436703, code_loss 0.772133, reconstr_loss 186.398\n",
      "step 17700, training accuracy 1, consistency loss : 0.450696, code_loss 0.756841, reconstr_loss 196.462\n",
      "step 17800, training accuracy 1, consistency loss : 0.459517, code_loss 0.746025, reconstr_loss 187.593\n",
      "step 17900, training accuracy 1, consistency loss : 0.444214, code_loss 0.76188, reconstr_loss 202.91\n",
      "step 18000, training accuracy 1, consistency loss : 0.445082, code_loss 0.759717, reconstr_loss 202.28\n",
      "step 18100, training accuracy 1, consistency loss : 0.476266, code_loss 0.728877, reconstr_loss 199.278\n",
      "step 18200, training accuracy 1, consistency loss : 0.453953, code_loss 0.751068, reconstr_loss 196.634\n",
      "step 18300, training accuracy 1, consistency loss : 0.467425, code_loss 0.737655, reconstr_loss 197.132\n",
      "step 18400, training accuracy 1, consistency loss : 0.433756, code_loss 0.773152, reconstr_loss 189.425\n",
      "step 18500, training accuracy 1, consistency loss : 0.453094, code_loss 0.753614, reconstr_loss 198.048\n",
      "step 18600, training accuracy 1, consistency loss : 0.467764, code_loss 0.736671, reconstr_loss 200.938\n",
      "step 18700, training accuracy 1, consistency loss : 0.453441, code_loss 0.752891, reconstr_loss 203.222\n",
      "step 18800, training accuracy 1, consistency loss : 0.467946, code_loss 0.739316, reconstr_loss 208.753\n",
      "step 18900, training accuracy 1, consistency loss : 0.452174, code_loss 0.752309, reconstr_loss 192.563\n",
      "step 19000, training accuracy 1, consistency loss : 0.449164, code_loss 0.755979, reconstr_loss 191.259\n",
      "step 19100, training accuracy 1, consistency loss : 0.471171, code_loss 0.733234, reconstr_loss 193.058\n",
      "step 19200, training accuracy 1, consistency loss : 0.466378, code_loss 0.73908, reconstr_loss 199.395\n",
      "step 19300, training accuracy 1, consistency loss : 0.45483, code_loss 0.749348, reconstr_loss 191.819\n",
      "step 19400, training accuracy 1, consistency loss : 0.483931, code_loss 0.723153, reconstr_loss 195.128\n",
      "step 19500, training accuracy 1, consistency loss : 0.463951, code_loss 0.742827, reconstr_loss 194.43\n",
      "step 19600, training accuracy 1, consistency loss : 0.476211, code_loss 0.729422, reconstr_loss 181.713\n",
      "step 19700, training accuracy 1, consistency loss : 0.451868, code_loss 0.753142, reconstr_loss 184.127\n",
      "step 19800, training accuracy 1, consistency loss : 0.457247, code_loss 0.747679, reconstr_loss 191.632\n",
      "step 19900, training accuracy 1, consistency loss : 0.463892, code_loss 0.740968, reconstr_loss 199.371\n"
     ]
    }
   ],
   "source": [
    "for i in range(20000):\n",
    "    batch = mnist.train.next_batch(50)\n",
    "    #print(reward.eval(feed_dict={x: batch[0], y_: batch[1]}))\n",
    "    if i % 100 == 0:\n",
    "        train_accuracy = accuracy.eval(feed_dict={x: batch[0], y_: batch[1]}) #, keep_prob: 1.0})\n",
    "        consistency_loss = np.mean(KL.eval(feed_dict={x: batch[0], y_: batch[1]})) #, keep_prob: 1.0})\n",
    "        code_loss = np.mean(cross_entropy_loss.eval(feed_dict={x: batch[0], y_: batch[1]})) #, keep_prob: 1.0})\n",
    "        reco_loss = np.mean(reconstruction_loss.eval(feed_dict={x: batch[0], y_: batch[1]})) #, keep_prob: 1.0})\n",
    "        print('step %d, training accuracy %g, consistency loss : %g, code_loss %g, reconstr_loss %g' % (i, train_accuracy, consistency_loss, code_loss,  reco_loss))\n",
    "    train_step.run(feed_dict={x: batch[0], y_: batch[1]}) #, keep_prob: 0.5})\n",
    "\n"
   ]
  },
  {
   "cell_type": "code",
   "execution_count": 1,
   "metadata": {},
   "outputs": [
    {
     "ename": "NameError",
     "evalue": "name 'indices' is not defined",
     "output_type": "error",
     "traceback": [
      "\u001b[0;31m---------------------------------------------------------------------------\u001b[0m",
      "\u001b[0;31mNameError\u001b[0m                                 Traceback (most recent call last)",
      "\u001b[0;32m<ipython-input-1-553cbe714639>\u001b[0m in \u001b[0;36m<module>\u001b[0;34m()\u001b[0m\n\u001b[1;32m      1\u001b[0m \u001b[0;31m#cross_entropy_loss.eval(feed_dict={x: batch[0], y_: batch[1]})\u001b[0m\u001b[0;34m\u001b[0m\u001b[0;34m\u001b[0m\u001b[0m\n\u001b[0;32m----> 2\u001b[0;31m \u001b[0mindices\u001b[0m\u001b[0;34m.\u001b[0m\u001b[0meval\u001b[0m\u001b[0;34m(\u001b[0m\u001b[0mfeed_dict\u001b[0m\u001b[0;34m=\u001b[0m\u001b[0;34m{\u001b[0m\u001b[0mx\u001b[0m\u001b[0;34m:\u001b[0m \u001b[0mbatch\u001b[0m\u001b[0;34m[\u001b[0m\u001b[0;36m0\u001b[0m\u001b[0;34m]\u001b[0m\u001b[0;34m,\u001b[0m \u001b[0my_\u001b[0m\u001b[0;34m:\u001b[0m \u001b[0mbatch\u001b[0m\u001b[0;34m[\u001b[0m\u001b[0;36m1\u001b[0m\u001b[0;34m]\u001b[0m\u001b[0;34m}\u001b[0m\u001b[0;34m)\u001b[0m\u001b[0;34m\u001b[0m\u001b[0m\n\u001b[0m",
      "\u001b[0;31mNameError\u001b[0m: name 'indices' is not defined"
     ]
    }
   ],
   "source": [
    "#cross_entropy_loss.eval(feed_dict={x: batch[0], y_: batch[1]})\n",
    "indices.eval(feed_dict={x: batch[0], y_: batch[1]})"
   ]
  },
  {
   "cell_type": "code",
   "execution_count": 104,
   "metadata": {},
   "outputs": [
    {
     "name": "stdout",
     "output_type": "stream",
     "text": [
      "test accuracy 0.994\n"
     ]
    }
   ],
   "source": [
    "print('test accuracy %g' % accuracy.eval(feed_dict={x: mnist.test.images, y_: mnist.test.labels}))\n"
   ]
  },
  {
   "cell_type": "code",
   "execution_count": 111,
   "metadata": {},
   "outputs": [
    {
     "data": {
      "text/plain": [
       "<matplotlib.image.AxesImage at 0x7f3edea26b50>"
      ]
     },
     "execution_count": 111,
     "metadata": {},
     "output_type": "execute_result"
    },
    {
     "data": {
      "image/png": "[encoded data removed]",
      "text/plain": [
       "<matplotlib.figure.Figure at 0x7f3edecf8e50>"
      ]
     },
     "metadata": {},
     "output_type": "display_data"
    }
   ],
   "source": [
    "%matplotlib inline\n",
    "import matplotlib.pyplot as plt\n",
    "code = sess.run(tf.nn.softmax(y_logit), feed_dict={x: batch[0], y_: batch[1]})\n",
    "pred = sess.run(x_gen, feed_dict={x: batch[0], y_: batch[1]})\n",
    "i = 5\n",
    "plt.figure(figsize=(20,10))\n",
    "plt.subplot(1,3,1)\n",
    "plt.imshow(np.reshape(batch[0][i],(28, 28)))\n",
    "plt.subplot(1,3,2)\n",
    "plt.plot(code[i])\n",
    "plt.subplot(1,3,3)\n",
    "plt.imshow(np.reshape(pred[i],(28, 28)))\n",
    "\n"
   ]
  },
  {
   "cell_type": "code",
   "execution_count": null,
   "metadata": {},
   "outputs": [],
   "source": [
    "reward"
   ]
  },
  {
   "cell_type": "code",
   "execution_count": null,
   "metadata": {},
   "outputs": [],
   "source": [
    "sess.run((tf.multinomial(y_logit, 1)[:,0], indices), feed_dict={x: batch[0], y_: batch[1]})"
   ]
  },
  {
   "cell_type": "code",
   "execution_count": null,
   "metadata": {},
   "outputs": [],
   "source": [
    "-np.log(0.1)"
   ]
  },
  {
   "cell_type": "code",
   "execution_count": null,
   "metadata": {},
   "outputs": [],
   "source": []
  }
 ],
 "metadata": {
  "kernelspec": {
   "display_name": "Python 2",
   "language": "python",
   "name": "python2"
  },
  "language_info": {
   "codemirror_mode": {
    "name": "ipython",
    "version": 2
   },
   "file_extension": ".py",
   "mimetype": "text/x-python",
   "name": "python",
   "nbconvert_exporter": "python",
   "pygments_lexer": "ipython2",
   "version": "2.7.13"
  }
 },
 "nbformat": 4,
 "nbformat_minor": 2
}
