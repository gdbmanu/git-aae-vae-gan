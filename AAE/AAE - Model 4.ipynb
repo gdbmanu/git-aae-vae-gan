{
 "cells": [
  {
   "cell_type": "code",
   "execution_count": 1,
   "metadata": {},
   "outputs": [],
   "source": [
    "%matplotlib inline"
   ]
  },
  {
   "cell_type": "code",
   "execution_count": 2,
   "metadata": {},
   "outputs": [],
   "source": [
    "import tensorflow as tf\n",
    "import matplotlib.pyplot as plt\n",
    "import numpy as np\n",
    "import sys\n",
    "import math\n",
    "import pickle"
   ]
  },
  {
   "cell_type": "code",
   "execution_count": 3,
   "metadata": {},
   "outputs": [
    {
     "name": "stdout",
     "output_type": "stream",
     "text": [
      "Extracting MNIST_data/train-images-idx3-ubyte.gz\n",
      "Extracting MNIST_data/train-labels-idx1-ubyte.gz\n",
      "Extracting MNIST_data/t10k-images-idx3-ubyte.gz\n",
      "Extracting MNIST_data/t10k-labels-idx1-ubyte.gz\n"
     ]
    }
   ],
   "source": [
    "from tensorflow.examples.tutorials.mnist import input_data\n",
    "mnist = input_data.read_data_sets(\"MNIST_data/\", one_hot=True)"
   ]
  },
  {
   "cell_type": "code",
   "execution_count": 4,
   "metadata": {},
   "outputs": [],
   "source": [
    "class Obj:\n",
    "    pass"
   ]
  },
  {
   "cell_type": "code",
   "execution_count": 5,
   "metadata": {},
   "outputs": [],
   "source": [
    "params = Obj()\n",
    "params.input_dim = 784\n",
    "params.n_l1 = 1000\n",
    "params.n_l2 = 1000\n",
    "params.n_labels = 10\n",
    "params.z_dim = 15\n",
    "params.batch_size = 100\n",
    "params.n_epochs = 1000\n",
    "params.learning_rate = 0.0002\n",
    "params.beta1 = 0.5"
   ]
  },
  {
   "cell_type": "code",
   "execution_count": 6,
   "metadata": {},
   "outputs": [],
   "source": [
    "results_path = './Results/Autoencoder'"
   ]
  },
  {
   "cell_type": "code",
   "execution_count": 7,
   "metadata": {},
   "outputs": [],
   "source": [
    "def dense(x, n1, n2, name, stddev = .1):\n",
    "    \"\"\"\n",
    "    Used to create a dense layer.\n",
    "    :param x: input tensor to the dense layer\n",
    "    :param n1: no. of input neurons\n",
    "    :param n2: no. of output neurons\n",
    "    :param name: name of the entire dense layer.i.e, variable scope name.\n",
    "    :return: tensor with shape [batch_size, n2]\n",
    "    \"\"\"\n",
    "    with tf.variable_scope(name, reuse=None):\n",
    "        #xav_stddev = np.sqrt(2 / (n1 + n2))\n",
    "        xav_stddev = stddev * np.sqrt( 1. / n1)\n",
    "        #xav_stddev_b = np.sqrt(2 / n2)\n",
    "        xav_stddev_b = stddev\n",
    "        weights = tf.get_variable(\"weights\", shape=[n1, n2],\n",
    "                                  initializer=tf.random_normal_initializer(mean=0., stddev=xav_stddev))\n",
    "        #bias = tf.get_variable(\"bias\", shape=[n2], initializer=tf.constant_initializer(0.0))\n",
    "        bias = tf.get_variable(\"bias\", shape=[n2], initializer=tf.random_normal_initializer(mean=0., stddev=xav_stddev_b))\n",
    "        matmul = tf.add(tf.matmul(x, weights), bias, name='matmul')\n",
    "    return matmul"
   ]
  },
  {
   "cell_type": "code",
   "execution_count": 8,
   "metadata": {},
   "outputs": [],
   "source": [
    "def encoder(x, params, reuse=False):\n",
    "    \"\"\"\n",
    "    Encode part of the autoencoder\n",
    "    :param x: input to the autoencoder\n",
    "    :param reuse: True -> Reuse the encoder variables, False -> Create or search of variables before creating\n",
    "    :return: tensor which is the hidden latent variable of the autoencoder.\n",
    "    \"\"\"\n",
    "    if reuse:\n",
    "        tf.get_variable_scope().reuse_variables()\n",
    "    with tf.name_scope('Encoder'):\n",
    "        e_dense_1 = tf.nn.relu(dense(x, params.input_dim, params.n_l1, 'e_dense_1'))\n",
    "        e_dense_2 = tf.nn.relu(dense(e_dense_1, params.n_l1, params.n_l2, 'e_dense_2'))\n",
    "        e_latent_variable = dense(e_dense_2, params.n_l2, params.z_dim, 'e_latent_variable')\n",
    "        e_label = dense(e_dense_2, params.n_l2, params.n_labels, 'e_label')\n",
    "    return e_label, e_latent_variable"
   ]
  },
  {
   "cell_type": "code",
   "execution_count": 9,
   "metadata": {},
   "outputs": [],
   "source": [
    "def decoder(x, params, reuse=False):\n",
    "    \"\"\"\n",
    "    Decoder part of the autoencoder\n",
    "    :param x: input to the decoder\n",
    "    :param reuse: True -> Reuse the decoder variables, False -> Create or search of variables before creating\n",
    "    :return: tensor which should ideally be the input given to the encoder.\n",
    "    \"\"\"\n",
    "    if reuse:\n",
    "        tf.get_variable_scope().reuse_variables()\n",
    "    with tf.name_scope('Decoder'):\n",
    "        d_dense_1 = tf.nn.relu(dense(x, params.n_labels + params.z_dim, params.n_l2, 'd_dense_1'))\n",
    "        d_dense_2 = tf.nn.relu(dense(d_dense_1, params.n_l2, params.n_l1, 'd_dense_2'))\n",
    "        #output = tf.nn.sigmoid(dense(d_dense_2, params.n_l1, params.input_dim, 'd_output'))\n",
    "        d_output = dense(d_dense_2, params.n_l1, params.input_dim, 'd_output')\n",
    "        return d_output"
   ]
  },
  {
   "cell_type": "code",
   "execution_count": 10,
   "metadata": {},
   "outputs": [],
   "source": [
    "def discriminator_gauss(x, params, reuse=False):\n",
    "    \"\"\"\n",
    "    Discriminator that is used to match the posterior distribution with a given prior distribution.\n",
    "    :param x: tensor of shape [batch_size, z_dim]\n",
    "    :param reuse: True -> Reuse the discriminator variables,\n",
    "                  False -> Create or search of variables before creating\n",
    "    :return: tensor of shape [batch_size, 1]\n",
    "    \"\"\"\n",
    "    if reuse:\n",
    "        tf.get_variable_scope().reuse_variables()\n",
    "    with tf.name_scope('Discriminator_Gauss'):\n",
    "        dc_g_dense_1 = tf.nn.relu(dense(x, params.z_dim, params.n_l1, name='dc_g_dense_1'))\n",
    "        dc_g_dense_2 = tf.nn.relu(dense(dc_g_dense_1, params.n_l1, params.n_l2, name='dc_g_dense_2'))\n",
    "        dc_g_output = dense(dc_g_dense_2, params.n_l2, 1, name='dc_g_output')\n",
    "    return dc_g_output"
   ]
  },
  {
   "cell_type": "code",
   "execution_count": 11,
   "metadata": {},
   "outputs": [],
   "source": [
    "def discriminator_categorical(x, params, reuse=False):\n",
    "    \"\"\"\n",
    "    Discriminator that is used to match the posterior distribution with a given prior distribution.\n",
    "    :param x: tensor of shape [batch_size, z_dim]\n",
    "    :param reuse: True -> Reuse the discriminator variables,\n",
    "                  False -> Create or search of variables before creating\n",
    "    :return: tensor of shape [batch_size, 1]\n",
    "    \"\"\"\n",
    "    if reuse:\n",
    "        tf.get_variable_scope().reuse_variables()\n",
    "    with tf.name_scope('Discriminator_Categorical'):\n",
    "        dc_c_dense_1 = tf.nn.relu(dense(x, params.n_labels, params.n_l1, name='dc_c_dense_1'))\n",
    "        dc_c_dense_2 = tf.nn.relu(dense(dc_c_dense_1, params.n_l1, params.n_l2, name='dc_c_dense_2'))\n",
    "        dc_c_output = dense(dc_c_dense_2, params.n_l2, 1, name='dc_c_output')\n",
    "    return dc_c_output"
   ]
  },
  {
   "cell_type": "code",
   "execution_count": 12,
   "metadata": {},
   "outputs": [],
   "source": [
    "x_input = tf.placeholder(dtype=tf.float32, shape=[params.batch_size, params.input_dim], name='Input')\n",
    "x_input_l = tf.placeholder(dtype=tf.float32, shape=[params.batch_size, params.input_dim], name='Labeled_Input')\n",
    "x_target = tf.placeholder(dtype=tf.float32, shape=[params.batch_size, params.input_dim], name='Target')\n",
    "y_label = tf.placeholder(dtype=tf.float32, shape=[params.batch_size, params.n_labels], name='Labels')\n",
    "real_distribution = tf.placeholder(dtype=tf.float32, shape=[params.batch_size, params.z_dim], name='Real_distribution')\n",
    "categorical_distribution = tf.placeholder(dtype=tf.float32, shape=[params.batch_size, params.n_labels], name='Categorical_distribution')\n",
    "decoder_input = tf.placeholder(dtype=tf.float32, shape=[1, params.n_labels + params.z_dim], name='Decoder_input')"
   ]
  },
  {
   "cell_type": "code",
   "execution_count": 13,
   "metadata": {},
   "outputs": [],
   "source": [
    "## phase 1"
   ]
  },
  {
   "cell_type": "code",
   "execution_count": 14,
   "metadata": {},
   "outputs": [],
   "source": [
    "with tf.variable_scope(tf.get_variable_scope()):\n",
    "    e_label_logit, e_latent_variable  = encoder(x_input, params)\n",
    "    #e_softmax_label = tf.nn.softmax(logits=e_label_logit, name='e_softmax_label')\n",
    "    e_softmax_label = tf.nn.sigmoid(e_label_logit, name='e_softmax_label')\n",
    "    d_output = decoder(tf.concat([e_softmax_label, e_latent_variable], 1), params) "
   ]
  },
  {
   "cell_type": "code",
   "execution_count": 15,
   "metadata": {},
   "outputs": [],
   "source": [
    "## phase 2"
   ]
  },
  {
   "cell_type": "code",
   "execution_count": 16,
   "metadata": {},
   "outputs": [],
   "source": [
    "with tf.variable_scope(tf.get_variable_scope()):\n",
    "    d_g_real = discriminator_gauss(real_distribution, params)\n",
    "    d_g_fake = discriminator_gauss(e_latent_variable, params, reuse=True)"
   ]
  },
  {
   "cell_type": "code",
   "execution_count": 17,
   "metadata": {},
   "outputs": [],
   "source": [
    "with tf.variable_scope(tf.get_variable_scope()):\n",
    "    d_c_real = discriminator_categorical(categorical_distribution, params)\n",
    "    d_c_fake = discriminator_categorical(e_softmax_label, params, reuse=True)"
   ]
  },
  {
   "cell_type": "code",
   "execution_count": 18,
   "metadata": {},
   "outputs": [],
   "source": [
    "#\" phase 3 (classifier)"
   ]
  },
  {
   "cell_type": "code",
   "execution_count": 19,
   "metadata": {},
   "outputs": [],
   "source": [
    "with tf.variable_scope(tf.get_variable_scope()):\n",
    "    e_label_logit_l, _ = encoder(x_input_l, params, reuse=True)\n",
    "    #e_softmax_label_l = tf.nn.softmax(logits=e_label_logit_l, name='e_softmax_label_l')\n",
    "    e_softmax_label_l = tf.nn.sigmoid(e_label_logit_l, name='e_softmax_label_l')"
   ]
  },
  {
   "cell_type": "code",
   "execution_count": 20,
   "metadata": {},
   "outputs": [],
   "source": [
    "with tf.variable_scope(tf.get_variable_scope()):\n",
    "    decoder_image = decoder(decoder_input, params, reuse=True)"
   ]
  },
  {
   "cell_type": "code",
   "execution_count": 21,
   "metadata": {},
   "outputs": [],
   "source": [
    "# Phase 1 autoencoder Loss\n",
    "\n",
    "autoencoder_loss = tf.reduce_sum(tf.nn.sigmoid_cross_entropy_with_logits(logits=d_output, labels=x_target), reduction_indices=1)\n",
    "\n",
    "# Phase 2 Discriminator Loss\n",
    "\n",
    "# Gaussian Discriminator Loss\n",
    "dc_g_loss_real = tf.reduce_mean(tf.nn.sigmoid_cross_entropy_with_logits(labels=tf.ones_like(d_g_real), logits=d_g_real))\n",
    "dc_g_loss_fake = tf.reduce_mean(tf.nn.sigmoid_cross_entropy_with_logits(labels=tf.zeros_like(d_g_fake), logits=d_g_fake))\n",
    "dc_g_loss = dc_g_loss_fake + dc_g_loss_real\n",
    "\n",
    "# Categorical Discrimminator Loss\n",
    "dc_c_loss_real = tf.reduce_mean(tf.nn.sigmoid_cross_entropy_with_logits(labels=tf.ones_like(d_c_real), logits=d_c_real))\n",
    "dc_c_loss_fake = tf.reduce_mean(tf.nn.sigmoid_cross_entropy_with_logits(labels=tf.zeros_like(d_c_fake), logits=d_c_fake))\n",
    "dc_c_loss = dc_c_loss_fake + dc_c_loss_real\n",
    "\n",
    "# Generator loss\n",
    "generator_g_loss_real = tf.reduce_mean(tf.nn.sigmoid_cross_entropy_with_logits(labels=tf.zeros_like(d_g_real), logits=d_g_real))\n",
    "generator_g_loss_fake = tf.reduce_mean(tf.nn.sigmoid_cross_entropy_with_logits(labels=tf.ones_like(d_g_fake), logits=d_g_fake))\n",
    "generator_g_loss = generator_g_loss_fake + generator_g_loss_real\n",
    "\n",
    "generator_c_loss_real = tf.reduce_mean(tf.nn.sigmoid_cross_entropy_with_logits(labels=tf.zeros_like(d_c_real), logits=d_c_real))\n",
    "generator_c_loss_fake = tf.reduce_mean(tf.nn.sigmoid_cross_entropy_with_logits(labels=tf.ones_like(d_c_fake), logits=d_c_fake))\n",
    "generator_c_loss = generator_c_loss_fake + generator_c_loss_real\n",
    "\n",
    "generator_loss = generator_c_loss + generator_g_loss\n",
    "\n",
    "# Phase 3 : classifier loss\n",
    "\n",
    "#supervised_encoder_loss = tf.reduce_mean(tf.nn.softmax_cross_entropy_with_logits(labels=y_label, logits=e_label_logit_l))\n",
    "supervised_encoder_loss = tf.reduce_sum(tf.nn.sigmoid_cross_entropy_with_logits(labels=y_label, logits=e_label_logit_l), reduction_indices=1)"
   ]
  },
  {
   "cell_type": "code",
   "execution_count": 22,
   "metadata": {},
   "outputs": [],
   "source": [
    "all_variables = tf.trainable_variables()\n",
    "dc_g_var = [var for var in all_variables if 'dc_g_' in var.name]\n",
    "dc_c_var = [var for var in all_variables if 'dc_c_' in var.name]\n",
    "en_var = [var for var in all_variables if 'e_' in var.name]"
   ]
  },
  {
   "cell_type": "code",
   "execution_count": 23,
   "metadata": {},
   "outputs": [],
   "source": [
    "# Optimizer\n",
    "\n",
    "# Phase 1\n",
    "decoder_optimizer = tf.train.AdamOptimizer(learning_rate=params.learning_rate,\\\n",
    "                                           beta1=params.beta1).minimize(autoencoder_loss)\n",
    "\n",
    "# Phase 2\n",
    "discriminator_optimizer_real_g = tf.train.AdamOptimizer(learning_rate=params.learning_rate,\\\n",
    "                                                        beta1=params.beta1).minimize(dc_g_loss_real,\\\n",
    "                                                                                     var_list=dc_g_var)\n",
    "discriminator_optimizer_fake_g = tf.train.AdamOptimizer(learning_rate=params.learning_rate,\\\n",
    "                                                        beta1=params.beta1).minimize(dc_g_loss_fake, \\\n",
    "                                                                                     var_list=dc_g_var)\n",
    "generator_optimizer_real_g = tf.train.AdamOptimizer(learning_rate=params.learning_rate,\\\n",
    "                                                    beta1=params.beta1).minimize(generator_g_loss_real, \\\n",
    "                                                                                 var_list=en_var)\n",
    "generator_optimizer_fake_g = tf.train.AdamOptimizer(learning_rate=params.learning_rate,\\\n",
    "                                                    beta1=params.beta1).minimize(generator_g_loss_fake, \\\n",
    "                                                                                 var_list=en_var)\n",
    "\n",
    "discriminator_optimizer_real_c = tf.train.AdamOptimizer(learning_rate=params.learning_rate,\\\n",
    "                                                        beta1=params.beta1).minimize(dc_c_loss_real, \\\n",
    "                                                                                     var_list=dc_c_var)\n",
    "discriminator_optimizer_fake_c = tf.train.AdamOptimizer(learning_rate=params.learning_rate,\\\n",
    "                                                        beta1=params.beta1).minimize(dc_c_loss_fake, \\\n",
    "                                                                                     var_list=dc_c_var)\n",
    "generator_optimizer_real_c = tf.train.AdamOptimizer(learning_rate=params.learning_rate,\\\n",
    "                                                    beta1=params.beta1).minimize(generator_c_loss_real, \\\n",
    "                                                                                 var_list=en_var)\n",
    "generator_optimizer_fake_c = tf.train.AdamOptimizer(learning_rate=params.learning_rate,\\\n",
    "                                                    beta1=params.beta1).minimize(generator_c_loss_fake, \\\n",
    "                                                                                 var_list=en_var)\n",
    "# Phase 3\n",
    "supervised_encoder_optimizer = tf.train.AdamOptimizer(learning_rate=params.learning_rate, \\\n",
    "                                                      beta1=params.beta1).minimize(supervised_encoder_loss, \\\n",
    "                                                                            var_list=en_var)"
   ]
  },
  {
   "cell_type": "code",
   "execution_count": 24,
   "metadata": {},
   "outputs": [],
   "source": [
    "# Evaluation\n",
    "#gen_accuracy = tf.sqrt(tf.reduce_mean(tf.square(x_target - tf.nn.sigmoid(decoder_output))))\n",
    "correct_prediction = tf.equal(tf.argmax(e_label_logit, 1), tf.argmax(y_label, 1))\n",
    "accuracy = tf.reduce_mean(tf.cast(correct_prediction, tf.float32))\n",
    "gen_accuracy = tf.sqrt(tf.reduce_mean(tf.square(x_target - tf.nn.sigmoid(d_output))))"
   ]
  },
  {
   "cell_type": "code",
   "execution_count": 25,
   "metadata": {},
   "outputs": [],
   "source": [
    "sess = tf.InteractiveSession()"
   ]
  },
  {
   "cell_type": "code",
   "execution_count": 26,
   "metadata": {},
   "outputs": [],
   "source": [
    "turn = 1\n",
    "if turn ==1:\n",
    "    sess.run(tf.global_variables_initializer())"
   ]
  },
  {
   "cell_type": "code",
   "execution_count": 27,
   "metadata": {},
   "outputs": [],
   "source": [
    "saver = tf.train.Saver()"
   ]
  },
  {
   "cell_type": "code",
   "execution_count": 28,
   "metadata": {},
   "outputs": [],
   "source": [
    "#saver.restore(sess, \"./AAE_Model4full_fullBase_alpha_1em4_beta1_9em1.ckpt\")"
   ]
  },
  {
   "cell_type": "code",
   "execution_count": 29,
   "metadata": {},
   "outputs": [],
   "source": [
    "def next_batch(params):\n",
    "    if FLAG_SEMI:\n",
    "        indices = np.arange(TEST_SIZE)\n",
    "        np.random.shuffle(indices)\n",
    "        batch_x, batch_y = subset_x[indices[:params.batch_size]], subset_y[indices[:params.batch_size]]\n",
    "    else:\n",
    "        batch_x, batch_y = mnist.train.next_batch(params.batch_size)\n",
    "    return batch_x, batch_y"
   ]
  },
  {
   "cell_type": "code",
   "execution_count": 30,
   "metadata": {},
   "outputs": [],
   "source": [
    "TEST_SIZE = 1000\n",
    "FLAG_SEMI = False\n",
    "FLAG_DECODE = True\n",
    "FLAG_CLASSIF = True\n",
    "FLAG_GAN = True\n",
    "\n",
    "#params.learning_rate = 0.0001\n",
    "#params.beta1 = 0.5\n",
    "\n",
    "mem = Obj()\n",
    "mem.num_epoch = []\n",
    "mem.classif_eval = []\n",
    "mem.decoder_eval = []\n",
    "mem.dc_g_eval = []\n",
    "mem.gen_g_eval =  []\n",
    "mem.dc_c_eval = []\n",
    "mem.gen_c_eval =  []\n",
    "\n",
    "if FLAG_SEMI :\n",
    "    subset_x, subset_y =  mnist.train.next_batch(TEST_SIZE)\n",
    "    "
   ]
  },
  {
   "cell_type": "code",
   "execution_count": 162,
   "metadata": {},
   "outputs": [
    {
     "name": "stdout",
     "output_type": "stream",
     "text": [
      "step 8840\t dec : 0.11843\t classif : 1.00000\tdiscr_g : 1.45275\t gen_g : 1.32332, discr_c : 1.40019\t gen_c : 1.40337"
     ]
    },
    {
     "ename": "KeyboardInterrupt",
     "evalue": "",
     "output_type": "error",
     "traceback": [
      "\u001b[0;31m---------------------------------------------------------------------------\u001b[0m",
      "\u001b[0;31mKeyboardInterrupt\u001b[0m                         Traceback (most recent call last)",
      "\u001b[0;32m<ipython-input-162-a5620e574922>\u001b[0m in \u001b[0;36m<module>\u001b[0;34m()\u001b[0m\n\u001b[1;32m     74\u001b[0m         \u001b[0;32mif\u001b[0m \u001b[0mFLAG_CLASSIF\u001b[0m\u001b[0;34m:\u001b[0m \u001b[0;31m# and num_epoch % 10 == 0: # pour eviter le surapprentissage sur petites bases\u001b[0m\u001b[0;34m\u001b[0m\u001b[0m\n\u001b[1;32m     75\u001b[0m             \u001b[0mbatch_x\u001b[0m\u001b[0;34m,\u001b[0m \u001b[0mbatch_y\u001b[0m \u001b[0;34m=\u001b[0m \u001b[0mnext_batch\u001b[0m\u001b[0;34m(\u001b[0m\u001b[0mparams\u001b[0m\u001b[0;34m)\u001b[0m\u001b[0;34m\u001b[0m\u001b[0m\n\u001b[0;32m---> 76\u001b[0;31m             \u001b[0msupervised_encoder_optimizer\u001b[0m\u001b[0;34m.\u001b[0m\u001b[0mrun\u001b[0m\u001b[0;34m(\u001b[0m\u001b[0mfeed_dict\u001b[0m\u001b[0;34m=\u001b[0m\u001b[0;34m{\u001b[0m\u001b[0mx_input_l\u001b[0m\u001b[0;34m:\u001b[0m \u001b[0mbatch_x\u001b[0m\u001b[0;34m,\u001b[0m \u001b[0my_label\u001b[0m\u001b[0;34m:\u001b[0m \u001b[0mbatch_y\u001b[0m\u001b[0;34m}\u001b[0m\u001b[0;34m)\u001b[0m\u001b[0;34m\u001b[0m\u001b[0m\n\u001b[0m\u001b[1;32m     77\u001b[0m \u001b[0;34m\u001b[0m\u001b[0m\n\u001b[1;32m     78\u001b[0m     \u001b[0;32mif\u001b[0m \u001b[0mFLAG_GAN\u001b[0m \u001b[0;34m:\u001b[0m\u001b[0;34m\u001b[0m\u001b[0m\n",
      "\u001b[0;32m/usr/local/lib/python3.5/dist-packages/tensorflow/python/framework/ops.py\u001b[0m in \u001b[0;36mrun\u001b[0;34m(self, feed_dict, session)\u001b[0m\n\u001b[1;32m   2040\u001b[0m         \u001b[0mnone\u001b[0m\u001b[0;34m,\u001b[0m \u001b[0mthe\u001b[0m \u001b[0mdefault\u001b[0m \u001b[0msession\u001b[0m \u001b[0mwill\u001b[0m \u001b[0mbe\u001b[0m \u001b[0mused\u001b[0m\u001b[0;34m.\u001b[0m\u001b[0;34m\u001b[0m\u001b[0m\n\u001b[1;32m   2041\u001b[0m     \"\"\"\n\u001b[0;32m-> 2042\u001b[0;31m     \u001b[0m_run_using_default_session\u001b[0m\u001b[0;34m(\u001b[0m\u001b[0mself\u001b[0m\u001b[0;34m,\u001b[0m \u001b[0mfeed_dict\u001b[0m\u001b[0;34m,\u001b[0m \u001b[0mself\u001b[0m\u001b[0;34m.\u001b[0m\u001b[0mgraph\u001b[0m\u001b[0;34m,\u001b[0m \u001b[0msession\u001b[0m\u001b[0;34m)\u001b[0m\u001b[0;34m\u001b[0m\u001b[0m\n\u001b[0m\u001b[1;32m   2043\u001b[0m \u001b[0;34m\u001b[0m\u001b[0m\n\u001b[1;32m   2044\u001b[0m \u001b[0m_gradient_registry\u001b[0m \u001b[0;34m=\u001b[0m \u001b[0mregistry\u001b[0m\u001b[0;34m.\u001b[0m\u001b[0mRegistry\u001b[0m\u001b[0;34m(\u001b[0m\u001b[0;34m\"gradient\"\u001b[0m\u001b[0;34m)\u001b[0m\u001b[0;34m\u001b[0m\u001b[0m\n",
      "\u001b[0;32m/usr/local/lib/python3.5/dist-packages/tensorflow/python/framework/ops.py\u001b[0m in \u001b[0;36m_run_using_default_session\u001b[0;34m(operation, feed_dict, graph, session)\u001b[0m\n\u001b[1;32m   4488\u001b[0m                        \u001b[0;34m\"the operation's graph is different from the session's \"\u001b[0m\u001b[0;34m\u001b[0m\u001b[0m\n\u001b[1;32m   4489\u001b[0m                        \"graph.\")\n\u001b[0;32m-> 4490\u001b[0;31m   \u001b[0msession\u001b[0m\u001b[0;34m.\u001b[0m\u001b[0mrun\u001b[0m\u001b[0;34m(\u001b[0m\u001b[0moperation\u001b[0m\u001b[0;34m,\u001b[0m \u001b[0mfeed_dict\u001b[0m\u001b[0;34m)\u001b[0m\u001b[0;34m\u001b[0m\u001b[0m\n\u001b[0m\u001b[1;32m   4491\u001b[0m \u001b[0;34m\u001b[0m\u001b[0m\n\u001b[1;32m   4492\u001b[0m \u001b[0;34m\u001b[0m\u001b[0m\n",
      "\u001b[0;32m/usr/local/lib/python3.5/dist-packages/tensorflow/python/client/session.py\u001b[0m in \u001b[0;36mrun\u001b[0;34m(self, fetches, feed_dict, options, run_metadata)\u001b[0m\n\u001b[1;32m    887\u001b[0m     \u001b[0;32mtry\u001b[0m\u001b[0;34m:\u001b[0m\u001b[0;34m\u001b[0m\u001b[0m\n\u001b[1;32m    888\u001b[0m       result = self._run(None, fetches, feed_dict, options_ptr,\n\u001b[0;32m--> 889\u001b[0;31m                          run_metadata_ptr)\n\u001b[0m\u001b[1;32m    890\u001b[0m       \u001b[0;32mif\u001b[0m \u001b[0mrun_metadata\u001b[0m\u001b[0;34m:\u001b[0m\u001b[0;34m\u001b[0m\u001b[0m\n\u001b[1;32m    891\u001b[0m         \u001b[0mproto_data\u001b[0m \u001b[0;34m=\u001b[0m \u001b[0mtf_session\u001b[0m\u001b[0;34m.\u001b[0m\u001b[0mTF_GetBuffer\u001b[0m\u001b[0;34m(\u001b[0m\u001b[0mrun_metadata_ptr\u001b[0m\u001b[0;34m)\u001b[0m\u001b[0;34m\u001b[0m\u001b[0m\n",
      "\u001b[0;32m/usr/local/lib/python3.5/dist-packages/tensorflow/python/client/session.py\u001b[0m in \u001b[0;36m_run\u001b[0;34m(self, handle, fetches, feed_dict, options, run_metadata)\u001b[0m\n\u001b[1;32m   1118\u001b[0m     \u001b[0;32mif\u001b[0m \u001b[0mfinal_fetches\u001b[0m \u001b[0;32mor\u001b[0m \u001b[0mfinal_targets\u001b[0m \u001b[0;32mor\u001b[0m \u001b[0;34m(\u001b[0m\u001b[0mhandle\u001b[0m \u001b[0;32mand\u001b[0m \u001b[0mfeed_dict_tensor\u001b[0m\u001b[0;34m)\u001b[0m\u001b[0;34m:\u001b[0m\u001b[0;34m\u001b[0m\u001b[0m\n\u001b[1;32m   1119\u001b[0m       results = self._do_run(handle, final_targets, final_fetches,\n\u001b[0;32m-> 1120\u001b[0;31m                              feed_dict_tensor, options, run_metadata)\n\u001b[0m\u001b[1;32m   1121\u001b[0m     \u001b[0;32melse\u001b[0m\u001b[0;34m:\u001b[0m\u001b[0;34m\u001b[0m\u001b[0m\n\u001b[1;32m   1122\u001b[0m       \u001b[0mresults\u001b[0m \u001b[0;34m=\u001b[0m \u001b[0;34m[\u001b[0m\u001b[0;34m]\u001b[0m\u001b[0;34m\u001b[0m\u001b[0m\n",
      "\u001b[0;32m/usr/local/lib/python3.5/dist-packages/tensorflow/python/client/session.py\u001b[0m in \u001b[0;36m_do_run\u001b[0;34m(self, handle, target_list, fetch_list, feed_dict, options, run_metadata)\u001b[0m\n\u001b[1;32m   1315\u001b[0m     \u001b[0;32mif\u001b[0m \u001b[0mhandle\u001b[0m \u001b[0;32mis\u001b[0m \u001b[0;32mNone\u001b[0m\u001b[0;34m:\u001b[0m\u001b[0;34m\u001b[0m\u001b[0m\n\u001b[1;32m   1316\u001b[0m       return self._do_call(_run_fn, self._session, feeds, fetches, targets,\n\u001b[0;32m-> 1317\u001b[0;31m                            options, run_metadata)\n\u001b[0m\u001b[1;32m   1318\u001b[0m     \u001b[0;32melse\u001b[0m\u001b[0;34m:\u001b[0m\u001b[0;34m\u001b[0m\u001b[0m\n\u001b[1;32m   1319\u001b[0m       \u001b[0;32mreturn\u001b[0m \u001b[0mself\u001b[0m\u001b[0;34m.\u001b[0m\u001b[0m_do_call\u001b[0m\u001b[0;34m(\u001b[0m\u001b[0m_prun_fn\u001b[0m\u001b[0;34m,\u001b[0m \u001b[0mself\u001b[0m\u001b[0;34m.\u001b[0m\u001b[0m_session\u001b[0m\u001b[0;34m,\u001b[0m \u001b[0mhandle\u001b[0m\u001b[0;34m,\u001b[0m \u001b[0mfeeds\u001b[0m\u001b[0;34m,\u001b[0m \u001b[0mfetches\u001b[0m\u001b[0;34m)\u001b[0m\u001b[0;34m\u001b[0m\u001b[0m\n",
      "\u001b[0;32m/usr/local/lib/python3.5/dist-packages/tensorflow/python/client/session.py\u001b[0m in \u001b[0;36m_do_call\u001b[0;34m(self, fn, *args)\u001b[0m\n\u001b[1;32m   1321\u001b[0m   \u001b[0;32mdef\u001b[0m \u001b[0m_do_call\u001b[0m\u001b[0;34m(\u001b[0m\u001b[0mself\u001b[0m\u001b[0;34m,\u001b[0m \u001b[0mfn\u001b[0m\u001b[0;34m,\u001b[0m \u001b[0;34m*\u001b[0m\u001b[0margs\u001b[0m\u001b[0;34m)\u001b[0m\u001b[0;34m:\u001b[0m\u001b[0;34m\u001b[0m\u001b[0m\n\u001b[1;32m   1322\u001b[0m     \u001b[0;32mtry\u001b[0m\u001b[0;34m:\u001b[0m\u001b[0;34m\u001b[0m\u001b[0m\n\u001b[0;32m-> 1323\u001b[0;31m       \u001b[0;32mreturn\u001b[0m \u001b[0mfn\u001b[0m\u001b[0;34m(\u001b[0m\u001b[0;34m*\u001b[0m\u001b[0margs\u001b[0m\u001b[0;34m)\u001b[0m\u001b[0;34m\u001b[0m\u001b[0m\n\u001b[0m\u001b[1;32m   1324\u001b[0m     \u001b[0;32mexcept\u001b[0m \u001b[0merrors\u001b[0m\u001b[0;34m.\u001b[0m\u001b[0mOpError\u001b[0m \u001b[0;32mas\u001b[0m \u001b[0me\u001b[0m\u001b[0;34m:\u001b[0m\u001b[0;34m\u001b[0m\u001b[0m\n\u001b[1;32m   1325\u001b[0m       \u001b[0mmessage\u001b[0m \u001b[0;34m=\u001b[0m \u001b[0mcompat\u001b[0m\u001b[0;34m.\u001b[0m\u001b[0mas_text\u001b[0m\u001b[0;34m(\u001b[0m\u001b[0me\u001b[0m\u001b[0;34m.\u001b[0m\u001b[0mmessage\u001b[0m\u001b[0;34m)\u001b[0m\u001b[0;34m\u001b[0m\u001b[0m\n",
      "\u001b[0;32m/usr/local/lib/python3.5/dist-packages/tensorflow/python/client/session.py\u001b[0m in \u001b[0;36m_run_fn\u001b[0;34m(session, feed_dict, fetch_list, target_list, options, run_metadata)\u001b[0m\n\u001b[1;32m   1300\u001b[0m           return tf_session.TF_Run(session, options,\n\u001b[1;32m   1301\u001b[0m                                    \u001b[0mfeed_dict\u001b[0m\u001b[0;34m,\u001b[0m \u001b[0mfetch_list\u001b[0m\u001b[0;34m,\u001b[0m \u001b[0mtarget_list\u001b[0m\u001b[0;34m,\u001b[0m\u001b[0;34m\u001b[0m\u001b[0m\n\u001b[0;32m-> 1302\u001b[0;31m                                    status, run_metadata)\n\u001b[0m\u001b[1;32m   1303\u001b[0m \u001b[0;34m\u001b[0m\u001b[0m\n\u001b[1;32m   1304\u001b[0m     \u001b[0;32mdef\u001b[0m \u001b[0m_prun_fn\u001b[0m\u001b[0;34m(\u001b[0m\u001b[0msession\u001b[0m\u001b[0;34m,\u001b[0m \u001b[0mhandle\u001b[0m\u001b[0;34m,\u001b[0m \u001b[0mfeed_dict\u001b[0m\u001b[0;34m,\u001b[0m \u001b[0mfetch_list\u001b[0m\u001b[0;34m)\u001b[0m\u001b[0;34m:\u001b[0m\u001b[0;34m\u001b[0m\u001b[0m\n",
      "\u001b[0;31mKeyboardInterrupt\u001b[0m: "
     ]
    }
   ],
   "source": [
    "params.n_epochs = 10000\n",
    "\n",
    "for num_epoch in range (params.n_epochs):\n",
    "    \n",
    "    if num_epoch % 10 == 0:\n",
    "        mem.num_epoch += [num_epoch]\n",
    "        \n",
    "        \n",
    "        if FLAG_CLASSIF:\n",
    "            x_test, y_test = mnist.test.next_batch(params.batch_size)\n",
    "            classif_eval = accuracy.eval(feed_dict={x_input: x_test, y_label: y_test})\n",
    "            mem.classif_eval += [classif_eval]\n",
    "        else:\n",
    "            classif_eval = 0\n",
    "        \n",
    "        x_test, y_test = next_batch(params)\n",
    "        if FLAG_DECODE:\n",
    "            decoder_eval = gen_accuracy.eval(feed_dict={x_input: x_test, y_label: y_test, x_target: x_test})\n",
    "            mem.decoder_eval += [decoder_eval]\n",
    "        else:\n",
    "            decoder_eval = 0   \n",
    "        \n",
    "        if FLAG_GAN :\n",
    "            z_real_dist = np.random.randn(params.batch_size, params.z_dim) \n",
    "            dc_g_eval = dc_g_loss.eval(feed_dict={x_input: x_test, \\\n",
    "                                                  real_distribution: z_real_dist})\n",
    "            gen_g_eval = generator_g_loss.eval(feed_dict={x_input: x_test, \\\n",
    "                                                          real_distribution: z_real_dist})\n",
    "            mem.dc_g_eval += [dc_g_eval]\n",
    "            mem.gen_g_eval += [gen_g_eval]\n",
    "            \n",
    "            c_real_dist = np.random.randint(low=0, high=params.n_labels, size=params.batch_size)\n",
    "            c_real_dist = np.eye(params.n_labels)[c_real_dist]\n",
    "            dc_c_eval = dc_c_loss.eval(feed_dict={x_input: x_test, \\\n",
    "                                                  categorical_distribution: c_real_dist})\n",
    "            gen_c_eval = generator_c_loss.eval(feed_dict={x_input: x_test, \\\n",
    "                                                      categorical_distribution: c_real_dist})\n",
    "            mem.dc_c_eval += [dc_c_eval]\n",
    "            mem.gen_c_eval += [gen_c_eval]        \n",
    "        else:\n",
    "            dc_g_eval = 0\n",
    "            gen_g_eval = 0\n",
    "            dc_c_eval = 0\n",
    "            gen_c_eval = 0\n",
    "            \n",
    "        sys.stdout.write('\\rstep %d\\t dec : %.5f\\t classif : %.5f\\tdiscr_g : %.5f\\t gen_g : %.5f, discr_c : %.5f\\t gen_c : %.5f' \\\n",
    "                         % (num_epoch, \\\n",
    "                            decoder_eval, \\\n",
    "                            classif_eval,\\\n",
    "                            dc_g_eval, \\\n",
    "                            gen_g_eval, \\\n",
    "                            dc_c_eval, \\\n",
    "                            gen_c_eval))\n",
    "    for _ in range(2):\n",
    "        if FLAG_DECODE:\n",
    "            batch_x, batch_y = next_batch(params) #mnist.train.next_batch(params.batch_size) #\n",
    "            decoder_optimizer.run(feed_dict={x_input: batch_x, x_target: batch_x})\n",
    "\n",
    "        if FLAG_CLASSIF: #and num_epoch % 10 == 0: # pour eviter le surapprentissage sur petites bases\n",
    "            batch_x, batch_y = next_batch(params)\n",
    "            supervised_encoder_optimizer.run(feed_dict={x_input_l: batch_x, y_label: batch_y})\n",
    "    \n",
    "    if FLAG_GAN :\n",
    "        z_real_dist = np.random.randn(params.batch_size, params.z_dim) #* 5.\n",
    "        discriminator_optimizer_real_g.run(feed_dict={real_distribution: z_real_dist})\n",
    "        z_real_dist = np.random.randn(params.batch_size, params.z_dim) #* 5.\n",
    "        generator_optimizer_real_g.run(feed_dict={real_distribution: z_real_dist})\n",
    "        \n",
    "        c_real_dist = np.random.randint(low=0, high=params.n_labels, size=params.batch_size)\n",
    "        c_real_dist = np.eye(params.n_labels)[c_real_dist]\n",
    "        discriminator_optimizer_real_c.run(feed_dict={categorical_distribution: c_real_dist})\n",
    "        c_real_dist = np.random.randint(low=0, high=params.n_labels, size=params.batch_size)\n",
    "        c_real_dist = np.eye(params.n_labels)[c_real_dist]\n",
    "        generator_optimizer_real_c.run(feed_dict={categorical_distribution: c_real_dist})        \n",
    "        \n",
    "        \n",
    "        #batch_x, batch_y = next_batch(params)\n",
    "        #generator_optimizer_fake.run(feed_dict={x_input: batch_x})\n",
    "    \n",
    "    for _ in range(2):\n",
    "        if FLAG_DECODE:\n",
    "            batch_x, batch_y = next_batch(params) #mnist.train.next_batch(params.batch_size) #\n",
    "            decoder_optimizer.run(feed_dict={x_input: batch_x, x_target: batch_x})\n",
    "\n",
    "        if FLAG_CLASSIF: # and num_epoch % 10 == 0: # pour eviter le surapprentissage sur petites bases\n",
    "            batch_x, batch_y = next_batch(params)\n",
    "            supervised_encoder_optimizer.run(feed_dict={x_input_l: batch_x, y_label: batch_y})\n",
    "        \n",
    "    if FLAG_GAN :    \n",
    "        batch_x, batch_y = next_batch(params)     #mnist.train.next_batch(params.batch_size) #    \n",
    "        discriminator_optimizer_fake_g.run(feed_dict={x_input: batch_x})\n",
    "        batch_x, batch_y = next_batch(params) #mnist.train.next_batch(params.batch_size) #\n",
    "        generator_optimizer_fake_g.run(feed_dict={x_input: batch_x})\n",
    "        \n",
    "        batch_x, batch_y = next_batch(params)   #mnist.train.next_batch(params.batch_size) #      \n",
    "        discriminator_optimizer_fake_c.run(feed_dict={x_input: batch_x})\n",
    "        batch_x, batch_y = next_batch(params) #mnist.train.next_batch(params.batch_size) #\n",
    "        generator_optimizer_fake_c.run(feed_dict={x_input: batch_x})\n",
    "        \n",
    "    for _ in range(0):\n",
    "        if FLAG_DECODE:\n",
    "            batch_x, batch_y = next_batch(params) #mnist.train.next_batch(params.batch_size) #\n",
    "            decoder_optimizer.run(feed_dict={x_input: batch_x, x_target: batch_x})\n",
    "\n",
    "        if FLAG_CLASSIF:\n",
    "            batch_x, batch_y = next_batch(params)\n",
    "            supervised_encoder_optimizer.run(feed_dict={x_input_l: batch_x, y_label: batch_y})\n"
   ]
  },
  {
   "cell_type": "code",
   "execution_count": 163,
   "metadata": {},
   "outputs": [],
   "source": [
    "if True:\n",
    "    saver.save(sess,          \"./Models/AAE_Model4full_fullBase_alpha_2em4_beta1_5em1_zdim_15_2R2F0.ckpt\")\n",
    "    pickle.dump(params,  open(\"./Models/AAE_Model4full_fullBase_alpha_2em4_beta1_5em1_zdim_15_2R2F0_params.pkl\", \"wb\" ) )\n",
    "    pickle.dump(mem,     open(\"./Models/AAE_Model4full_fullBase_alpha_2em4_beta1_5em1_zdim_15_2R2F0_mem.pkl\", \"wb\"))\n",
    "else:\n",
    "    saver.restore(sess,       \"./Models/AAE_Model4full_fullBase_alpha_2em4_beta1_5em1_zdim_15_2R2F0.ckpt\")\n",
    "    params = pickle.load(open(\"./Models/AAE_Model4full_fullBase_alpha_2em4_beta1_5em1_zdim_15_2R2F0_params.pkl\", \"rb\"))\n",
    "    mem    = pickle.load(open(\"./Models/AAE_Model4full_fullBase_alpha_2em4_beta1_5em1_zdim_15_2R2F0_mem.pkl\"   , \"rb\"))"
   ]
  },
  {
   "cell_type": "code",
   "execution_count": 164,
   "metadata": {},
   "outputs": [
    {
     "data": {
      "text/plain": [
       "<matplotlib.legend.Legend at 0x7f5fe55a1eb8>"
      ]
     },
     "execution_count": 164,
     "metadata": {},
     "output_type": "execute_result"
    },
    {
     "data": {
      "image/png": "[encoded data removed]",
      "text/plain": [
       "<matplotlib.figure.Figure at 0x7f5fe568b198>"
      ]
     },
     "metadata": {},
     "output_type": "display_data"
    }
   ],
   "source": [
    "plt.figure(figsize = (15,5))\n",
    "plt.subplot(1,4,1)\n",
    "plt.plot(mem.decoder_eval)\n",
    "plt.legend(('reconstruction err',))\n",
    "plt.subplot(1,4,2)\n",
    "plt.plot( mem.classif_eval)\n",
    "plt.legend(('classif rate',))\n",
    "plt.subplot(1,4,3)\n",
    "plt.plot( mem.dc_g_eval)\n",
    "plt.plot( mem.gen_g_eval)\n",
    "plt.legend(('dc_g','gen_g'))\n",
    "plt.subplot(1,4,4)\n",
    "plt.plot( mem.dc_c_eval)\n",
    "plt.plot( mem.gen_c_eval)\n",
    "plt.legend(('dc_c','gen_c'))"
   ]
  },
  {
   "cell_type": "code",
   "execution_count": 165,
   "metadata": {},
   "outputs": [
    {
     "name": "stdout",
     "output_type": "stream",
     "text": [
      "0.97\n"
     ]
    }
   ],
   "source": [
    "x_test, y_test = mnist.test.next_batch(params.batch_size) #.images, mnist.test.labels #\n",
    "print(accuracy.eval(feed_dict={x_input: x_test, y_label: y_test}))"
   ]
  },
  {
   "cell_type": "markdown",
   "metadata": {},
   "source": [
    "print(accuracy.eval(feed_dict={x_input:subset_x[np.arange(params.batch_size)], y:subset_y[np.arange(params.batch_size)]}))"
   ]
  },
  {
   "cell_type": "markdown",
   "metadata": {},
   "source": [
    "indices[:params.batch_size]"
   ]
  },
  {
   "cell_type": "code",
   "execution_count": 166,
   "metadata": {},
   "outputs": [],
   "source": [
    "liste_z = e_latent_variable.eval(feed_dict={x_input: x_test})"
   ]
  },
  {
   "cell_type": "code",
   "execution_count": 167,
   "metadata": {},
   "outputs": [],
   "source": [
    "liste_c = e_label_logit.eval(feed_dict={x_input: x_test})"
   ]
  },
  {
   "cell_type": "code",
   "execution_count": 168,
   "metadata": {},
   "outputs": [
    {
     "data": {
      "text/plain": [
       "[<matplotlib.lines.Line2D at 0x7f5fe5691358>]"
      ]
     },
     "execution_count": 168,
     "metadata": {},
     "output_type": "execute_result"
    },
    {
     "data": {
      "image/png": "[encoded data removed]",
      "text/plain": [
       "<matplotlib.figure.Figure at 0x7f5fe5691278>"
      ]
     },
     "metadata": {},
     "output_type": "display_data"
    }
   ],
   "source": [
    "plt.plot(liste_z[:,0], liste_z[:,1], '.')\n",
    "plt.plot(z_real_dist[:,0], z_real_dist[:,1], '.')"
   ]
  },
  {
   "cell_type": "code",
   "execution_count": 74,
   "metadata": {},
   "outputs": [
    {
     "data": {
      "text/plain": [
       "[<matplotlib.lines.Line2D at 0x7f5fe854db70>]"
      ]
     },
     "execution_count": 74,
     "metadata": {},
     "output_type": "execute_result"
    },
    {
     "data": {
      "image/png": "[encoded data removed]",
      "text/plain": [
       "<matplotlib.figure.Figure at 0x7f5fe854dba8>"
      ]
     },
     "metadata": {},
     "output_type": "display_data"
    }
   ],
   "source": [
    "plt.plot(liste_z[:,0], liste_z[:,1], '.')\n",
    "plt.plot(z_real_dist[:,0], z_real_dist[:,1], '.')"
   ]
  },
  {
   "cell_type": "code",
   "execution_count": 169,
   "metadata": {},
   "outputs": [
    {
     "data": {
      "text/plain": [
       "<matplotlib.image.AxesImage at 0x7f5fe54828d0>"
      ]
     },
     "execution_count": 169,
     "metadata": {},
     "output_type": "execute_result"
    },
    {
     "data": {
      "image/png": "[encoded data removed]",
      "text/plain": [
       "<matplotlib.figure.Figure at 0x7f5fe54abac8>"
      ]
     },
     "metadata": {},
     "output_type": "display_data"
    }
   ],
   "source": [
    "plt.figure(figsize =(10, 15))\n",
    "plt.subplot(1,2,1)\n",
    "plt.imshow(y_test, aspect = 'auto')\n",
    "plt.subplot(1,2,2)\n",
    "plt.imshow(1/(1+np.exp(-liste_c)), aspect = 'auto')"
   ]
  },
  {
   "cell_type": "code",
   "execution_count": 76,
   "metadata": {},
   "outputs": [
    {
     "data": {
      "text/plain": [
       "<matplotlib.legend.Legend at 0x7f5fe81cbd68>"
      ]
     },
     "execution_count": 76,
     "metadata": {},
     "output_type": "execute_result"
    },
    {
     "data": {
      "image/png": "[encoded data removed]",
      "text/plain": [
       "<matplotlib.figure.Figure at 0x7f5fe8377ef0>"
      ]
     },
     "metadata": {},
     "output_type": "display_data"
    }
   ],
   "source": [
    "#liste_z = e_latent_variable.eval(feed_dict={x_input: batch_x})\n",
    "z_cat = {}\n",
    "for i in range(10):\n",
    "    z_cat[i] = []\n",
    "for i in range(len(liste_z)):\n",
    "    index = np.where(batch_y[i] == 1)[0][0]\n",
    "    z_cat[index] += [liste_z[i]]\n",
    "for i in range(10):\n",
    "    z_aff = np.transpose(z_cat[i])\n",
    "    plt.plot(z_aff[0,:], z_aff[1,:], '.')\n",
    "plt.legend((0,1,2,3,4,5,6,7,8,9))"
   ]
  },
  {
   "cell_type": "code",
   "execution_count": 41,
   "metadata": {},
   "outputs": [
    {
     "data": {
      "text/plain": [
       "<matplotlib.legend.Legend at 0x7f5fe93c9a58>"
      ]
     },
     "execution_count": 41,
     "metadata": {},
     "output_type": "execute_result"
    },
    {
     "data": {
      "image/png": "[encoded data removed]",
      "text/plain": [
       "<matplotlib.figure.Figure at 0x7f5fe94bf4e0>"
      ]
     },
     "metadata": {},
     "output_type": "display_data"
    }
   ],
   "source": [
    "#liste_z = e_latent_variable.eval(feed_dict={x_input: x_test})\n",
    "z_cat = {}\n",
    "for i in range(10):\n",
    "    z_cat[i] = []\n",
    "for i in range(len(liste_z)):\n",
    "    index = np.where(y_test[i] == 1)[0][0]\n",
    "    z_cat[index] += [liste_z[i]]\n",
    "for i in range(10):\n",
    "    z_aff = np.transpose(z_cat[i])\n",
    "    plt.plot(z_aff[0,:], z_aff[1,:], '.')\n",
    "plt.legend((0,1,2,3,4,5,6,7,8,9))"
   ]
  },
  {
   "cell_type": "code",
   "execution_count": 195,
   "metadata": {},
   "outputs": [
    {
     "data": {
      "text/plain": [
       "<matplotlib.image.AxesImage at 0x7f5fd9e68be0>"
      ]
     },
     "execution_count": 195,
     "metadata": {},
     "output_type": "execute_result"
    },
    {
     "data": {
      "image/png": "[encoded data removed]",
      "text/plain": [
       "<matplotlib.figure.Figure at 0x7f5fd9efb860>"
      ]
     },
     "metadata": {},
     "output_type": "display_data"
    }
   ],
   "source": [
    "x_out = tf.nn.sigmoid(d_output).eval(feed_dict={x_input: x_test})\n",
    "i = 7\n",
    "plt.subplot(1,2,1)\n",
    "plt.imshow(x_test[i].reshape((28, 28)), cmap = 'gray_r')\n",
    "plt.subplot(1,2,2)\n",
    "plt.imshow(x_out[i].reshape((28, 28)), cmap = 'gray_r')\n"
   ]
  },
  {
   "cell_type": "code",
   "execution_count": 43,
   "metadata": {},
   "outputs": [],
   "source": [
    "def sigmoid(x):\n",
    "    return 1/(1 + np.exp(-x))"
   ]
  },
  {
   "cell_type": "code",
   "execution_count": 198,
   "metadata": {},
   "outputs": [
    {
     "name": "stdout",
     "output_type": "stream",
     "text": [
      "3\n",
      "[ 2.42072535  0.26213232  0.0659518  -0.87849343 -2.97480464  4.64506388\n",
      " -3.43511868  4.8777647  -6.08433819 -0.97082341 -2.37946248  2.2129643\n",
      " -1.37074077  2.53781343 -8.23129654]\n"
     ]
    },
    {
     "data": {
      "text/plain": [
       "<matplotlib.image.AxesImage at 0x7f5fd9c79fd0>"
      ]
     },
     "execution_count": 198,
     "metadata": {},
     "output_type": "execute_result"
    },
    {
     "data": {
      "image/png": "[encoded data removed]",
      "text/plain": [
       "<matplotlib.figure.Figure at 0x7f5fe538e2b0>"
      ]
     },
     "metadata": {},
     "output_type": "display_data"
    }
   ],
   "source": [
    "i = 7\n",
    "cat_test = 2\n",
    "cat = np.where(liste_c[i] == np.max(liste_c[i]))[0][0]\n",
    "print(cat)\n",
    "style = liste_z[i]\n",
    "print(style)\n",
    "\n",
    "decoder_feed = np.zeros(params.n_labels + params.z_dim)\n",
    "# label\n",
    "decoder_feed[cat_test] = 1\n",
    "#np.concat(np.random.randn((params.z_dim)).reshape((1, params.z_dim))\n",
    "# style\n",
    "decoder_feed[params.n_labels:params.n_labels + params.z_dim] = style\n",
    "decoder_feed = decoder_feed.reshape((1, params.n_labels + params.z_dim))\n",
    "\n",
    "x_image = tf.nn.sigmoid(decoder_image).eval(feed_dict={decoder_input : decoder_feed})\n",
    "plt.subplot(1,2,1)\n",
    "plt.imshow(x_image.reshape((28, 28)), cmap = 'gray_r')\n",
    "plt.subplot(1,2,2)\n",
    "plt.imshow(x_image.reshape((28, 28)), cmap = 'gray_r')\n",
    "#plt.imshow(x_image.reshape((28, 28)), cmap = 'gray_r')\n"
   ]
  },
  {
   "cell_type": "code",
   "execution_count": 139,
   "metadata": {},
   "outputs": [
    {
     "data": {
      "text/plain": [
       "<matplotlib.image.AxesImage at 0x7f5fe6810ba8>"
      ]
     },
     "execution_count": 139,
     "metadata": {},
     "output_type": "execute_result"
    },
    {
     "data": {
      "image/png": "[encoded data removed]",
      "text/plain": [
       "<matplotlib.figure.Figure at 0x7f5fe65b6198>"
      ]
     },
     "metadata": {},
     "output_type": "display_data"
    }
   ],
   "source": [
    "i = 0\n",
    "decoder_feed = np.zeros(params.n_labels + params.z_dim)\n",
    "# label\n",
    "cat = sigmoid(liste_c[i])\n",
    "decoder_feed[:params.n_labels] = cat\n",
    "style = liste_z[i]\n",
    "decoder_feed[params.n_labels:] = style\n",
    "decoder_feed = decoder_feed.reshape((1, params.n_labels + params.z_dim))\n",
    "\n",
    "x_image = tf.nn.sigmoid(decoder_image).eval(feed_dict={decoder_input : decoder_feed})\n",
    "plt.subplot(1,2,1)\n",
    "plt.imshow(x_image.reshape((28, 28)), cmap = 'gray_r')"
   ]
  },
  {
   "cell_type": "code",
   "execution_count": null,
   "metadata": {},
   "outputs": [],
   "source": [
    "# Random sample"
   ]
  },
  {
   "cell_type": "code",
   "execution_count": 185,
   "metadata": {},
   "outputs": [
    {
     "data": {
      "text/plain": [
       "<matplotlib.image.AxesImage at 0x7f5fdadfd9e8>"
      ]
     },
     "execution_count": 185,
     "metadata": {},
     "output_type": "execute_result"
    },
    {
     "data": {
      "image/png": "[encoded data removed]",
      "text/plain": [
       "<matplotlib.figure.Figure at 0x7f5fda6d20b8>"
      ]
     },
     "metadata": {},
     "output_type": "display_data"
    }
   ],
   "source": [
    "cat_test = 3\n",
    "decoder_feed = np.zeros(params.n_labels + params.z_dim)\n",
    "decoder_feed[cat_test] = 1\n",
    "style = np.random.randn(params.z_dim)\n",
    "decoder_feed[params.n_labels:] = style\n",
    "decoder_feed = decoder_feed.reshape((1, params.n_labels + params.z_dim))\n",
    "\n",
    "x_image = tf.nn.sigmoid(decoder_image).eval(feed_dict={decoder_input : decoder_feed})\n",
    "plt.subplot(1,2,1)\n",
    "plt.imshow(x_image.reshape((28, 28)), cmap = 'gray_r')"
   ]
  },
  {
   "cell_type": "code",
   "execution_count": null,
   "metadata": {},
   "outputs": [],
   "source": []
  }
 ],
 "metadata": {
  "kernelspec": {
   "display_name": "Python 3",
   "language": "python",
   "name": "python3"
  },
  "language_info": {
   "codemirror_mode": {
    "name": "ipython",
    "version": 3
   },
   "file_extension": ".py",
   "mimetype": "text/x-python",
   "name": "python",
   "nbconvert_exporter": "python",
   "pygments_lexer": "ipython3",
   "version": "3.5.3"
  }
 },
 "nbformat": 4,
 "nbformat_minor": 2
}
