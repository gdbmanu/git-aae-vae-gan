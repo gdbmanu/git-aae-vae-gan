{
 "cells": [
  {
   "cell_type": "code",
   "execution_count": 1,
   "metadata": {},
   "outputs": [],
   "source": [
    "%matplotlib inline"
   ]
  },
  {
   "cell_type": "code",
   "execution_count": 2,
   "metadata": {},
   "outputs": [],
   "source": [
    "import tensorflow as tf\n",
    "import matplotlib.pyplot as plt\n",
    "import numpy as np\n",
    "import sys\n",
    "import math"
   ]
  },
  {
   "cell_type": "code",
   "execution_count": 3,
   "metadata": {},
   "outputs": [
    {
     "name": "stdout",
     "output_type": "stream",
     "text": [
      "Extracting MNIST_data/train-images-idx3-ubyte.gz\n",
      "Extracting MNIST_data/train-labels-idx1-ubyte.gz\n",
      "Extracting MNIST_data/t10k-images-idx3-ubyte.gz\n",
      "Extracting MNIST_data/t10k-labels-idx1-ubyte.gz\n"
     ]
    }
   ],
   "source": [
    "from tensorflow.examples.tutorials.mnist import input_data\n",
    "mnist = input_data.read_data_sets(\"MNIST_data/\", one_hot=True)"
   ]
  },
  {
   "cell_type": "code",
   "execution_count": 4,
   "metadata": {},
   "outputs": [],
   "source": [
    "class Obj:\n",
    "    pass"
   ]
  },
  {
   "cell_type": "code",
   "execution_count": 5,
   "metadata": {},
   "outputs": [],
   "source": [
    "params = Obj()\n",
    "params.input_dim = 784\n",
    "params.n_l1 = 1000\n",
    "params.n_l2 = 1000\n",
    "params.z_dim = 2\n",
    "params.batch_size = 100\n",
    "params.n_epochs = 1000\n",
    "params.learning_rate = 0.001\n",
    "params.beta1 = 0.9"
   ]
  },
  {
   "cell_type": "code",
   "execution_count": 6,
   "metadata": {},
   "outputs": [],
   "source": [
    "results_path = './Results/Autoencoder'"
   ]
  },
  {
   "cell_type": "code",
   "execution_count": 7,
   "metadata": {},
   "outputs": [],
   "source": [
    "def dense(x, n1, n2, name):\n",
    "    \"\"\"\n",
    "    Used to create a dense layer.\n",
    "    :param x: input tensor to the dense layer\n",
    "    :param n1: no. of input neurons\n",
    "    :param n2: no. of output neurons\n",
    "    :param name: name of the entire dense layer.i.e, variable scope name.\n",
    "    :return: tensor with shape [batch_size, n2]\n",
    "    \"\"\"\n",
    "    with tf.variable_scope(name, reuse=None):\n",
    "        xav_stddev = np.sqrt(2 / (n1 + n2))\n",
    "        weights = tf.get_variable(\"weights\", shape=[n1, n2],\n",
    "                                  initializer=tf.random_normal_initializer(mean=0., stddev=xav_stddev))\n",
    "        bias = tf.get_variable(\"bias\", shape=[n2], initializer=tf.constant_initializer(0.0))\n",
    "        matmul = tf.add(tf.matmul(x, weights), bias, name='matmul')\n",
    "    return matmul"
   ]
  },
  {
   "cell_type": "code",
   "execution_count": 8,
   "metadata": {},
   "outputs": [],
   "source": [
    "def encoder(x, params, reuse=False):\n",
    "    \"\"\"\n",
    "    Encode part of the autoencoder\n",
    "    :param x: input to the autoencoder\n",
    "    :param reuse: True -> Reuse the encoder variables, False -> Create or search of variables before creating\n",
    "    :return: tensor which is the hidden latent variable of the autoencoder.\n",
    "    \"\"\"\n",
    "    if reuse:\n",
    "        tf.get_variable_scope().reuse_variables()\n",
    "    with tf.name_scope('Encoder'):\n",
    "        e_dense_1 = tf.nn.relu(dense(x, params.input_dim, params.n_l1, 'e_dense_1'))\n",
    "        e_dense_2 = tf.nn.relu(dense(e_dense_1, params.n_l1, params.n_l2, 'e_dense_2'))\n",
    "        e_latent_variable = dense(e_dense_2, params.n_l2, params.z_dim, 'e_latent_variable')\n",
    "    return e_latent_variable"
   ]
  },
  {
   "cell_type": "code",
   "execution_count": 9,
   "metadata": {},
   "outputs": [],
   "source": [
    "def decoder(x, params, reuse=False):\n",
    "    \"\"\"\n",
    "    Decoder part of the autoencoder\n",
    "    :param x: input to the decoder\n",
    "    :param reuse: True -> Reuse the decoder variables, False -> Create or search of variables before creating\n",
    "    :return: tensor which should ideally be the input given to the encoder.\n",
    "    \"\"\"\n",
    "    if reuse:\n",
    "        tf.get_variable_scope().reuse_variables()\n",
    "    with tf.name_scope('Decoder'):\n",
    "        d_dense_1 = tf.nn.relu(dense(x, params.z_dim, params.n_l2, 'd_dense_1'))\n",
    "        d_dense_2 = tf.nn.relu(dense(d_dense_1, params.n_l2, params.n_l1, 'd_dense_2'))\n",
    "        #output = tf.nn.sigmoid(dense(d_dense_2, params.n_l1, params.input_dim, 'd_output'))\n",
    "        d_output = dense(d_dense_2, params.n_l1, params.input_dim, 'd_output')\n",
    "        return d_output"
   ]
  },
  {
   "cell_type": "code",
   "execution_count": 10,
   "metadata": {},
   "outputs": [],
   "source": [
    "def discriminator(x, params, reuse=False):\n",
    "    \"\"\"\n",
    "    Discriminator that is used to match the posterior distribution with a given prior distribution.\n",
    "    :param x: tensor of shape [batch_size, z_dim]\n",
    "    :param reuse: True -> Reuse the discriminator variables,\n",
    "                  False -> Create or search of variables before creating\n",
    "    :return: tensor of shape [batch_size, 1]\n",
    "    \"\"\"\n",
    "    if reuse:\n",
    "        tf.get_variable_scope().reuse_variables()\n",
    "    with tf.name_scope('Discriminator'):\n",
    "        dc_dense_1 = tf.nn.relu(dense(x, params.z_dim, params.n_l1, name='dc_dense_1'))\n",
    "        dc_dense_2 = tf.nn.relu(dense(dc_dense_1, params.n_l1, params.n_l2, name='dc_dense_2'))\n",
    "        dc_output = dense(dc_dense_2, params.n_l2, 1, name='dc_output')\n",
    "    return dc_output"
   ]
  },
  {
   "cell_type": "code",
   "execution_count": 11,
   "metadata": {},
   "outputs": [],
   "source": [
    "x_input = tf.placeholder(dtype=tf.float32, shape=[params.batch_size, params.input_dim], name='Input')\n",
    "x_target = tf.placeholder(dtype=tf.float32, shape=[params.batch_size, params.input_dim], name='Target')\n",
    "real_distribution = tf.placeholder(dtype=tf.float32, shape=[params.batch_size, params.z_dim], name='Real_distribution')\n",
    "decoder_input = tf.placeholder(dtype=tf.float32, shape=[1, params.z_dim], name='Decoder_input')"
   ]
  },
  {
   "cell_type": "code",
   "execution_count": 12,
   "metadata": {},
   "outputs": [],
   "source": [
    "with tf.variable_scope(tf.get_variable_scope()):\n",
    "    encoder_output = encoder(x_input, params)\n",
    "    decoder_output = decoder(encoder_output, params)"
   ]
  },
  {
   "cell_type": "code",
   "execution_count": 13,
   "metadata": {},
   "outputs": [],
   "source": [
    "with tf.variable_scope(tf.get_variable_scope()):\n",
    "    d_real = discriminator(real_distribution, params)\n",
    "    d_fake = discriminator(encoder_output, params, reuse=True)"
   ]
  },
  {
   "cell_type": "code",
   "execution_count": 14,
   "metadata": {},
   "outputs": [],
   "source": [
    "with tf.variable_scope(tf.get_variable_scope()):\n",
    "    decoder_image = decoder(decoder_input, params, reuse=True)"
   ]
  },
  {
   "cell_type": "code",
   "execution_count": 15,
   "metadata": {},
   "outputs": [],
   "source": [
    "# Losses\n",
    "#loss = tf.reduce_mean(tf.square(x_target - decoder_output))\n",
    "autoencoder_loss = tf.reduce_sum(tf.nn.sigmoid_cross_entropy_with_logits(logits=decoder_output, labels=x_target)) #, reduction_indices=1)\n",
    "# Discriminator Loss\n",
    "dc_loss_real = tf.reduce_mean(tf.nn.sigmoid_cross_entropy_with_logits(labels=tf.ones_like(d_real), logits=d_real))\n",
    "dc_loss_fake = tf.reduce_mean(tf.nn.sigmoid_cross_entropy_with_logits(labels=tf.zeros_like(d_fake), logits=d_fake))\n",
    "dc_loss = dc_loss_fake + dc_loss_real\n",
    "# Generator loss\n",
    "generator_loss = tf.reduce_mean(tf.nn.sigmoid_cross_entropy_with_logits(labels=tf.ones_like(d_fake), logits=d_fake))"
   ]
  },
  {
   "cell_type": "code",
   "execution_count": 16,
   "metadata": {},
   "outputs": [],
   "source": [
    "all_variables = tf.trainable_variables()\n",
    "dc_var = [var for var in all_variables if 'dc_' in var.name]\n",
    "en_var = [var for var in all_variables if 'e_' in var.name]"
   ]
  },
  {
   "cell_type": "code",
   "execution_count": 17,
   "metadata": {},
   "outputs": [],
   "source": [
    "# Optimizer\n",
    "autoencoder_optimizer = tf.train.AdamOptimizer(learning_rate=params.learning_rate,\n",
    "                                                   beta1=params.beta1).minimize(autoencoder_loss)\n",
    "discriminator_optimizer = tf.train.AdamOptimizer(learning_rate=params.learning_rate,\n",
    "                                                     beta1=params.beta1).minimize(dc_loss, var_list=dc_var)\n",
    "generator_optimizer = tf.train.AdamOptimizer(learning_rate=params.learning_rate, \n",
    "                                                 beta1=params.beta1).minimize(generator_loss, var_list=en_var)\n"
   ]
  },
  {
   "cell_type": "code",
   "execution_count": 18,
   "metadata": {},
   "outputs": [],
   "source": [
    "# Evaluaton\n",
    "gen_accuracy = tf.sqrt(tf.reduce_mean(tf.square(x_target - tf.nn.sigmoid(decoder_output))))"
   ]
  },
  {
   "cell_type": "code",
   "execution_count": null,
   "metadata": {},
   "outputs": [],
   "source": []
  },
  {
   "cell_type": "code",
   "execution_count": 19,
   "metadata": {},
   "outputs": [],
   "source": [
    "sess = tf.InteractiveSession()"
   ]
  },
  {
   "cell_type": "code",
   "execution_count": 20,
   "metadata": {},
   "outputs": [],
   "source": [
    "turn = 1\n",
    "if turn ==1:\n",
    "    sess.run(tf.global_variables_initializer())"
   ]
  },
  {
   "cell_type": "code",
   "execution_count": 21,
   "metadata": {},
   "outputs": [],
   "source": [
    "saver = tf.train.Saver()"
   ]
  },
  {
   "cell_type": "code",
   "execution_count": 22,
   "metadata": {},
   "outputs": [
    {
     "name": "stdout",
     "output_type": "stream",
     "text": [
      "step 990\t reconstruction : 0.22440\t discriminator : 1.38927\t generator : 0.67107"
     ]
    }
   ],
   "source": [
    "mem = Obj()\n",
    "mem.num_epoch = []\n",
    "mem.encoder_eval = []\n",
    "mem.dc_eval = []\n",
    "mem.gen_eval =  []\n",
    "\n",
    "for num_epoch in range (params.n_epochs):\n",
    "    z_real_dist = np.random.randn(params.batch_size, params.z_dim) #* 5.\n",
    "    \n",
    "    if num_epoch % 10 == 0:\n",
    "        batch_x, _ = mnist.train.next_batch(params.batch_size)\n",
    "        mem.num_epoch += [num_epoch]\n",
    "        encoder_eval = gen_accuracy.eval(feed_dict={x_input: batch_x, x_target: batch_x})\n",
    "        dc_eval = dc_loss.eval(feed_dict={x_input: batch_x, real_distribution: z_real_dist})\n",
    "        gen_eval = generator_loss.eval(feed_dict={x_input: batch_x})\n",
    "        sys.stdout.write('\\rstep %d\\t reconstruction : %.5f\\t discriminator : %.5f\\t generator : %.5f' % (num_epoch, \\\n",
    "                                                                                                          encoder_eval, \\\n",
    "                                                                                                          dc_eval, \\\n",
    "                                                                                                          gen_eval))\n",
    "        mem.encoder_eval += [encoder_eval]\n",
    "        mem.dc_eval += [dc_eval]\n",
    "        mem.gen_eval += [gen_eval]\n",
    "        \n",
    "    batch_x, _ = mnist.train.next_batch(params.batch_size)\n",
    "    autoencoder_optimizer.run(feed_dict={x_input: batch_x, x_target: batch_x})\n",
    "    \n",
    "    batch_x, _ = mnist.train.next_batch(params.batch_size)\n",
    "    discriminator_optimizer.run(feed_dict={x_input: batch_x, real_distribution: z_real_dist})\n",
    "    \n",
    "    batch_x, _ = mnist.train.next_batch(params.batch_size)\n",
    "    generator_optimizer.run(feed_dict={x_input: batch_x})\n",
    "    "
   ]
  },
  {
   "cell_type": "code",
   "execution_count": 33,
   "metadata": {},
   "outputs": [
    {
     "data": {
      "text/plain": [
       "<matplotlib.legend.Legend at 0x7f656b440c88>"
      ]
     },
     "execution_count": 33,
     "metadata": {},
     "output_type": "execute_result"
    },
    {
     "data": {
      "image/png": "[encoded data removed]",
      "text/plain": [
       "<matplotlib.figure.Figure at 0x7f656b508160>"
      ]
     },
     "metadata": {},
     "output_type": "display_data"
    }
   ],
   "source": [
    "plt.figure(figsize = (15,5))\n",
    "plt.subplot(1,2,1)\n",
    "plt.plot(mem.num_epoch, mem.encoder_eval)\n",
    "plt.legend(('reconstruction error',))\n",
    "plt.subplot(1,2,2)\n",
    "plt.plot(mem.num_epoch, mem.dc_eval)\n",
    "plt.plot(mem.num_epoch, mem.gen_eval)\n",
    "plt.legend(('dc','gen'))"
   ]
  },
  {
   "cell_type": "code",
   "execution_count": 34,
   "metadata": {},
   "outputs": [
    {
     "name": "stdout",
     "output_type": "stream",
     "text": [
      "0.218724\n"
     ]
    }
   ],
   "source": [
    "x_test = mnist.test.next_batch(params.batch_size)\n",
    "print(gen_accuracy.eval(feed_dict={x_input: batch_x, x_target: batch_x}))"
   ]
  },
  {
   "cell_type": "code",
   "execution_count": 35,
   "metadata": {},
   "outputs": [],
   "source": []
  },
  {
   "cell_type": "code",
   "execution_count": 36,
   "metadata": {},
   "outputs": [
    {
     "data": {
      "text/plain": [
       "<matplotlib.image.AxesImage at 0x7f656b3e4860>"
      ]
     },
     "execution_count": 36,
     "metadata": {},
     "output_type": "execute_result"
    },
    {
     "data": {
      "image/png": "[encoded data removed]",
      "text/plain": [
       "<matplotlib.figure.Figure at 0x7f656b408ba8>"
      ]
     },
     "metadata": {},
     "output_type": "display_data"
    }
   ],
   "source": [
    "x_out = tf.nn.sigmoid(decoder_output).eval(feed_dict={x_input: batch_x})\n",
    "i = 2\n",
    "plt.subplot(1,2,1)\n",
    "plt.imshow(batch_x[i].reshape((28, 28)), cmap = 'gray_r')\n",
    "plt.subplot(1,2,2)\n",
    "plt.imshow(x_out[i].reshape((28, 28)), cmap = 'gray_r')\n"
   ]
  },
  {
   "cell_type": "code",
   "execution_count": 37,
   "metadata": {},
   "outputs": [],
   "source": [
    "#x_image = tf.nn.sigmoid(decoder_image).eval(feed_dict={decoder_input : np.zeros((1,params.z_dim))})\n"
   ]
  },
  {
   "cell_type": "code",
   "execution_count": 38,
   "metadata": {},
   "outputs": [
    {
     "data": {
      "text/plain": [
       "<matplotlib.image.AxesImage at 0x7f656b35dd68>"
      ]
     },
     "execution_count": 38,
     "metadata": {},
     "output_type": "execute_result"
    },
    {
     "data": {
      "image/png": "[encoded data removed]",
      "text/plain": [
       "<matplotlib.figure.Figure at 0x7f656b35deb8>"
      ]
     },
     "metadata": {},
     "output_type": "display_data"
    }
   ],
   "source": [
    "x_image = tf.nn.sigmoid(decoder_image).eval(feed_dict={decoder_input : np.random.randn((params.z_dim)).reshape((1, params.z_dim))})\n",
    "plt.subplot(1,2,2)\n",
    "plt.imshow(x_image.reshape((28, 28)), cmap = 'gray_r')"
   ]
  },
  {
   "cell_type": "code",
   "execution_count": 43,
   "metadata": {},
   "outputs": [],
   "source": [
    "batch_x, batch_y = mnist.train.next_batch(params.batch_size)\n",
    "liste_z = encoder_output.eval(feed_dict={x_input: batch_x})"
   ]
  },
  {
   "cell_type": "code",
   "execution_count": 44,
   "metadata": {},
   "outputs": [
    {
     "data": {
      "text/plain": [
       "<matplotlib.image.AxesImage at 0x7f656b249240>"
      ]
     },
     "execution_count": 44,
     "metadata": {},
     "output_type": "execute_result"
    },
    {
     "data": {
      "image/png": "[encoded data removed]",
      "text/plain": [
       "<matplotlib.figure.Figure at 0x7f656b249320>"
      ]
     },
     "metadata": {},
     "output_type": "display_data"
    }
   ],
   "source": [
    "i = 2\n",
    "x_image = tf.nn.sigmoid(decoder_image).eval(feed_dict={decoder_input : liste_z[i].reshape((1, params.z_dim))})\n",
    "plt.subplot(1,2,1)\n",
    "plt.imshow(x_image.reshape((28, 28)), cmap = 'gray_r')"
   ]
  },
  {
   "cell_type": "code",
   "execution_count": 45,
   "metadata": {},
   "outputs": [
    {
     "data": {
      "text/plain": [
       "[<matplotlib.lines.Line2D at 0x7f656b249a58>]"
      ]
     },
     "execution_count": 45,
     "metadata": {},
     "output_type": "execute_result"
    },
    {
     "data": {
      "image/png": "[encoded data removed]",
      "text/plain": [
       "<matplotlib.figure.Figure at 0x7f656b2494a8>"
      ]
     },
     "metadata": {},
     "output_type": "display_data"
    }
   ],
   "source": [
    "plt.plot(liste_z[:,0], liste_z[:,1], '.')\n",
    "plt.plot(z_real_dist[:,0], z_real_dist[:,1], '.')"
   ]
  },
  {
   "cell_type": "code",
   "execution_count": 47,
   "metadata": {},
   "outputs": [
    {
     "data": {
      "text/plain": [
       "<matplotlib.legend.Legend at 0x7f656b0d2278>"
      ]
     },
     "execution_count": 47,
     "metadata": {},
     "output_type": "execute_result"
    },
    {
     "data": {
      "image/png": "[encoded data removed]",
      "text/plain": [
       "<matplotlib.figure.Figure at 0x7f656b071668>"
      ]
     },
     "metadata": {},
     "output_type": "display_data"
    }
   ],
   "source": [
    "z_cat = {}\n",
    "for i in range(10):\n",
    "    z_cat[i] = []\n",
    "for i in range(len(liste_z)):\n",
    "    index = np.where(batch_y[i] == 1)[0][0]\n",
    "    z_cat[index] += [liste_z[i]]\n",
    "for i in range(10):\n",
    "    z_aff = np.transpose(z_cat[i])\n",
    "    plt.plot(z_aff[0,:], z_aff[1,:], '.')\n",
    "plt.legend((0,1,2,3,4,5,6,7,8,9))"
   ]
  },
  {
   "cell_type": "code",
   "execution_count": null,
   "metadata": {},
   "outputs": [],
   "source": []
  }
 ],
 "metadata": {
  "kernelspec": {
   "display_name": "Python 3",
   "language": "python",
   "name": "python3"
  },
  "language_info": {
   "codemirror_mode": {
    "name": "ipython",
    "version": 3
   },
   "file_extension": ".py",
   "mimetype": "text/x-python",
   "name": "python",
   "nbconvert_exporter": "python",
   "pygments_lexer": "ipython3",
   "version": "3.5.3"
  }
 },
 "nbformat": 4,
 "nbformat_minor": 2
}
