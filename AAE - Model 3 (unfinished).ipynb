{
 "cells": [
  {
   "cell_type": "code",
   "execution_count": 1,
   "metadata": {},
   "outputs": [],
   "source": [
    "%matplotlib inline"
   ]
  },
  {
   "cell_type": "code",
   "execution_count": 2,
   "metadata": {},
   "outputs": [],
   "source": [
    "import tensorflow as tf\n",
    "import matplotlib.pyplot as plt\n",
    "import numpy as np\n",
    "import sys\n",
    "import math"
   ]
  },
  {
   "cell_type": "code",
   "execution_count": 3,
   "metadata": {},
   "outputs": [
    {
     "name": "stdout",
     "output_type": "stream",
     "text": [
      "Extracting MNIST_data/train-images-idx3-ubyte.gz\n",
      "Extracting MNIST_data/train-labels-idx1-ubyte.gz\n",
      "Extracting MNIST_data/t10k-images-idx3-ubyte.gz\n",
      "Extracting MNIST_data/t10k-labels-idx1-ubyte.gz\n"
     ]
    }
   ],
   "source": [
    "from tensorflow.examples.tutorials.mnist import input_data\n",
    "mnist = input_data.read_data_sets(\"MNIST_data/\", one_hot=True)"
   ]
  },
  {
   "cell_type": "code",
   "execution_count": 4,
   "metadata": {},
   "outputs": [],
   "source": [
    "class Obj:\n",
    "    pass"
   ]
  },
  {
   "cell_type": "code",
   "execution_count": 5,
   "metadata": {},
   "outputs": [],
   "source": [
    "params = Obj()\n",
    "params.input_dim = 784\n",
    "params.n_l1 = 1000\n",
    "params.n_l2 = 1000\n",
    "params.n_labels = 10\n",
    "params.z_dim = 15\n",
    "params.batch_size = 100\n",
    "params.n_epochs = 1000\n",
    "params.learning_rate = 0.0001\n",
    "params.beta1 = 0.5"
   ]
  },
  {
   "cell_type": "code",
   "execution_count": 6,
   "metadata": {},
   "outputs": [],
   "source": [
    "results_path = './Results/Autoencoder'"
   ]
  },
  {
   "cell_type": "code",
   "execution_count": 7,
   "metadata": {},
   "outputs": [],
   "source": [
    "def dense(x, n1, n2, name, stddev = .1):\n",
    "    \"\"\"\n",
    "    Used to create a dense layer.\n",
    "    :param x: input tensor to the dense layer\n",
    "    :param n1: no. of input neurons\n",
    "    :param n2: no. of output neurons\n",
    "    :param name: name of the entire dense layer.i.e, variable scope name.\n",
    "    :return: tensor with shape [batch_size, n2]\n",
    "    \"\"\"\n",
    "    with tf.variable_scope(name, reuse=None):\n",
    "        #xav_stddev = np.sqrt(2 / (n1 + n2))\n",
    "        xav_stddev = stddev * np.sqrt( 1. / n1)\n",
    "        #xav_stddev_b = np.sqrt(2 / n2)\n",
    "        xav_stddev_b = stddev\n",
    "        weights = tf.get_variable(\"weights\", shape=[n1, n2],\n",
    "                                  initializer=tf.random_normal_initializer(mean=0., stddev=xav_stddev))\n",
    "        #bias = tf.get_variable(\"bias\", shape=[n2], initializer=tf.constant_initializer(0.0))\n",
    "        bias = tf.get_variable(\"bias\", shape=[n2], initializer=tf.random_normal_initializer(mean=0., stddev=xav_stddev_b))\n",
    "        matmul = tf.add(tf.matmul(x, weights), bias, name='matmul')\n",
    "    return matmul"
   ]
  },
  {
   "cell_type": "code",
   "execution_count": 8,
   "metadata": {},
   "outputs": [],
   "source": [
    "def encoder(x, params, reuse=False):\n",
    "    \"\"\"\n",
    "    Encode part of the autoencoder\n",
    "    :param x: input to the autoencoder\n",
    "    :param reuse: True -> Reuse the encoder variables, False -> Create or search of variables before creating\n",
    "    :return: tensor which is the hidden latent variable of the autoencoder.\n",
    "    \"\"\"\n",
    "    if reuse:\n",
    "        tf.get_variable_scope().reuse_variables()\n",
    "    with tf.name_scope('Encoder'):\n",
    "        e_dense_1 = tf.nn.relu(dense(x, params.input_dim, params.n_l1, 'e_dense_1'))\n",
    "        e_dense_2 = tf.nn.relu(dense(e_dense_1, params.n_l1, params.n_l2, 'e_dense_2'))\n",
    "        e_latent_variable = dense(e_dense_2, params.n_l2, params.z_dim, 'e_latent_variable')\n",
    "    return e_latent_variable"
   ]
  },
  {
   "cell_type": "code",
   "execution_count": 9,
   "metadata": {},
   "outputs": [],
   "source": [
    "def decoder(x, params, reuse=False):\n",
    "    \"\"\"\n",
    "    Decoder part of the autoencoder\n",
    "    :param x: input to the decoder\n",
    "    :param reuse: True -> Reuse the decoder variables, False -> Create or search of variables before creating\n",
    "    :return: tensor which should ideally be the input given to the encoder.\n",
    "    \"\"\"\n",
    "    if reuse:\n",
    "        tf.get_variable_scope().reuse_variables()\n",
    "    with tf.name_scope('Decoder'):\n",
    "        d_dense_1 = tf.nn.relu(dense(x, params.n_labels + params.z_dim, params.n_l2, 'd_dense_1'))\n",
    "        d_dense_2 = tf.nn.relu(dense(d_dense_1, params.n_l2, params.n_l1, 'd_dense_2'))\n",
    "        #output = tf.nn.sigmoid(dense(d_dense_2, params.n_l1, params.input_dim, 'd_output'))\n",
    "        d_output = dense(d_dense_2, params.n_l1, params.input_dim, 'd_output')\n",
    "        return d_output"
   ]
  },
  {
   "cell_type": "code",
   "execution_count": 10,
   "metadata": {},
   "outputs": [],
   "source": [
    "def classifier(x, params, reuse=False):\n",
    "    \"\"\"\n",
    "    Classifier \n",
    "    :param x: input to the decoder\n",
    "    :param reuse: True -> Reuse the decoder variables, False -> Create or search of variables before creating\n",
    "    :return: tensor which should ideally be the input given to the encoder.\n",
    "    \"\"\"\n",
    "    if reuse:\n",
    "        tf.get_variable_scope().reuse_variables()\n",
    "    with tf.name_scope('Classifier'):\n",
    "        cl_dense_1 = tf.nn.relu(dense(x, params.z_dim , params.n_l2, 'cl_dense_1'))\n",
    "        cl_dense_2 = tf.nn.relu(dense(cl_dense_1, params.n_l2, params.n_l1, 'cl_dense_2'))\n",
    "        #output = tf.nn.sigmoid(dense(d_dense_2, params.n_l1, params.input_dim, 'd_output'))\n",
    "        cl_output = dense(cl_dense_2, params.n_l1, params.n_labels, 'cl_output')\n",
    "        return cl_output"
   ]
  },
  {
   "cell_type": "code",
   "execution_count": 11,
   "metadata": {},
   "outputs": [],
   "source": [
    "def discriminator(x, params, reuse=False):\n",
    "    \"\"\"\n",
    "    Discriminator that is used to match the posterior distribution with a given prior distribution.\n",
    "    :param x: tensor of shape [batch_size, z_dim]\n",
    "    :param reuse: True -> Reuse the discriminator variables,\n",
    "                  False -> Create or search of variables before creating\n",
    "    :return: tensor of shape [batch_size, 1]\n",
    "    \"\"\"\n",
    "    if reuse:\n",
    "        tf.get_variable_scope().reuse_variables()\n",
    "    with tf.name_scope('Discriminator'):\n",
    "        dc_dense_1 = tf.nn.relu(dense(x, params.z_dim, params.n_l1, name='dc_dense_1'))\n",
    "        dc_dense_2 = tf.nn.relu(dense(dc_dense_1, params.n_l1, params.n_l2, name='dc_dense_2'))\n",
    "        dc_output = dense(dc_dense_2, params.n_l2, 1, name='dc_output')\n",
    "    return dc_output"
   ]
  },
  {
   "cell_type": "code",
   "execution_count": 12,
   "metadata": {},
   "outputs": [],
   "source": [
    "x_input = tf.placeholder(dtype=tf.float32, shape=[params.batch_size, params.input_dim], name='Input')\n",
    "x_target = tf.placeholder(dtype=tf.float32, shape=[params.batch_size, params.input_dim], name='Target')\n",
    "y_label = tf.placeholder(dtype=tf.float32, shape=[params.batch_size, params.n_labels], name='Labels')\n",
    "real_distribution = tf.placeholder(dtype=tf.float32, shape=[params.batch_size, params.z_dim], name='Real_distribution')\n",
    "decoder_input = tf.placeholder(dtype=tf.float32, shape=[1, params.n_labels + params.z_dim], name='Decoder_input')"
   ]
  },
  {
   "cell_type": "code",
   "execution_count": 13,
   "metadata": {},
   "outputs": [],
   "source": [
    "with tf.variable_scope(tf.get_variable_scope()):\n",
    "    e_latent_variable = encoder(x_input, params)\n",
    "    cl_output = classifier(e_latent_variable, params)\n",
    "    d_output = decoder(tf.concat([y_label, e_latent_variable], 1), params)\n",
    "    "
   ]
  },
  {
   "cell_type": "code",
   "execution_count": 14,
   "metadata": {},
   "outputs": [],
   "source": [
    "test = tf.concat([y_label, e_latent_variable], 1)"
   ]
  },
  {
   "cell_type": "code",
   "execution_count": 15,
   "metadata": {},
   "outputs": [],
   "source": [
    "with tf.variable_scope(tf.get_variable_scope()):\n",
    "    d_real = discriminator(real_distribution, params)\n",
    "    d_fake = discriminator(e_latent_variable, params, reuse=True)"
   ]
  },
  {
   "cell_type": "code",
   "execution_count": 16,
   "metadata": {},
   "outputs": [],
   "source": [
    "with tf.variable_scope(tf.get_variable_scope()):\n",
    "    decoder_image = decoder(decoder_input, params, reuse=True)"
   ]
  },
  {
   "cell_type": "code",
   "execution_count": 17,
   "metadata": {},
   "outputs": [],
   "source": [
    "# Losses\n",
    "decoder_loss = tf.reduce_sum(tf.nn.sigmoid_cross_entropy_with_logits(logits=d_output, labels=x_target), reduction_indices=1)\n",
    "classifier_loss = tf.reduce_mean(tf.nn.softmax_cross_entropy_with_logits(logits=cl_output, labels=y_label)) #, reduction_indices=1)\n",
    "# Discriminator Loss\n",
    "dc_loss_real = tf.reduce_mean(tf.nn.sigmoid_cross_entropy_with_logits(labels=tf.ones_like(d_real), logits=d_real))\n",
    "dc_loss_fake = tf.reduce_mean(tf.nn.sigmoid_cross_entropy_with_logits(labels=tf.zeros_like(d_fake), logits=d_fake))\n",
    "dc_loss = dc_loss_fake + dc_loss_real\n",
    "# Generator loss\n",
    "generator_loss_real = tf.reduce_mean(tf.nn.sigmoid_cross_entropy_with_logits(labels=tf.zeros_like(d_real), logits=d_real))\n",
    "generator_loss_fake = tf.reduce_mean(tf.nn.sigmoid_cross_entropy_with_logits(labels=tf.ones_like(d_fake), logits=d_fake))\n",
    "generator_loss = generator_loss_fake + generator_loss_real\n"
   ]
  },
  {
   "cell_type": "code",
   "execution_count": 18,
   "metadata": {},
   "outputs": [],
   "source": [
    "all_variables = tf.trainable_variables()\n",
    "dc_var = [var for var in all_variables if 'dc_' in var.name]\n",
    "en_var = [var for var in all_variables if 'e_' in var.name]"
   ]
  },
  {
   "cell_type": "code",
   "execution_count": 19,
   "metadata": {},
   "outputs": [],
   "source": [
    "# Optimizer\n",
    "decoder_optimizer = tf.train.AdamOptimizer(learning_rate=params.learning_rate,\n",
    "                                                   beta1=params.beta1).minimize(decoder_loss)\n",
    "classifier_optimizer = tf.train.AdamOptimizer(learning_rate=params.learning_rate,\n",
    "                                                   beta1=params.beta1).minimize(classifier_loss)\n",
    "discriminator_optimizer_real = tf.train.AdamOptimizer(learning_rate=params.learning_rate,\n",
    "                                                     beta1=params.beta1).minimize(dc_loss_real, var_list=dc_var)\n",
    "discriminator_optimizer_fake = tf.train.AdamOptimizer(learning_rate=params.learning_rate,\n",
    "                                                     beta1=params.beta1).minimize(dc_loss_fake, var_list=dc_var)\n",
    "generator_optimizer_real = tf.train.AdamOptimizer(learning_rate=params.learning_rate, \n",
    "                                                 beta1=params.beta1).minimize(generator_loss_real, var_list=en_var)\n",
    "generator_optimizer_fake = tf.train.AdamOptimizer(learning_rate=params.learning_rate, \n",
    "                                                 beta1=params.beta1).minimize(generator_loss_fake, var_list=en_var)\n"
   ]
  },
  {
   "cell_type": "code",
   "execution_count": 20,
   "metadata": {},
   "outputs": [],
   "source": [
    "# Evaluation\n",
    "#gen_accuracy = tf.sqrt(tf.reduce_mean(tf.square(x_target - tf.nn.sigmoid(decoder_output))))\n",
    "correct_prediction = tf.equal(tf.argmax(cl_output, 1), tf.argmax(y_label, 1))\n",
    "accuracy = tf.reduce_mean(tf.cast(correct_prediction, tf.float32))\n",
    "gen_accuracy = tf.sqrt(tf.reduce_mean(tf.square(x_target - tf.nn.sigmoid(d_output))))"
   ]
  },
  {
   "cell_type": "code",
   "execution_count": 21,
   "metadata": {},
   "outputs": [
    {
     "name": "stdout",
     "output_type": "stream",
     "text": [
      "None\n"
     ]
    }
   ],
   "source": [
    "x = np.random.shuffle(np.arange(100))\n",
    "print(x)"
   ]
  },
  {
   "cell_type": "code",
   "execution_count": 22,
   "metadata": {},
   "outputs": [],
   "source": [
    "sess = tf.InteractiveSession()"
   ]
  },
  {
   "cell_type": "code",
   "execution_count": 23,
   "metadata": {},
   "outputs": [],
   "source": [
    "turn = 1\n",
    "if turn ==1:\n",
    "    sess.run(tf.global_variables_initializer())"
   ]
  },
  {
   "cell_type": "code",
   "execution_count": 24,
   "metadata": {},
   "outputs": [],
   "source": [
    "saver = tf.train.Saver()"
   ]
  },
  {
   "cell_type": "code",
   "execution_count": 25,
   "metadata": {},
   "outputs": [],
   "source": [
    "def next_batch(params):\n",
    "    if FLAG_SEMI:\n",
    "        indices = np.arange(TEST_SIZE)\n",
    "        np.random.shuffle(indices)\n",
    "        batch_x, batch_y = subset_x[indices[:params.batch_size]], subset_y[indices[:params.batch_size]]\n",
    "    else:\n",
    "        batch_x, batch_y = mnist.train.next_batch(params.batch_size)\n",
    "    return batch_x, batch_y"
   ]
  },
  {
   "cell_type": "code",
   "execution_count": null,
   "metadata": {},
   "outputs": [],
   "source": [
    "TEST_SIZE = 1000\n",
    "FLAG_DECODE = True\n",
    "FLAG_CLASSIF = False\n",
    "FLAG_SEMI = False\n",
    "FLAG_GAN = True\n",
    "\n",
    "mem = Obj()\n",
    "mem.num_epoch = []\n",
    "mem.classif_eval = []\n",
    "mem.decoder_eval = []\n",
    "mem.dc_eval = []\n",
    "mem.gen_eval =  []\n",
    "\n",
    "if FLAG_SEMI :\n",
    "    subset_x, subset_y =  mnist.train.next_batch(TEST_SIZE)\n",
    "    "
   ]
  },
  {
   "cell_type": "code",
   "execution_count": 27,
   "metadata": {},
   "outputs": [
    {
     "name": "stdout",
     "output_type": "stream",
     "text": [
      "step 320\t decoder : 0.22783\t classif : 0.00000\t discriminator : 1.38926\t generator : 1.38382"
     ]
    },
    {
     "ename": "KeyboardInterrupt",
     "evalue": "",
     "output_type": "error",
     "traceback": [
      "\u001b[0;31m---------------------------------------------------------------------------\u001b[0m",
      "\u001b[0;31mKeyboardInterrupt\u001b[0m                         Traceback (most recent call last)",
      "\u001b[0;32m<ipython-input-27-a0dfd9a52ed5>\u001b[0m in \u001b[0;36m<module>\u001b[0;34m()\u001b[0m\n\u001b[1;32m     31\u001b[0m         \u001b[0mx_test\u001b[0m\u001b[0;34m,\u001b[0m \u001b[0my_test\u001b[0m \u001b[0;34m=\u001b[0m \u001b[0mnext_batch\u001b[0m\u001b[0;34m(\u001b[0m\u001b[0mparams\u001b[0m\u001b[0;34m)\u001b[0m\u001b[0;34m\u001b[0m\u001b[0m\n\u001b[1;32m     32\u001b[0m         \u001b[0;32mif\u001b[0m \u001b[0mFLAG_DECODE\u001b[0m\u001b[0;34m:\u001b[0m\u001b[0;34m\u001b[0m\u001b[0m\n\u001b[0;32m---> 33\u001b[0;31m             \u001b[0mdecoder_eval\u001b[0m \u001b[0;34m=\u001b[0m \u001b[0mgen_accuracy\u001b[0m\u001b[0;34m.\u001b[0m\u001b[0meval\u001b[0m\u001b[0;34m(\u001b[0m\u001b[0mfeed_dict\u001b[0m\u001b[0;34m=\u001b[0m\u001b[0;34m{\u001b[0m\u001b[0mx_input\u001b[0m\u001b[0;34m:\u001b[0m \u001b[0mx_test\u001b[0m\u001b[0;34m,\u001b[0m \u001b[0my_label\u001b[0m\u001b[0;34m:\u001b[0m \u001b[0my_test\u001b[0m\u001b[0;34m,\u001b[0m \u001b[0mx_target\u001b[0m\u001b[0;34m:\u001b[0m \u001b[0mx_test\u001b[0m\u001b[0;34m}\u001b[0m\u001b[0;34m)\u001b[0m\u001b[0;34m\u001b[0m\u001b[0m\n\u001b[0m\u001b[1;32m     34\u001b[0m             \u001b[0mmem\u001b[0m\u001b[0;34m.\u001b[0m\u001b[0mdecoder_eval\u001b[0m \u001b[0;34m+=\u001b[0m \u001b[0;34m[\u001b[0m\u001b[0mdecoder_eval\u001b[0m\u001b[0;34m]\u001b[0m\u001b[0;34m\u001b[0m\u001b[0m\n\u001b[1;32m     35\u001b[0m         \u001b[0;32melse\u001b[0m\u001b[0;34m:\u001b[0m\u001b[0;34m\u001b[0m\u001b[0m\n",
      "\u001b[0;32m/usr/local/lib/python3.5/dist-packages/tensorflow/python/framework/ops.py\u001b[0m in \u001b[0;36meval\u001b[0;34m(self, feed_dict, session)\u001b[0m\n\u001b[1;32m    568\u001b[0m \u001b[0;34m\u001b[0m\u001b[0m\n\u001b[1;32m    569\u001b[0m     \"\"\"\n\u001b[0;32m--> 570\u001b[0;31m     \u001b[0;32mreturn\u001b[0m \u001b[0m_eval_using_default_session\u001b[0m\u001b[0;34m(\u001b[0m\u001b[0mself\u001b[0m\u001b[0;34m,\u001b[0m \u001b[0mfeed_dict\u001b[0m\u001b[0;34m,\u001b[0m \u001b[0mself\u001b[0m\u001b[0;34m.\u001b[0m\u001b[0mgraph\u001b[0m\u001b[0;34m,\u001b[0m \u001b[0msession\u001b[0m\u001b[0;34m)\u001b[0m\u001b[0;34m\u001b[0m\u001b[0m\n\u001b[0m\u001b[1;32m    571\u001b[0m \u001b[0;34m\u001b[0m\u001b[0m\n\u001b[1;32m    572\u001b[0m   \u001b[0;32mdef\u001b[0m \u001b[0m_dup\u001b[0m\u001b[0;34m(\u001b[0m\u001b[0mself\u001b[0m\u001b[0;34m)\u001b[0m\u001b[0;34m:\u001b[0m\u001b[0;34m\u001b[0m\u001b[0m\n",
      "\u001b[0;32m/usr/local/lib/python3.5/dist-packages/tensorflow/python/framework/ops.py\u001b[0m in \u001b[0;36m_eval_using_default_session\u001b[0;34m(tensors, feed_dict, graph, session)\u001b[0m\n\u001b[1;32m   4453\u001b[0m                        \u001b[0;34m\"the tensor's graph is different from the session's \"\u001b[0m\u001b[0;34m\u001b[0m\u001b[0m\n\u001b[1;32m   4454\u001b[0m                        \"graph.\")\n\u001b[0;32m-> 4455\u001b[0;31m   \u001b[0;32mreturn\u001b[0m \u001b[0msession\u001b[0m\u001b[0;34m.\u001b[0m\u001b[0mrun\u001b[0m\u001b[0;34m(\u001b[0m\u001b[0mtensors\u001b[0m\u001b[0;34m,\u001b[0m \u001b[0mfeed_dict\u001b[0m\u001b[0;34m)\u001b[0m\u001b[0;34m\u001b[0m\u001b[0m\n\u001b[0m\u001b[1;32m   4456\u001b[0m \u001b[0;34m\u001b[0m\u001b[0m\n\u001b[1;32m   4457\u001b[0m \u001b[0;34m\u001b[0m\u001b[0m\n",
      "\u001b[0;32m/usr/local/lib/python3.5/dist-packages/tensorflow/python/client/session.py\u001b[0m in \u001b[0;36mrun\u001b[0;34m(self, fetches, feed_dict, options, run_metadata)\u001b[0m\n\u001b[1;32m    887\u001b[0m     \u001b[0;32mtry\u001b[0m\u001b[0;34m:\u001b[0m\u001b[0;34m\u001b[0m\u001b[0m\n\u001b[1;32m    888\u001b[0m       result = self._run(None, fetches, feed_dict, options_ptr,\n\u001b[0;32m--> 889\u001b[0;31m                          run_metadata_ptr)\n\u001b[0m\u001b[1;32m    890\u001b[0m       \u001b[0;32mif\u001b[0m \u001b[0mrun_metadata\u001b[0m\u001b[0;34m:\u001b[0m\u001b[0;34m\u001b[0m\u001b[0m\n\u001b[1;32m    891\u001b[0m         \u001b[0mproto_data\u001b[0m \u001b[0;34m=\u001b[0m \u001b[0mtf_session\u001b[0m\u001b[0;34m.\u001b[0m\u001b[0mTF_GetBuffer\u001b[0m\u001b[0;34m(\u001b[0m\u001b[0mrun_metadata_ptr\u001b[0m\u001b[0;34m)\u001b[0m\u001b[0;34m\u001b[0m\u001b[0m\n",
      "\u001b[0;32m/usr/local/lib/python3.5/dist-packages/tensorflow/python/client/session.py\u001b[0m in \u001b[0;36m_run\u001b[0;34m(self, handle, fetches, feed_dict, options, run_metadata)\u001b[0m\n\u001b[1;32m   1118\u001b[0m     \u001b[0;32mif\u001b[0m \u001b[0mfinal_fetches\u001b[0m \u001b[0;32mor\u001b[0m \u001b[0mfinal_targets\u001b[0m \u001b[0;32mor\u001b[0m \u001b[0;34m(\u001b[0m\u001b[0mhandle\u001b[0m \u001b[0;32mand\u001b[0m \u001b[0mfeed_dict_tensor\u001b[0m\u001b[0;34m)\u001b[0m\u001b[0;34m:\u001b[0m\u001b[0;34m\u001b[0m\u001b[0m\n\u001b[1;32m   1119\u001b[0m       results = self._do_run(handle, final_targets, final_fetches,\n\u001b[0;32m-> 1120\u001b[0;31m                              feed_dict_tensor, options, run_metadata)\n\u001b[0m\u001b[1;32m   1121\u001b[0m     \u001b[0;32melse\u001b[0m\u001b[0;34m:\u001b[0m\u001b[0;34m\u001b[0m\u001b[0m\n\u001b[1;32m   1122\u001b[0m       \u001b[0mresults\u001b[0m \u001b[0;34m=\u001b[0m \u001b[0;34m[\u001b[0m\u001b[0;34m]\u001b[0m\u001b[0;34m\u001b[0m\u001b[0m\n",
      "\u001b[0;32m/usr/local/lib/python3.5/dist-packages/tensorflow/python/client/session.py\u001b[0m in \u001b[0;36m_do_run\u001b[0;34m(self, handle, target_list, fetch_list, feed_dict, options, run_metadata)\u001b[0m\n\u001b[1;32m   1315\u001b[0m     \u001b[0;32mif\u001b[0m \u001b[0mhandle\u001b[0m \u001b[0;32mis\u001b[0m \u001b[0;32mNone\u001b[0m\u001b[0;34m:\u001b[0m\u001b[0;34m\u001b[0m\u001b[0m\n\u001b[1;32m   1316\u001b[0m       return self._do_call(_run_fn, self._session, feeds, fetches, targets,\n\u001b[0;32m-> 1317\u001b[0;31m                            options, run_metadata)\n\u001b[0m\u001b[1;32m   1318\u001b[0m     \u001b[0;32melse\u001b[0m\u001b[0;34m:\u001b[0m\u001b[0;34m\u001b[0m\u001b[0m\n\u001b[1;32m   1319\u001b[0m       \u001b[0;32mreturn\u001b[0m \u001b[0mself\u001b[0m\u001b[0;34m.\u001b[0m\u001b[0m_do_call\u001b[0m\u001b[0;34m(\u001b[0m\u001b[0m_prun_fn\u001b[0m\u001b[0;34m,\u001b[0m \u001b[0mself\u001b[0m\u001b[0;34m.\u001b[0m\u001b[0m_session\u001b[0m\u001b[0;34m,\u001b[0m \u001b[0mhandle\u001b[0m\u001b[0;34m,\u001b[0m \u001b[0mfeeds\u001b[0m\u001b[0;34m,\u001b[0m \u001b[0mfetches\u001b[0m\u001b[0;34m)\u001b[0m\u001b[0;34m\u001b[0m\u001b[0m\n",
      "\u001b[0;32m/usr/local/lib/python3.5/dist-packages/tensorflow/python/client/session.py\u001b[0m in \u001b[0;36m_do_call\u001b[0;34m(self, fn, *args)\u001b[0m\n\u001b[1;32m   1321\u001b[0m   \u001b[0;32mdef\u001b[0m \u001b[0m_do_call\u001b[0m\u001b[0;34m(\u001b[0m\u001b[0mself\u001b[0m\u001b[0;34m,\u001b[0m \u001b[0mfn\u001b[0m\u001b[0;34m,\u001b[0m \u001b[0;34m*\u001b[0m\u001b[0margs\u001b[0m\u001b[0;34m)\u001b[0m\u001b[0;34m:\u001b[0m\u001b[0;34m\u001b[0m\u001b[0m\n\u001b[1;32m   1322\u001b[0m     \u001b[0;32mtry\u001b[0m\u001b[0;34m:\u001b[0m\u001b[0;34m\u001b[0m\u001b[0m\n\u001b[0;32m-> 1323\u001b[0;31m       \u001b[0;32mreturn\u001b[0m \u001b[0mfn\u001b[0m\u001b[0;34m(\u001b[0m\u001b[0;34m*\u001b[0m\u001b[0margs\u001b[0m\u001b[0;34m)\u001b[0m\u001b[0;34m\u001b[0m\u001b[0m\n\u001b[0m\u001b[1;32m   1324\u001b[0m     \u001b[0;32mexcept\u001b[0m \u001b[0merrors\u001b[0m\u001b[0;34m.\u001b[0m\u001b[0mOpError\u001b[0m \u001b[0;32mas\u001b[0m \u001b[0me\u001b[0m\u001b[0;34m:\u001b[0m\u001b[0;34m\u001b[0m\u001b[0m\n\u001b[1;32m   1325\u001b[0m       \u001b[0mmessage\u001b[0m \u001b[0;34m=\u001b[0m \u001b[0mcompat\u001b[0m\u001b[0;34m.\u001b[0m\u001b[0mas_text\u001b[0m\u001b[0;34m(\u001b[0m\u001b[0me\u001b[0m\u001b[0;34m.\u001b[0m\u001b[0mmessage\u001b[0m\u001b[0;34m)\u001b[0m\u001b[0;34m\u001b[0m\u001b[0m\n",
      "\u001b[0;32m/usr/local/lib/python3.5/dist-packages/tensorflow/python/client/session.py\u001b[0m in \u001b[0;36m_run_fn\u001b[0;34m(session, feed_dict, fetch_list, target_list, options, run_metadata)\u001b[0m\n\u001b[1;32m   1300\u001b[0m           return tf_session.TF_Run(session, options,\n\u001b[1;32m   1301\u001b[0m                                    \u001b[0mfeed_dict\u001b[0m\u001b[0;34m,\u001b[0m \u001b[0mfetch_list\u001b[0m\u001b[0;34m,\u001b[0m \u001b[0mtarget_list\u001b[0m\u001b[0;34m,\u001b[0m\u001b[0;34m\u001b[0m\u001b[0m\n\u001b[0;32m-> 1302\u001b[0;31m                                    status, run_metadata)\n\u001b[0m\u001b[1;32m   1303\u001b[0m \u001b[0;34m\u001b[0m\u001b[0m\n\u001b[1;32m   1304\u001b[0m     \u001b[0;32mdef\u001b[0m \u001b[0m_prun_fn\u001b[0m\u001b[0;34m(\u001b[0m\u001b[0msession\u001b[0m\u001b[0;34m,\u001b[0m \u001b[0mhandle\u001b[0m\u001b[0;34m,\u001b[0m \u001b[0mfeed_dict\u001b[0m\u001b[0;34m,\u001b[0m \u001b[0mfetch_list\u001b[0m\u001b[0;34m)\u001b[0m\u001b[0;34m:\u001b[0m\u001b[0;34m\u001b[0m\u001b[0m\n",
      "\u001b[0;31mKeyboardInterrupt\u001b[0m: "
     ]
    }
   ],
   "source": [
    "\n",
    "for num_epoch in range (params.n_epochs):\n",
    "    z_real_dist = np.random.randn(params.batch_size, params.z_dim) \n",
    "    \n",
    "    if num_epoch % 10 == 0:\n",
    "        mem.num_epoch += [num_epoch]\n",
    "        \n",
    "        \n",
    "        if FLAG_CLASSIF:\n",
    "            x_test, y_test = mnist.test.next_batch(params.batch_size)\n",
    "            classif_eval = accuracy.eval(feed_dict={x_input: x_test, y_label: y_test})\n",
    "            mem.classif_eval += [classif_eval]\n",
    "        else:\n",
    "            classif_eval = 0\n",
    "        \n",
    "        x_test, y_test = next_batch(params)\n",
    "        if FLAG_DECODE:\n",
    "            decoder_eval = gen_accuracy.eval(feed_dict={x_input: x_test, y_label: y_test, x_target: x_test})\n",
    "            mem.decoder_eval += [decoder_eval]\n",
    "        else:\n",
    "            decoder_eval = 0   \n",
    "        \n",
    "        if FLAG_GAN :\n",
    "            dc_eval = dc_loss.eval(feed_dict={x_input: x_test, real_distribution: z_real_dist})\n",
    "            gen_eval = generator_loss.eval(feed_dict={x_input: x_test, real_distribution: z_real_dist})\n",
    "            mem.dc_eval += [dc_eval]\n",
    "            mem.gen_eval += [gen_eval]\n",
    "        else:\n",
    "            dc_eval = 0\n",
    "            gen_eval = 0\n",
    "            \n",
    "        sys.stdout.write('\\rstep %d\\t decoder : %.5f\\t classif : %.5f\\t discriminator : %.5f\\t generator : %.5f' % (num_epoch, \\\n",
    "                                                                                                          decoder_eval, \\\n",
    "                                                                                                          classif_eval, \\\n",
    "                                                                                                          dc_eval, \\\n",
    "                                                                                                         gen_eval))\n",
    "    if FLAG_DECODE:\n",
    "        batch_x, batch_y = next_batch(params)\n",
    "        decoder_optimizer.run(feed_dict={x_input: batch_x, y_label: batch_y, x_target: batch_x})\n",
    "        \n",
    "    if FLAG_CLASSIF:\n",
    "        batch_x, batch_y = next_batch(params)\n",
    "        classifier_optimizer.run(feed_dict={x_input: batch_x, y_label: batch_y})\n",
    "    \n",
    "    if FLAG_GAN :\n",
    "        z_real_dist = np.random.randn(params.batch_size, params.z_dim) \n",
    "        discriminator_optimizer_real.run(feed_dict={real_distribution: z_real_dist})\n",
    "        z_real_dist = np.random.randn(params.batch_size, params.z_dim) \n",
    "        generator_optimizer_real.run(feed_dict={real_distribution: z_real_dist})\n",
    "        #batch_x, batch_y = next_batch(params)\n",
    "        #generator_optimizer_fake.run(feed_dict={x_input: batch_x})\n",
    "    \n",
    "    if FLAG_DECODE:\n",
    "        batch_x, batch_y = next_batch(params)\n",
    "        decoder_optimizer.run(feed_dict={x_input: batch_x, y_label: batch_y, x_target: batch_x})\n",
    "    \n",
    "    if FLAG_CLASSIF:\n",
    "        batch_x, batch_y = next_batch(params)\n",
    "        classifier_optimizer.run(feed_dict={x_input: batch_x, y_label: batch_y})\n",
    "        \n",
    "    if FLAG_GAN :    \n",
    "        batch_x, batch_y = next_batch(params)        \n",
    "        discriminator_optimizer_fake.run(feed_dict={x_input: batch_x})\n",
    "        batch_x, batch_y = next_batch(params)\n",
    "        generator_optimizer_fake.run(feed_dict={x_input: batch_x})\n",
    "    \n",
    "    if FLAG_DECODE:\n",
    "        batch_x, batch_y = next_batch(params)\n",
    "        decoder_optimizer.run(feed_dict={x_input: batch_x, y_label: batch_y, x_target: batch_x})\n",
    "    \n",
    "    if FLAG_CLASSIF:\n",
    "        batch_x, batch_y = next_batch(params)\n",
    "        classifier_optimizer.run(feed_dict={x_input: batch_x, y_label: batch_y})\n",
    "    "
   ]
  },
  {
   "cell_type": "code",
   "execution_count": 28,
   "metadata": {},
   "outputs": [
    {
     "data": {
      "text/plain": [
       "<matplotlib.legend.Legend at 0x7fd52a3fd2b0>"
      ]
     },
     "execution_count": 28,
     "metadata": {},
     "output_type": "execute_result"
    },
    {
     "data": {
      "image/png": "[encoded data removed]",
      "text/plain": [
       "<matplotlib.figure.Figure at 0x7fd52a5017b8>"
      ]
     },
     "metadata": {},
     "output_type": "display_data"
    }
   ],
   "source": [
    "plt.figure(figsize = (15,5))\n",
    "plt.subplot(1,3,1)\n",
    "plt.plot(mem.decoder_eval)\n",
    "plt.legend(('reconstruction err',))\n",
    "plt.subplot(1,3,2)\n",
    "plt.plot( mem.classif_eval)\n",
    "plt.legend(('classif rate',))\n",
    "plt.subplot(1,3,3)\n",
    "plt.plot( mem.dc_eval)\n",
    "plt.plot( mem.gen_eval)\n",
    "plt.legend(('dc','gen'))"
   ]
  },
  {
   "cell_type": "code",
   "execution_count": 29,
   "metadata": {},
   "outputs": [
    {
     "ename": "NameError",
     "evalue": "name 'y' is not defined",
     "output_type": "error",
     "traceback": [
      "\u001b[0;31m---------------------------------------------------------------------------\u001b[0m",
      "\u001b[0;31mNameError\u001b[0m                                 Traceback (most recent call last)",
      "\u001b[0;32m<ipython-input-29-2fcd693be382>\u001b[0m in \u001b[0;36m<module>\u001b[0;34m()\u001b[0m\n\u001b[1;32m      1\u001b[0m \u001b[0mx_test\u001b[0m\u001b[0;34m,\u001b[0m \u001b[0my_test\u001b[0m \u001b[0;34m=\u001b[0m \u001b[0mmnist\u001b[0m\u001b[0;34m.\u001b[0m\u001b[0mtest\u001b[0m\u001b[0;34m.\u001b[0m\u001b[0mnext_batch\u001b[0m\u001b[0;34m(\u001b[0m\u001b[0mparams\u001b[0m\u001b[0;34m.\u001b[0m\u001b[0mbatch_size\u001b[0m\u001b[0;34m)\u001b[0m\u001b[0;34m\u001b[0m\u001b[0m\n\u001b[0;32m----> 2\u001b[0;31m \u001b[0mprint\u001b[0m\u001b[0;34m(\u001b[0m\u001b[0maccuracy\u001b[0m\u001b[0;34m.\u001b[0m\u001b[0meval\u001b[0m\u001b[0;34m(\u001b[0m\u001b[0mfeed_dict\u001b[0m\u001b[0;34m=\u001b[0m\u001b[0;34m{\u001b[0m\u001b[0mx_input\u001b[0m\u001b[0;34m:\u001b[0m \u001b[0mx_test\u001b[0m\u001b[0;34m,\u001b[0m \u001b[0my\u001b[0m\u001b[0;34m:\u001b[0m \u001b[0my_test\u001b[0m\u001b[0;34m}\u001b[0m\u001b[0;34m)\u001b[0m\u001b[0;34m)\u001b[0m\u001b[0;34m\u001b[0m\u001b[0m\n\u001b[0m",
      "\u001b[0;31mNameError\u001b[0m: name 'y' is not defined"
     ]
    }
   ],
   "source": [
    "x_test, y_test = mnist.test.next_batch(params.batch_size)\n",
    "print(accuracy.eval(feed_dict={x_input: x_test, y: y_test}))"
   ]
  },
  {
   "cell_type": "markdown",
   "metadata": {},
   "source": [
    "print(accuracy.eval(feed_dict={x_input:subset_x[np.arange(params.batch_size)], y:subset_y[np.arange(params.batch_size)]}))"
   ]
  },
  {
   "cell_type": "markdown",
   "metadata": {},
   "source": [
    "indices[:params.batch_size]"
   ]
  },
  {
   "cell_type": "code",
   "execution_count": 30,
   "metadata": {},
   "outputs": [],
   "source": [
    "liste_z = e_latent_variable.eval(feed_dict={x_input: batch_x})"
   ]
  },
  {
   "cell_type": "code",
   "execution_count": 31,
   "metadata": {},
   "outputs": [
    {
     "data": {
      "text/plain": [
       "[<matplotlib.lines.Line2D at 0x7fd52a5013c8>]"
      ]
     },
     "execution_count": 31,
     "metadata": {},
     "output_type": "execute_result"
    },
    {
     "data": {
      "image/png": "[encoded data removed]",
      "text/plain": [
       "<matplotlib.figure.Figure at 0x7fd52a501400>"
      ]
     },
     "metadata": {},
     "output_type": "display_data"
    }
   ],
   "source": [
    "plt.plot(liste_z[:,0], liste_z[:,1], '.')\n",
    "plt.plot(z_real_dist[:,0], z_real_dist[:,1], '.')"
   ]
  },
  {
   "cell_type": "code",
   "execution_count": 32,
   "metadata": {},
   "outputs": [
    {
     "data": {
      "text/plain": [
       "<matplotlib.legend.Legend at 0x7fd5282b56d8>"
      ]
     },
     "execution_count": 32,
     "metadata": {},
     "output_type": "execute_result"
    },
    {
     "data": {
      "image/png": "[encoded data removed]",
      "text/plain": [
       "<matplotlib.figure.Figure at 0x7fd528334f60>"
      ]
     },
     "metadata": {},
     "output_type": "display_data"
    }
   ],
   "source": [
    "liste_z = e_latent_variable.eval(feed_dict={x_input: batch_x})\n",
    "z_cat = {}\n",
    "for i in range(10):\n",
    "    z_cat[i] = []\n",
    "for i in range(len(liste_z)):\n",
    "    index = np.where(batch_y[i] == 1)[0][0]\n",
    "    z_cat[index] += [liste_z[i]]\n",
    "for i in range(10):\n",
    "    z_aff = np.transpose(z_cat[i])\n",
    "    plt.plot(z_aff[0,:], z_aff[1,:], '.')\n",
    "plt.legend((0,1,2,3,4,5,6,7,8,9))"
   ]
  },
  {
   "cell_type": "code",
   "execution_count": null,
   "metadata": {},
   "outputs": [],
   "source": [
    "liste_z = e_latent_variable.eval(feed_dict={x_input: x_test})\n",
    "z_cat = {}\n",
    "for i in range(10):\n",
    "    z_cat[i] = []\n",
    "for i in range(len(liste_z)):\n",
    "    index = np.where(y_test[i] == 1)[0][0]\n",
    "    z_cat[index] += [liste_z[i]]\n",
    "for i in range(10):\n",
    "    z_aff = np.transpose(z_cat[i])\n",
    "    plt.plot(z_aff[0,:], z_aff[1,:], '.')\n",
    "plt.legend((0,1,2,3,4,5,6,7,8,9))"
   ]
  },
  {
   "cell_type": "code",
   "execution_count": null,
   "metadata": {},
   "outputs": [],
   "source": [
    "x_out = tf.nn.sigmoid(d_output).eval(feed_dict={x_input: batch_x})\n",
    "i = 2\n",
    "plt.subplot(1,2,1)\n",
    "plt.imshow(batch_x[i].reshape((28, 28)), cmap = 'gray_r')\n",
    "plt.subplot(1,2,2)\n",
    "plt.imshow(x_out[i].reshape((28, 28)), cmap = 'gray_r')\n"
   ]
  },
  {
   "cell_type": "code",
   "execution_count": null,
   "metadata": {},
   "outputs": [],
   "source": [
    "x_image = tf.nn.sigmoid(decoder_image).eval(feed_dict={decoder_input : np.random.randn((params.z_dim)).reshape((1, params.z_dim))})\n",
    "plt.subplot(1,2,2)\n",
    "plt.imshow(x_image.reshape((28, 28)), cmap = 'gray_r')"
   ]
  },
  {
   "cell_type": "code",
   "execution_count": null,
   "metadata": {},
   "outputs": [],
   "source": [
    "i = 2\n",
    "x_image = tf.nn.sigmoid(decoder_image).eval(feed_dict={decoder_input : liste_z[i].reshape((1, params.z_dim))})\n",
    "plt.subplot(1,2,1)\n",
    "plt.imshow(x_image.reshape((28, 28)), cmap = 'gray_r')"
   ]
  },
  {
   "cell_type": "code",
   "execution_count": null,
   "metadata": {},
   "outputs": [],
   "source": []
  }
 ],
 "metadata": {
  "kernelspec": {
   "display_name": "Python 3",
   "language": "python",
   "name": "python3"
  },
  "language_info": {
   "codemirror_mode": {
    "name": "ipython",
    "version": 3
   },
   "file_extension": ".py",
   "mimetype": "text/x-python",
   "name": "python",
   "nbconvert_exporter": "python",
   "pygments_lexer": "ipython3",
   "version": "3.5.3"
  }
 },
 "nbformat": 4,
 "nbformat_minor": 2
}
