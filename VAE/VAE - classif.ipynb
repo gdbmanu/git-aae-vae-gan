{
 "cells": [
  {
   "cell_type": "code",
   "execution_count": 1,
   "metadata": {},
   "outputs": [],
   "source": [
    "%matplotlib inline"
   ]
  },
  {
   "cell_type": "code",
   "execution_count": 2,
   "metadata": {},
   "outputs": [],
   "source": [
    "import tensorflow as tf\n",
    "import matplotlib.pyplot as plt\n",
    "import numpy as np\n",
    "import sys\n",
    "import math\n",
    "import os"
   ]
  },
  {
   "cell_type": "code",
   "execution_count": 3,
   "metadata": {},
   "outputs": [],
   "source": [
    "from scipy.stats import multivariate_normal"
   ]
  },
  {
   "cell_type": "code",
   "execution_count": 4,
   "metadata": {},
   "outputs": [
    {
     "name": "stdout",
     "output_type": "stream",
     "text": [
      "Extracting MNIST_data/train-images-idx3-ubyte.gz\n",
      "Extracting MNIST_data/train-labels-idx1-ubyte.gz\n",
      "Extracting MNIST_data/t10k-images-idx3-ubyte.gz\n",
      "Extracting MNIST_data/t10k-labels-idx1-ubyte.gz\n"
     ]
    }
   ],
   "source": [
    "from tensorflow.examples.tutorials.mnist import input_data\n",
    "mnist = input_data.read_data_sets(\"MNIST_data/\", one_hot=True)"
   ]
  },
  {
   "cell_type": "code",
   "execution_count": 5,
   "metadata": {},
   "outputs": [],
   "source": [
    "class Obj:\n",
    "    pass"
   ]
  },
  {
   "cell_type": "code",
   "execution_count": 6,
   "metadata": {},
   "outputs": [],
   "source": [
    "params = Obj()\n",
    "params.input_dim = 784 \n",
    "params.n_labels = 10 \n",
    "params.hidden_encoder_dim = 400\n",
    "params.hidden_decoder_dim = 400\n",
    "params.latent_dim = 15\n",
    "params.lam = 1e-3"
   ]
  },
  {
   "cell_type": "code",
   "execution_count": 7,
   "metadata": {},
   "outputs": [],
   "source": [
    "def weight_variable(shape, stddev = .1):\n",
    "    xav_stddev = stddev * np.sqrt( 1. / shape[0])\n",
    "    initial = tf.random_normal(shape = shape, stddev = xav_stddev)\n",
    "    return tf.Variable(initial)"
   ]
  },
  {
   "cell_type": "code",
   "execution_count": 8,
   "metadata": {},
   "outputs": [],
   "source": [
    "gate_x = tf.placeholder(tf.float32)\n",
    "gate_y = tf.placeholder(tf.float32)"
   ]
  },
  {
   "cell_type": "code",
   "execution_count": 9,
   "metadata": {},
   "outputs": [],
   "source": [
    "x = tf.placeholder(dtype=tf.float32, shape=[None, params.input_dim])\n",
    "y = tf.placeholder(dtype=tf.float32, shape=[None, params.n_labels])\n",
    "l2_loss = tf.constant(0.0)"
   ]
  },
  {
   "cell_type": "code",
   "execution_count": 10,
   "metadata": {},
   "outputs": [],
   "source": [
    "# Hidden layer encoder\n",
    "W_encoder_input_hidden = weight_variable([params.input_dim, params.hidden_encoder_dim])\n",
    "l2_loss += tf.nn.l2_loss(W_encoder_input_hidden)\n",
    "hidden_encoder = tf.nn.relu(tf.matmul(tf.multiply(x, gate_x), W_encoder_input_hidden)) "
   ]
  },
  {
   "cell_type": "code",
   "execution_count": 11,
   "metadata": {},
   "outputs": [],
   "source": [
    "# Hidden y layer encoder\n",
    "W_encoder_y_hidden = weight_variable([params.n_labels, params.hidden_encoder_dim])\n",
    "l2_loss += tf.nn.l2_loss(W_encoder_y_hidden)\n",
    "hidden_y_encoder = tf.nn.relu(tf.matmul(tf.multiply(y, gate_y), W_encoder_y_hidden)) "
   ]
  },
  {
   "cell_type": "code",
   "execution_count": 12,
   "metadata": {},
   "outputs": [],
   "source": [
    "# Mu encoder\n",
    "W_encoder_hidden_mu = weight_variable([params.hidden_encoder_dim, params.latent_dim])\n",
    "l2_loss += tf.nn.l2_loss(W_encoder_hidden_mu)"
   ]
  },
  {
   "cell_type": "code",
   "execution_count": 13,
   "metadata": {},
   "outputs": [],
   "source": [
    "# Mu y encoder\n",
    "#W_encoder_hidden_y_mu = weight_variable([params.hidden_encoder_dim, params.latent_dim])\n",
    "W_encoder_hidden_y_mu = weight_variable([params.n_labels, params.latent_dim])\n",
    "l2_loss += tf.nn.l2_loss(W_encoder_hidden_y_mu)"
   ]
  },
  {
   "cell_type": "code",
   "execution_count": 14,
   "metadata": {},
   "outputs": [],
   "source": [
    "mu_encoder_x = tf.matmul(hidden_encoder, W_encoder_hidden_mu) \n",
    "#mu_encoder_y = tf.matmul(hidden_y_encoder, W_encoder_hidden_y_mu)\n",
    "mu_encoder_y = tf.matmul(tf.multiply(y, gate_y), W_encoder_hidden_y_mu)\n",
    "\n",
    "\n",
    "#mu_encoder = tf.matmul(hidden_encoder, W_encoder_hidden_mu) + tf.matmul(y, W_encoder_hidden_y_mu)"
   ]
  },
  {
   "cell_type": "code",
   "execution_count": 15,
   "metadata": {},
   "outputs": [],
   "source": [
    "# Sigma encoder\n",
    "W_encoder_hidden_logvar = weight_variable([params.hidden_encoder_dim, params.latent_dim])\n",
    "l2_loss += tf.nn.l2_loss(W_encoder_hidden_logvar)"
   ]
  },
  {
   "cell_type": "code",
   "execution_count": 16,
   "metadata": {},
   "outputs": [],
   "source": [
    "# Sigma y encoder\n",
    "#W_encoder_hidden_y_logvar = weight_variable([params.hidden_encoder_dim, params.latent_dim])\n",
    "W_encoder_hidden_y_logvar = weight_variable([params.n_labels, params.latent_dim])\n",
    "l2_loss += tf.nn.l2_loss(W_encoder_hidden_y_logvar)"
   ]
  },
  {
   "cell_type": "code",
   "execution_count": 17,
   "metadata": {},
   "outputs": [],
   "source": [
    "logvar_encoder_x = tf.matmul(hidden_encoder, W_encoder_hidden_logvar) \n",
    "var_x = tf.exp(logvar_encoder_x)\n",
    "\n",
    "#logvar_encoder_y = tf.matmul(hidden_y_encoder, W_encoder_hidden_y_logvar)\n",
    "logvar_encoder_y = tf.matmul(tf.multiply(y, gate_y), W_encoder_hidden_y_logvar)\n",
    "var_y = tf.exp(logvar_encoder_y)\n",
    "\n",
    "logvar_encoder = tf.add(tf.add(logvar_encoder_x, logvar_encoder_y), - tf.log(tf.add(var_x, var_y)))\n",
    "\n",
    "alpha_x = tf.divide(var_y, tf.add(var_x, var_y))\n",
    "alpha_y = tf.divide(var_x, tf.add(var_x, var_y))\n",
    "#logvar_encoder = tf.matmul(hidden_encoder, W_encoder_hidden_logvar) + tf.matmul(y, W_encoder_hidden_y_logvar)\n",
    "mu_encoder = tf.add(tf.multiply(alpha_x, mu_encoder_x), tf.multiply(alpha_y, mu_encoder_y)) \n"
   ]
  },
  {
   "cell_type": "code",
   "execution_count": 18,
   "metadata": {},
   "outputs": [],
   "source": [
    "# Sample epsilon\n",
    "epsilon = tf.random_normal(tf.shape(logvar_encoder), name='epsilon')\n",
    "# Sample latent variable\n",
    "std_encoder = tf.exp(0.5 * logvar_encoder)\n",
    "z = mu_encoder + tf.multiply(std_encoder, epsilon)"
   ]
  },
  {
   "cell_type": "code",
   "execution_count": 19,
   "metadata": {},
   "outputs": [],
   "source": [
    "# Hidden y reconstruction layer\n",
    "W_decoder_z_y_hidden = weight_variable([params.latent_dim, params.hidden_decoder_dim])\n",
    "l2_loss += tf.nn.l2_loss(W_decoder_z_y_hidden)\n",
    "hidden_y_decoder = tf.nn.relu(tf.matmul(z, W_decoder_z_y_hidden))"
   ]
  },
  {
   "cell_type": "code",
   "execution_count": 20,
   "metadata": {},
   "outputs": [],
   "source": [
    "# y reconstruction layer \n",
    "W_decoder_y_reconstruction = weight_variable([params.hidden_decoder_dim, params.n_labels])\n",
    "l2_loss += tf.nn.l2_loss(W_decoder_y_reconstruction)\n",
    "y_hat_logit = tf.matmul(hidden_y_decoder, W_decoder_y_reconstruction)"
   ]
  },
  {
   "cell_type": "code",
   "execution_count": 21,
   "metadata": {},
   "outputs": [],
   "source": [
    "# Hidden layer decoder\n",
    "W_decoder_z_hidden = weight_variable([params.latent_dim, params.hidden_decoder_dim])\n",
    "l2_loss += tf.nn.l2_loss(W_decoder_z_hidden)\n",
    "hidden_decoder = tf.nn.relu(tf.matmul(z, W_decoder_z_hidden))"
   ]
  },
  {
   "cell_type": "code",
   "execution_count": 22,
   "metadata": {},
   "outputs": [],
   "source": [
    "# Reconstruction layer \n",
    "W_decoder_hidden_reconstruction = weight_variable([params.hidden_decoder_dim, params.input_dim])\n",
    "l2_loss += tf.nn.l2_loss(W_decoder_hidden_reconstruction)\n",
    "x_hat_logit = tf.matmul(hidden_decoder, W_decoder_hidden_reconstruction) "
   ]
  },
  {
   "cell_type": "markdown",
   "metadata": {},
   "source": [
    "## Loss"
   ]
  },
  {
   "cell_type": "code",
   "execution_count": 23,
   "metadata": {},
   "outputs": [],
   "source": [
    "# Loss\n",
    "# KL Divergence (Log Gaussian)\n",
    "KLD = -0.5 * tf.reduce_sum(1 + logvar_encoder - tf.pow(mu_encoder, 2) - tf.exp(logvar_encoder)) #, reduction_indices=1)\n",
    "#KLD = -0.5 * tf.reduce_mean(1 + logvar_encoder - tf.pow(mu_encoder, 2) - tf.exp(logvar_encoder)) #, reduction_indices=1)\n",
    "# Reconstruction Loss\n",
    "BCE_x = tf.reduce_sum(tf.nn.sigmoid_cross_entropy_with_logits(logits=x_hat_logit, labels=x))#, reduction_indices=1)\n",
    "#BCE_x = tf.reduce_mean(tf.nn.sigmoid_cross_entropy_with_logits(logits=x_hat_logit, labels=x)) #, reduction_indices=1)\n",
    "BCE_y = tf.reduce_sum(tf.nn.sigmoid_cross_entropy_with_logits(logits=y_hat_logit, labels=y))#, reduction_indices=1)\n",
    "#BCE_y = tf.reduce_mean(tf.nn.sigmoid_cross_entropy_with_logits(logits=y_hat_logit, labels=y)) #, reduction_indices=1)\n",
    "#BCE_y = tf.reduce_sum(tf.nn.softmax_cross_entropy_with_logits(logits=y_hat_logit, labels=y))\n",
    "loss = tf.reduce_mean(BCE_x + BCE_y + KLD)\n",
    "loss_x = tf.reduce_mean(BCE_x + KLD) # ZERO_Y (x predit x)\n",
    "loss_y = tf.reduce_mean(BCE_y + KLD) # ZERO_X (y predit y)\n",
    "regularized_loss = loss + params.lam * l2_loss"
   ]
  },
  {
   "cell_type": "markdown",
   "metadata": {},
   "source": [
    "## Train"
   ]
  },
  {
   "cell_type": "code",
   "execution_count": 24,
   "metadata": {},
   "outputs": [],
   "source": [
    "# Train\n",
    "loss_summ = tf.summary.scalar(\"lowerbound\", loss)\n",
    "train_step = tf.train.AdamOptimizer(0.001).minimize(regularized_loss)\n",
    "# add op for merging summary\n",
    "summary_op = tf.summary.merge_all()"
   ]
  },
  {
   "cell_type": "code",
   "execution_count": 25,
   "metadata": {},
   "outputs": [],
   "source": [
    "## "
   ]
  },
  {
   "cell_type": "code",
   "execution_count": 26,
   "metadata": {},
   "outputs": [],
   "source": [
    "# add Saver ops\n",
    "saver = tf.train.Saver()"
   ]
  },
  {
   "cell_type": "code",
   "execution_count": 27,
   "metadata": {},
   "outputs": [],
   "source": [
    "n_steps = int(1e6)\n",
    "batch_size = 100"
   ]
  },
  {
   "cell_type": "code",
   "execution_count": 28,
   "metadata": {},
   "outputs": [],
   "source": [
    "sess = tf.InteractiveSession()"
   ]
  },
  {
   "cell_type": "code",
   "execution_count": 29,
   "metadata": {},
   "outputs": [
    {
     "name": "stdout",
     "output_type": "stream",
     "text": [
      "Initializing parameters\n"
     ]
    }
   ],
   "source": [
    "summary_writer = tf.summary.FileWriter('experiment',\n",
    "                                      graph=sess.graph)\n",
    "if os.path.isfile(\"save/model.ckpt\"):\n",
    "    print(\"Restoring saved parameters\")\n",
    "    saver.restore(sess, \"save/model.ckpt\")\n",
    "else:\n",
    "    print(\"Initializing parameters\")\n",
    "    sess.run(tf.global_variables_initializer())"
   ]
  },
  {
   "cell_type": "code",
   "execution_count": 65,
   "metadata": {},
   "outputs": [
    {
     "name": "stdout",
     "output_type": "stream",
     "text": [
      "Step 68400 | Loss: 10724.9130859375"
     ]
    },
    {
     "ename": "KeyboardInterrupt",
     "evalue": "",
     "output_type": "error",
     "traceback": [
      "\u001b[0;31m---------------------------------------------------------------------------\u001b[0m",
      "\u001b[0;31mKeyboardInterrupt\u001b[0m                         Traceback (most recent call last)",
      "\u001b[0;32m<ipython-input-65-3303673e7fde>\u001b[0m in \u001b[0;36m<module>\u001b[0;34m()\u001b[0m\n\u001b[1;32m      8\u001b[0m         \u001b[0;31m# x predit x\u001b[0m\u001b[0;34m\u001b[0m\u001b[0;34m\u001b[0m\u001b[0m\n\u001b[1;32m      9\u001b[0m         \u001b[0mfeed_dict\u001b[0m \u001b[0;34m=\u001b[0m \u001b[0;34m{\u001b[0m\u001b[0mx\u001b[0m\u001b[0;34m:\u001b[0m \u001b[0mbatch\u001b[0m\u001b[0;34m[\u001b[0m\u001b[0;36m0\u001b[0m\u001b[0;34m]\u001b[0m\u001b[0;34m,\u001b[0m \u001b[0my\u001b[0m\u001b[0;34m:\u001b[0m\u001b[0mbatch\u001b[0m\u001b[0;34m[\u001b[0m\u001b[0;36m1\u001b[0m\u001b[0;34m]\u001b[0m \u001b[0;34m,\u001b[0m \u001b[0mgate_x\u001b[0m \u001b[0;34m:\u001b[0m \u001b[0;36m1\u001b[0m\u001b[0;34m,\u001b[0m \u001b[0mgate_y\u001b[0m \u001b[0;34m:\u001b[0m \u001b[0;36m0\u001b[0m\u001b[0;34m}\u001b[0m\u001b[0;34m\u001b[0m\u001b[0m\n\u001b[0;32m---> 10\u001b[0;31m         \u001b[0m_\u001b[0m\u001b[0;34m,\u001b[0m \u001b[0mcur_loss\u001b[0m\u001b[0;34m,\u001b[0m \u001b[0msummary_str\u001b[0m \u001b[0;34m=\u001b[0m \u001b[0msess\u001b[0m\u001b[0;34m.\u001b[0m\u001b[0mrun\u001b[0m\u001b[0;34m(\u001b[0m\u001b[0;34m[\u001b[0m\u001b[0mtrain_step\u001b[0m\u001b[0;34m,\u001b[0m \u001b[0mloss\u001b[0m\u001b[0;34m,\u001b[0m \u001b[0msummary_op\u001b[0m\u001b[0;34m]\u001b[0m\u001b[0;34m,\u001b[0m \u001b[0mfeed_dict\u001b[0m\u001b[0;34m=\u001b[0m\u001b[0mfeed_dict\u001b[0m\u001b[0;34m)\u001b[0m\u001b[0;34m\u001b[0m\u001b[0m\n\u001b[0m\u001b[1;32m     11\u001b[0m     \u001b[0;32melse\u001b[0m\u001b[0;34m:\u001b[0m\u001b[0;34m\u001b[0m\u001b[0m\n\u001b[1;32m     12\u001b[0m         \u001b[0;31m# y predit y\u001b[0m\u001b[0;34m\u001b[0m\u001b[0;34m\u001b[0m\u001b[0m\n",
      "\u001b[0;32m/usr/local/lib/python3.5/dist-packages/tensorflow/python/client/session.py\u001b[0m in \u001b[0;36mrun\u001b[0;34m(self, fetches, feed_dict, options, run_metadata)\u001b[0m\n\u001b[1;32m    887\u001b[0m     \u001b[0;32mtry\u001b[0m\u001b[0;34m:\u001b[0m\u001b[0;34m\u001b[0m\u001b[0m\n\u001b[1;32m    888\u001b[0m       result = self._run(None, fetches, feed_dict, options_ptr,\n\u001b[0;32m--> 889\u001b[0;31m                          run_metadata_ptr)\n\u001b[0m\u001b[1;32m    890\u001b[0m       \u001b[0;32mif\u001b[0m \u001b[0mrun_metadata\u001b[0m\u001b[0;34m:\u001b[0m\u001b[0;34m\u001b[0m\u001b[0m\n\u001b[1;32m    891\u001b[0m         \u001b[0mproto_data\u001b[0m \u001b[0;34m=\u001b[0m \u001b[0mtf_session\u001b[0m\u001b[0;34m.\u001b[0m\u001b[0mTF_GetBuffer\u001b[0m\u001b[0;34m(\u001b[0m\u001b[0mrun_metadata_ptr\u001b[0m\u001b[0;34m)\u001b[0m\u001b[0;34m\u001b[0m\u001b[0m\n",
      "\u001b[0;32m/usr/local/lib/python3.5/dist-packages/tensorflow/python/client/session.py\u001b[0m in \u001b[0;36m_run\u001b[0;34m(self, handle, fetches, feed_dict, options, run_metadata)\u001b[0m\n\u001b[1;32m   1118\u001b[0m     \u001b[0;32mif\u001b[0m \u001b[0mfinal_fetches\u001b[0m \u001b[0;32mor\u001b[0m \u001b[0mfinal_targets\u001b[0m \u001b[0;32mor\u001b[0m \u001b[0;34m(\u001b[0m\u001b[0mhandle\u001b[0m \u001b[0;32mand\u001b[0m \u001b[0mfeed_dict_tensor\u001b[0m\u001b[0;34m)\u001b[0m\u001b[0;34m:\u001b[0m\u001b[0;34m\u001b[0m\u001b[0m\n\u001b[1;32m   1119\u001b[0m       results = self._do_run(handle, final_targets, final_fetches,\n\u001b[0;32m-> 1120\u001b[0;31m                              feed_dict_tensor, options, run_metadata)\n\u001b[0m\u001b[1;32m   1121\u001b[0m     \u001b[0;32melse\u001b[0m\u001b[0;34m:\u001b[0m\u001b[0;34m\u001b[0m\u001b[0m\n\u001b[1;32m   1122\u001b[0m       \u001b[0mresults\u001b[0m \u001b[0;34m=\u001b[0m \u001b[0;34m[\u001b[0m\u001b[0;34m]\u001b[0m\u001b[0;34m\u001b[0m\u001b[0m\n",
      "\u001b[0;32m/usr/local/lib/python3.5/dist-packages/tensorflow/python/client/session.py\u001b[0m in \u001b[0;36m_do_run\u001b[0;34m(self, handle, target_list, fetch_list, feed_dict, options, run_metadata)\u001b[0m\n\u001b[1;32m   1315\u001b[0m     \u001b[0;32mif\u001b[0m \u001b[0mhandle\u001b[0m \u001b[0;32mis\u001b[0m \u001b[0;32mNone\u001b[0m\u001b[0;34m:\u001b[0m\u001b[0;34m\u001b[0m\u001b[0m\n\u001b[1;32m   1316\u001b[0m       return self._do_call(_run_fn, self._session, feeds, fetches, targets,\n\u001b[0;32m-> 1317\u001b[0;31m                            options, run_metadata)\n\u001b[0m\u001b[1;32m   1318\u001b[0m     \u001b[0;32melse\u001b[0m\u001b[0;34m:\u001b[0m\u001b[0;34m\u001b[0m\u001b[0m\n\u001b[1;32m   1319\u001b[0m       \u001b[0;32mreturn\u001b[0m \u001b[0mself\u001b[0m\u001b[0;34m.\u001b[0m\u001b[0m_do_call\u001b[0m\u001b[0;34m(\u001b[0m\u001b[0m_prun_fn\u001b[0m\u001b[0;34m,\u001b[0m \u001b[0mself\u001b[0m\u001b[0;34m.\u001b[0m\u001b[0m_session\u001b[0m\u001b[0;34m,\u001b[0m \u001b[0mhandle\u001b[0m\u001b[0;34m,\u001b[0m \u001b[0mfeeds\u001b[0m\u001b[0;34m,\u001b[0m \u001b[0mfetches\u001b[0m\u001b[0;34m)\u001b[0m\u001b[0;34m\u001b[0m\u001b[0m\n",
      "\u001b[0;32m/usr/local/lib/python3.5/dist-packages/tensorflow/python/client/session.py\u001b[0m in \u001b[0;36m_do_call\u001b[0;34m(self, fn, *args)\u001b[0m\n\u001b[1;32m   1321\u001b[0m   \u001b[0;32mdef\u001b[0m \u001b[0m_do_call\u001b[0m\u001b[0;34m(\u001b[0m\u001b[0mself\u001b[0m\u001b[0;34m,\u001b[0m \u001b[0mfn\u001b[0m\u001b[0;34m,\u001b[0m \u001b[0;34m*\u001b[0m\u001b[0margs\u001b[0m\u001b[0;34m)\u001b[0m\u001b[0;34m:\u001b[0m\u001b[0;34m\u001b[0m\u001b[0m\n\u001b[1;32m   1322\u001b[0m     \u001b[0;32mtry\u001b[0m\u001b[0;34m:\u001b[0m\u001b[0;34m\u001b[0m\u001b[0m\n\u001b[0;32m-> 1323\u001b[0;31m       \u001b[0;32mreturn\u001b[0m \u001b[0mfn\u001b[0m\u001b[0;34m(\u001b[0m\u001b[0;34m*\u001b[0m\u001b[0margs\u001b[0m\u001b[0;34m)\u001b[0m\u001b[0;34m\u001b[0m\u001b[0m\n\u001b[0m\u001b[1;32m   1324\u001b[0m     \u001b[0;32mexcept\u001b[0m \u001b[0merrors\u001b[0m\u001b[0;34m.\u001b[0m\u001b[0mOpError\u001b[0m \u001b[0;32mas\u001b[0m \u001b[0me\u001b[0m\u001b[0;34m:\u001b[0m\u001b[0;34m\u001b[0m\u001b[0m\n\u001b[1;32m   1325\u001b[0m       \u001b[0mmessage\u001b[0m \u001b[0;34m=\u001b[0m \u001b[0mcompat\u001b[0m\u001b[0;34m.\u001b[0m\u001b[0mas_text\u001b[0m\u001b[0;34m(\u001b[0m\u001b[0me\u001b[0m\u001b[0;34m.\u001b[0m\u001b[0mmessage\u001b[0m\u001b[0;34m)\u001b[0m\u001b[0;34m\u001b[0m\u001b[0m\n",
      "\u001b[0;32m/usr/local/lib/python3.5/dist-packages/tensorflow/python/client/session.py\u001b[0m in \u001b[0;36m_run_fn\u001b[0;34m(session, feed_dict, fetch_list, target_list, options, run_metadata)\u001b[0m\n\u001b[1;32m   1300\u001b[0m           return tf_session.TF_Run(session, options,\n\u001b[1;32m   1301\u001b[0m                                    \u001b[0mfeed_dict\u001b[0m\u001b[0;34m,\u001b[0m \u001b[0mfetch_list\u001b[0m\u001b[0;34m,\u001b[0m \u001b[0mtarget_list\u001b[0m\u001b[0;34m,\u001b[0m\u001b[0;34m\u001b[0m\u001b[0m\n\u001b[0;32m-> 1302\u001b[0;31m                                    status, run_metadata)\n\u001b[0m\u001b[1;32m   1303\u001b[0m \u001b[0;34m\u001b[0m\u001b[0m\n\u001b[1;32m   1304\u001b[0m     \u001b[0;32mdef\u001b[0m \u001b[0m_prun_fn\u001b[0m\u001b[0;34m(\u001b[0m\u001b[0msession\u001b[0m\u001b[0;34m,\u001b[0m \u001b[0mhandle\u001b[0m\u001b[0;34m,\u001b[0m \u001b[0mfeed_dict\u001b[0m\u001b[0;34m,\u001b[0m \u001b[0mfetch_list\u001b[0m\u001b[0;34m)\u001b[0m\u001b[0;34m:\u001b[0m\u001b[0;34m\u001b[0m\u001b[0m\n",
      "\u001b[0;31mKeyboardInterrupt\u001b[0m: "
     ]
    }
   ],
   "source": [
    "for step in range(1, n_steps):\n",
    "    batch = mnist.train.next_batch(batch_size)\n",
    "    if step % 3 == 0 : #10 == 9:\n",
    "        feed_dict = {x: batch[0], y:batch[1], gate_x : 1, gate_y : 1}\n",
    "        _, cur_loss, summary_str = sess.run([train_step, loss, summary_op], feed_dict=feed_dict)\n",
    "        summary_writer.add_summary(summary_str, step)\n",
    "    elif step % 3 == 1:\n",
    "        # x predit x\n",
    "        feed_dict = {x: batch[0], y:batch[1] , gate_x : 1, gate_y : 0}\n",
    "        _, cur_loss, summary_str = sess.run([train_step, loss, summary_op], feed_dict=feed_dict)\n",
    "    else:\n",
    "        # y predit y\n",
    "        feed_dict = {x: batch[0], y:batch[1], gate_x : 0, gate_y : 1}\n",
    "        _, cur_loss, summary_str = sess.run([train_step, loss, summary_op], feed_dict=feed_dict)\n",
    "    if step % 50 == 0:\n",
    "        save_path = saver.save(sess, \"save/model.ckpt\")\n",
    "        sys.stdout.write(\"\\rStep {0} | Loss: {1}\".format(step, cur_loss))\n"
   ]
  },
  {
   "cell_type": "code",
   "execution_count": 66,
   "metadata": {},
   "outputs": [],
   "source": [
    "batch = mnist.train.next_batch(batch_size)\n",
    "liste_z = z.eval(feed_dict={x: batch[0], y:batch[1], gate_x : 1, gate_y : 1})"
   ]
  },
  {
   "cell_type": "code",
   "execution_count": 67,
   "metadata": {},
   "outputs": [
    {
     "data": {
      "text/plain": [
       "[<matplotlib.lines.Line2D at 0x7f2eb65cb240>]"
      ]
     },
     "execution_count": 67,
     "metadata": {},
     "output_type": "execute_result"
    },
    {
     "data": {
      "image/png": "[encoded data removed]",
      "text/plain": [
       "<matplotlib.figure.Figure at 0x7f2eb64e40f0>"
      ]
     },
     "metadata": {},
     "output_type": "display_data"
    }
   ],
   "source": [
    "plt.plot(liste_z[:,0], liste_z[:,1], '.')\n",
    "ref = np.random.randn(batch_size, params.latent_dim)\n",
    "plt.plot(ref[:,0], ref[:,1], '.')"
   ]
  },
  {
   "cell_type": "code",
   "execution_count": 68,
   "metadata": {},
   "outputs": [
    {
     "data": {
      "text/plain": [
       "<matplotlib.legend.Legend at 0x7f2eb7e823c8>"
      ]
     },
     "execution_count": 68,
     "metadata": {},
     "output_type": "execute_result"
    },
    {
     "data": {
      "image/png": "[encoded data removed]",
      "text/plain": [
       "<matplotlib.figure.Figure at 0x7f2eb64f0e48>"
      ]
     },
     "metadata": {},
     "output_type": "display_data"
    }
   ],
   "source": [
    "z_cat = {}\n",
    "for i in range(10):\n",
    "    z_cat[i] = []\n",
    "for i in range(len(liste_z)):\n",
    "    index = np.where(batch[1][i] == 1)[0][0]\n",
    "    z_cat[index] += [liste_z[i]]\n",
    "for i in range(10):\n",
    "    z_aff = np.transpose(z_cat[i])\n",
    "    plt.plot(z_aff[0,:], z_aff[1,:], '.')\n",
    "plt.legend((0,1,2,3,4,5,6,7,8,9))"
   ]
  },
  {
   "cell_type": "code",
   "execution_count": 76,
   "metadata": {},
   "outputs": [
    {
     "data": {
      "text/plain": [
       "<matplotlib.image.AxesImage at 0x7f2eb393acf8>"
      ]
     },
     "execution_count": 76,
     "metadata": {},
     "output_type": "execute_result"
    },
    {
     "data": {
      "image/png": "[encoded data removed]",
      "text/plain": [
       "<matplotlib.figure.Figure at 0x7f2eb38185f8>"
      ]
     },
     "metadata": {},
     "output_type": "display_data"
    },
    {
     "data": {
      "image/png": "[encoded data removed]",
      "text/plain": [
       "<matplotlib.figure.Figure at 0x7f2eb8115d30>"
      ]
     },
     "metadata": {},
     "output_type": "display_data"
    }
   ],
   "source": [
    "GATE_X = 0\n",
    "GATE_Y = 1\n",
    "x_hat_logit_test, y_hat_logit_test = sess.run((x_hat_logit, y_hat_logit), feed_dict={x: batch[0] , y:batch[1], gate_x : GATE_X, gate_y : GATE_Y})\n",
    "x_hat = sess.run(tf.nn.sigmoid(x_hat_logit_test))\n",
    "y_hat = sess.run(tf.nn.sigmoid(y_hat_logit_test))\n",
    "\n",
    "i = 0\n",
    "plt.subplot(1,2,1)\n",
    "plt.imshow(batch[0][i].reshape((28, 28)), cmap = 'gray_r')\n",
    "plt.subplot(1,2,2)\n",
    "plt.imshow(x_hat[i].reshape((28, 28)), cmap = 'gray_r')\n",
    "plt.figure()\n",
    "plt.subplot(2,1,1)\n",
    "plt.imshow(batch[1][i].reshape((1, 10)), cmap = 'gray_r')\n",
    "plt.subplot(2,1,2)\n",
    "plt.imshow(y_hat[i].reshape((1, 10)), cmap = 'gray_r')"
   ]
  },
  {
   "cell_type": "code",
   "execution_count": null,
   "metadata": {},
   "outputs": [],
   "source": [
    "i = 8\n",
    "\n",
    "y_hat[i]"
   ]
  },
  {
   "cell_type": "code",
   "execution_count": 83,
   "metadata": {},
   "outputs": [
    {
     "name": "stdout",
     "output_type": "stream",
     "text": [
      "categ =  9\n",
      "mu_x =  [ 0.  0.  0.  0.  0.  0.  0.  0.  0.  0.  0.  0.  0.  0.  0.]\n",
      "std_x =  [ 1.  1.  1.  1.  1.  1.  1.  1.  1.  1.  1.  1.  1.  1.  1.]\n",
      "mu_y =  [ 0.24544969 -0.02370235  0.88270497 -0.12417275 -0.66563612 -0.79920268\n",
      " -1.82723498 -0.19667277 -1.6502924  -0.58115369 -0.2868551  -1.48005247\n",
      " -0.37671047  1.04829991 -0.94925684]\n",
      "std_y =  [ 1.50362182  1.4907223   0.43082592  1.26234257  0.81856042  0.44133335\n",
      "  0.66354489  1.45908701  0.35598001  0.58536315  1.52387607  0.35508883\n",
      "  1.30584049  0.3575843   1.30431759]\n",
      "mu =  [ 0.07527103 -0.00735583  0.74451482 -0.04787829 -0.39857471 -0.66891474\n",
      " -1.26865602 -0.06285614 -1.46468496 -0.43284082 -0.08634496 -1.31433094\n",
      " -0.13925321  0.92945391 -0.35141465]\n",
      "std =  [ 0.83266687  0.83045655  0.39566779  0.78385079  0.63341326  0.40376034\n",
      "  0.55289805  0.8248651   0.33536467  0.5051775   0.83605891  0.33461916\n",
      "  0.79394221  0.33670503  0.79359961]\n"
     ]
    },
    {
     "data": {
      "image/png": "[encoded data removed]",
      "text/plain": [
       "<matplotlib.figure.Figure at 0x7f2eb7cbfb70>"
      ]
     },
     "metadata": {},
     "output_type": "display_data"
    },
    {
     "data": {
      "image/png": "[encoded data removed]",
      "text/plain": [
       "<matplotlib.figure.Figure at 0x7f2eb35285c0>"
      ]
     },
     "metadata": {},
     "output_type": "display_data"
    }
   ],
   "source": [
    "GATE_X = 0\n",
    "GATE_Y = 1\n",
    "i = 2\n",
    "\n",
    "#x_hat, y_hat = tf.nn.sigmoid((x_hat_logit, y_hat_logit)).eval(feed_dict={x: batch[0] * TEST_ZERO_x, y:batch[1]* TEST_ZERO_y})\n",
    "# = tf.nn.sigmoid().eval(feed_dict={x: batch[0] * TEST_ZERO_x, y:batch[1]* TEST_ZERO_y})\n",
    "x_hat_logit_test, y_hat_logit_test, mu_x,         var_x_test, mu_y,         var_y_test, mu_test,    std_test,    z_test = sess.run(\\\n",
    "(x_hat_logit,     y_hat_logit,      mu_encoder_x, var_x,      mu_encoder_y, var_y,      mu_encoder, std_encoder, z), \\\n",
    "                                          feed_dict={x: batch[0], y:batch[1], \\\n",
    "                                          gate_x : GATE_X, gate_y : GATE_Y})\n",
    "x_hat, y_hat = tf.nn.sigmoid(x_hat_logit_test), tf.nn.sigmoid(y_hat_logit_test)\n",
    "\n",
    "plt.figure(figsize = (12,3))\n",
    "plt.subplot(1,4,1)\n",
    "plt.imshow(batch[0][i].reshape((28, 28)) * GATE_X, cmap = 'gray_r')\n",
    "plt.subplot(1,4,2)\n",
    "plt.imshow(x_hat[i].eval().reshape((28, 28)), cmap = 'gray_r')\n",
    "plt.subplot(2,4,3)\n",
    "plt.imshow(batch[1][i].reshape((1, 10)) * GATE_Y, cmap = 'gray_r')\n",
    "plt.subplot(2,4,7)\n",
    "plt.imshow(y_hat[i].eval().reshape((1, 10)) , cmap = 'gray_r')\n",
    "\n",
    "\n",
    "print('categ = ', np.where(batch[1][i] == 1)[0][0])\n",
    "#mu_test = mu_encoder.eval(feed_dict={x: batch[0] * TEST_ZERO_x, y:batch[1]* TEST_ZERO_y})[i]\n",
    "print('mu_x = ', mu_x[i])\n",
    "print('std_x = ', np.sqrt(var_x_test[i]))\n",
    "print('mu_y = ', mu_y[i])\n",
    "print('std_y = ', np.sqrt(var_y_test[i]))\n",
    "print('mu = ', mu_test[i])\n",
    "#std_test = std_encoder.eval(feed_dict={x: batch[0] * TEST_ZERO_x, y:batch[1]* TEST_ZERO_y})[i]\n",
    "print('std = ', std_test[i])\n",
    "\n",
    "DIM1 = 0\n",
    "DIM2 = 1\n",
    "axe_x, axe_y = np.mgrid[-4:4:.01, -4:4:.01]\n",
    "q = multivariate_normal(mu_test[i], std_test[i]**2 * np.eye(params.latent_dim))\n",
    "pos = np.empty(axe_x.shape + (params.latent_dim,))\n",
    "pos[:, :, DIM1] = axe_x; pos[:, :, DIM2] = axe_y\n",
    "\n",
    "plt.figure(figsize = (6, 3))\n",
    "plt.subplot(1,2,1)\n",
    "plt.contourf(axe_x, axe_y, q.pdf(pos))\n",
    "ax = plt.subplot(1,2,2)\n",
    "spl = q.rvs(10)\n",
    "plt.plot(spl[:,DIM1], spl[:,DIM2], '.')\n",
    "plt.plot(z_test[i,DIM1], z_test[i,DIM2], 'xr')\n",
    "plt.xlim(-4, 4)\n",
    "plt.ylim(-4, 4)\n",
    "ax.yaxis.grid(True)\n",
    "ax.xaxis.grid(True)"
   ]
  },
  {
   "cell_type": "code",
   "execution_count": null,
   "metadata": {},
   "outputs": [],
   "source": [
    "hidden_y_encoder.eval(feed_dict = {y : batch[1]})[i]"
   ]
  },
  {
   "cell_type": "code",
   "execution_count": null,
   "metadata": {},
   "outputs": [],
   "source": [
    "KLD_test, BCE_x_test, BCE_y_test = sess.run((KLD, BCE_x, BCE_y), feed_dict={x: batch[0] , y:batch[1]})\n"
   ]
  },
  {
   "cell_type": "code",
   "execution_count": null,
   "metadata": {},
   "outputs": [],
   "source": [
    "BCE_x_test"
   ]
  },
  {
   "cell_type": "code",
   "execution_count": null,
   "metadata": {},
   "outputs": [],
   "source": [
    "var_x_test"
   ]
  },
  {
   "cell_type": "code",
   "execution_count": null,
   "metadata": {},
   "outputs": [],
   "source": [
    "KLD_test"
   ]
  },
  {
   "cell_type": "code",
   "execution_count": null,
   "metadata": {},
   "outputs": [],
   "source": []
  },
  {
   "cell_type": "code",
   "execution_count": null,
   "metadata": {},
   "outputs": [],
   "source": []
  },
  {
   "cell_type": "code",
   "execution_count": null,
   "metadata": {},
   "outputs": [],
   "source": []
  },
  {
   "cell_type": "code",
   "execution_count": null,
   "metadata": {},
   "outputs": [],
   "source": []
  }
 ],
 "metadata": {
  "kernelspec": {
   "display_name": "Python 3",
   "language": "python",
   "name": "python3"
  },
  "language_info": {
   "codemirror_mode": {
    "name": "ipython",
    "version": 3
   },
   "file_extension": ".py",
   "mimetype": "text/x-python",
   "name": "python",
   "nbconvert_exporter": "python",
   "pygments_lexer": "ipython3",
   "version": "3.5.3"
  }
 },
 "nbformat": 4,
 "nbformat_minor": 2
}
