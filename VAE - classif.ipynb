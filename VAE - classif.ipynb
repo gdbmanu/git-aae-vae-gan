{
 "cells": [
  {
   "cell_type": "code",
   "execution_count": 1,
   "metadata": {},
   "outputs": [],
   "source": [
    "%matplotlib inline"
   ]
  },
  {
   "cell_type": "code",
   "execution_count": 2,
   "metadata": {},
   "outputs": [],
   "source": [
    "import tensorflow as tf\n",
    "import matplotlib.pyplot as plt\n",
    "import numpy as np\n",
    "import sys\n",
    "import math\n",
    "import os"
   ]
  },
  {
   "cell_type": "code",
   "execution_count": 3,
   "metadata": {},
   "outputs": [],
   "source": [
    "from scipy.stats import multivariate_normal"
   ]
  },
  {
   "cell_type": "code",
   "execution_count": 4,
   "metadata": {},
   "outputs": [
    {
     "name": "stdout",
     "output_type": "stream",
     "text": [
      "Extracting MNIST_data/train-images-idx3-ubyte.gz\n",
      "Extracting MNIST_data/train-labels-idx1-ubyte.gz\n",
      "Extracting MNIST_data/t10k-images-idx3-ubyte.gz\n",
      "Extracting MNIST_data/t10k-labels-idx1-ubyte.gz\n"
     ]
    }
   ],
   "source": [
    "from tensorflow.examples.tutorials.mnist import input_data\n",
    "mnist = input_data.read_data_sets(\"MNIST_data/\", one_hot=True)"
   ]
  },
  {
   "cell_type": "code",
   "execution_count": 5,
   "metadata": {},
   "outputs": [],
   "source": [
    "class Obj:\n",
    "    pass"
   ]
  },
  {
   "cell_type": "code",
   "execution_count": 6,
   "metadata": {},
   "outputs": [],
   "source": [
    "params = Obj()\n",
    "params.input_dim = 784 \n",
    "params.n_labels = 10 \n",
    "params.hidden_encoder_dim = 400\n",
    "params.hidden_decoder_dim = 400\n",
    "params.latent_dim = 15\n",
    "params.lam = 0"
   ]
  },
  {
   "cell_type": "code",
   "execution_count": 7,
   "metadata": {},
   "outputs": [],
   "source": [
    "def weight_variable(shape, stddev = .1):\n",
    "    xav_stddev = stddev * np.sqrt( 1. / shape[0])\n",
    "    initial = tf.random_normal(shape = shape, stddev = xav_stddev)\n",
    "    return tf.Variable(initial)"
   ]
  },
  {
   "cell_type": "code",
   "execution_count": 8,
   "metadata": {},
   "outputs": [],
   "source": [
    "x = tf.placeholder(dtype=tf.float32, shape=[None, params.input_dim])\n",
    "y = tf.placeholder(dtype=tf.float32, shape=[None, params.n_labels])\n",
    "l2_loss = tf.constant(0.0)"
   ]
  },
  {
   "cell_type": "code",
   "execution_count": 9,
   "metadata": {},
   "outputs": [],
   "source": [
    "# Hidden layer encoder\n",
    "W_encoder_input_hidden = weight_variable([params.input_dim, params.hidden_encoder_dim])\n",
    "l2_loss += tf.nn.l2_loss(W_encoder_input_hidden)\n",
    "hidden_encoder = tf.nn.relu(tf.matmul(x, W_encoder_input_hidden)) "
   ]
  },
  {
   "cell_type": "code",
   "execution_count": 10,
   "metadata": {},
   "outputs": [],
   "source": [
    "# Hidden y layer encoder\n",
    "W_encoder_y_hidden = weight_variable([params.n_labels, params.hidden_encoder_dim])\n",
    "l2_loss += tf.nn.l2_loss(W_encoder_y_hidden)\n",
    "hidden_y_encoder = tf.nn.leaky_relu(tf.matmul(y, W_encoder_y_hidden)) "
   ]
  },
  {
   "cell_type": "code",
   "execution_count": 11,
   "metadata": {},
   "outputs": [],
   "source": [
    "# Mu encoder\n",
    "W_encoder_hidden_mu = weight_variable([params.hidden_encoder_dim, params.latent_dim])\n",
    "l2_loss += tf.nn.l2_loss(W_encoder_hidden_mu)"
   ]
  },
  {
   "cell_type": "code",
   "execution_count": 12,
   "metadata": {},
   "outputs": [],
   "source": [
    "# Mu y encoder\n",
    "W_encoder_hidden_y_mu = weight_variable([params.hidden_encoder_dim, params.latent_dim])\n",
    "#W_encoder_hidden_y_mu = weight_variable([params.n_labels, params.latent_dim])\n",
    "l2_loss += tf.nn.l2_loss(W_encoder_hidden_y_mu)"
   ]
  },
  {
   "cell_type": "code",
   "execution_count": 13,
   "metadata": {},
   "outputs": [],
   "source": [
    "mu_encoder = tf.matmul(hidden_encoder, W_encoder_hidden_mu) + tf.matmul(hidden_y_encoder, W_encoder_hidden_y_mu)\n",
    "#mu_encoder = tf.matmul(hidden_encoder, W_encoder_hidden_mu) + tf.matmul(y, W_encoder_hidden_y_mu)"
   ]
  },
  {
   "cell_type": "code",
   "execution_count": 14,
   "metadata": {},
   "outputs": [],
   "source": [
    "# Sigma encoder\n",
    "W_encoder_hidden_logvar = weight_variable([params.hidden_encoder_dim, params.latent_dim])\n",
    "l2_loss += tf.nn.l2_loss(W_encoder_hidden_logvar)"
   ]
  },
  {
   "cell_type": "code",
   "execution_count": 15,
   "metadata": {},
   "outputs": [],
   "source": [
    "# Sigma y encoder\n",
    "#W_encoder_hidden_y_logvar = weight_variable([params.hidden_encoder_dim, params.latent_dim])\n",
    "W_encoder_hidden_y_logvar = weight_variable([params.n_labels, params.latent_dim])\n",
    "l2_loss += tf.nn.l2_loss(W_encoder_hidden_y_logvar)"
   ]
  },
  {
   "cell_type": "code",
   "execution_count": 16,
   "metadata": {},
   "outputs": [],
   "source": [
    "#logvar_encoder = tf.matmul(hidden_encoder, W_encoder_hidden_logvar) + tf.matmul(hidden_y_encoder, W_encoder_hidden_y_logvar)\n",
    "logvar_encoder = tf.matmul(hidden_encoder, W_encoder_hidden_logvar) + tf.matmul(y, W_encoder_hidden_y_logvar)"
   ]
  },
  {
   "cell_type": "code",
   "execution_count": 17,
   "metadata": {},
   "outputs": [],
   "source": [
    "# Sample epsilon\n",
    "epsilon = tf.random_normal(tf.shape(logvar_encoder), name='epsilon')\n",
    "# Sample latent variable\n",
    "std_encoder = tf.exp(0.5 * logvar_encoder)\n",
    "z = mu_encoder + tf.multiply(std_encoder, epsilon)"
   ]
  },
  {
   "cell_type": "code",
   "execution_count": 18,
   "metadata": {},
   "outputs": [],
   "source": [
    "# Hidden y reconstruction layer\n",
    "W_decoder_z_y_hidden = weight_variable([params.latent_dim, params.hidden_decoder_dim])\n",
    "l2_loss += tf.nn.l2_loss(W_decoder_z_y_hidden)\n",
    "hidden_y_decoder = tf.nn.relu(tf.matmul(z, W_decoder_z_y_hidden))"
   ]
  },
  {
   "cell_type": "code",
   "execution_count": 19,
   "metadata": {},
   "outputs": [],
   "source": [
    "# y reconstruction layer \n",
    "W_decoder_y_reconstruction = weight_variable([params.hidden_decoder_dim, params.n_labels])\n",
    "l2_loss += tf.nn.l2_loss(W_decoder_y_reconstruction)\n",
    "y_hat_logit = tf.matmul(hidden_y_decoder, W_decoder_y_reconstruction)"
   ]
  },
  {
   "cell_type": "code",
   "execution_count": 20,
   "metadata": {},
   "outputs": [],
   "source": [
    "# Hidden layer decoder\n",
    "W_decoder_z_hidden = weight_variable([params.latent_dim, params.hidden_decoder_dim])\n",
    "l2_loss += tf.nn.l2_loss(W_decoder_z_hidden)\n",
    "hidden_decoder = tf.nn.relu(tf.matmul(z, W_decoder_z_hidden))"
   ]
  },
  {
   "cell_type": "code",
   "execution_count": 21,
   "metadata": {},
   "outputs": [],
   "source": [
    "# Reconstruction layer \n",
    "W_decoder_hidden_reconstruction = weight_variable([params.hidden_decoder_dim, params.input_dim])\n",
    "l2_loss += tf.nn.l2_loss(W_decoder_hidden_reconstruction)\n",
    "x_hat_logit = tf.matmul(hidden_decoder, W_decoder_hidden_reconstruction) "
   ]
  },
  {
   "cell_type": "markdown",
   "metadata": {},
   "source": [
    "## Loss"
   ]
  },
  {
   "cell_type": "code",
   "execution_count": 86,
   "metadata": {},
   "outputs": [],
   "source": [
    "# Loss\n",
    "# KL Divergence (Log Gaussian)\n",
    "KLD = -0.5 * tf.reduce_sum(1 + logvar_encoder - tf.pow(mu_encoder, 2) - tf.exp(logvar_encoder)) #, reduction_indices=1)\n",
    "#KLD = -0.5 * tf.reduce_mean(1 + logvar_encoder - tf.pow(mu_encoder, 2) - tf.exp(logvar_encoder)) #, reduction_indices=1)\n",
    "# Reconstruction Loss\n",
    "BCE_x = tf.reduce_sum(tf.nn.sigmoid_cross_entropy_with_logits(logits=x_hat_logit, labels=x))#, reduction_indices=1)\n",
    "#BCE_x = tf.reduce_mean(tf.nn.sigmoid_cross_entropy_with_logits(logits=x_hat_logit, labels=x)) #, reduction_indices=1)\n",
    "BCE_y = tf.reduce_sum(tf.nn.sigmoid_cross_entropy_with_logits(logits=y_hat_logit, labels=y))#, reduction_indices=1)\n",
    "#BCE_y = tf.reduce_mean(tf.nn.sigmoid_cross_entropy_with_logits(logits=y_hat_logit, labels=y)) #, reduction_indices=1)\n",
    "loss = tf.reduce_mean(BCE_x + BCE_y + KLD)\n",
    "loss_x = tf.reduce_mean(BCE_x + KLD) # ZERO_Y (x predit x)\n",
    "loss_y = tf.reduce_mean(BCE_y + KLD) # ZERO_X (y predit y)\n",
    "regularized_loss = loss + params.lam * l2_loss"
   ]
  },
  {
   "cell_type": "markdown",
   "metadata": {},
   "source": [
    "## Train"
   ]
  },
  {
   "cell_type": "code",
   "execution_count": 87,
   "metadata": {},
   "outputs": [],
   "source": [
    "# Train\n",
    "loss_summ = tf.summary.scalar(\"lowerbound\", loss)\n",
    "train_step = tf.train.AdamOptimizer(0.01).minimize(regularized_loss)\n",
    "# add op for merging summary\n",
    "summary_op = tf.summary.merge_all()"
   ]
  },
  {
   "cell_type": "code",
   "execution_count": 88,
   "metadata": {},
   "outputs": [],
   "source": [
    "## "
   ]
  },
  {
   "cell_type": "code",
   "execution_count": 89,
   "metadata": {},
   "outputs": [],
   "source": [
    "# add Saver ops\n",
    "saver = tf.train.Saver()"
   ]
  },
  {
   "cell_type": "code",
   "execution_count": 90,
   "metadata": {},
   "outputs": [],
   "source": [
    "n_steps = int(1e6)\n",
    "batch_size = 100"
   ]
  },
  {
   "cell_type": "code",
   "execution_count": 91,
   "metadata": {},
   "outputs": [],
   "source": [
    "sess = tf.InteractiveSession()"
   ]
  },
  {
   "cell_type": "code",
   "execution_count": 101,
   "metadata": {},
   "outputs": [
    {
     "name": "stdout",
     "output_type": "stream",
     "text": [
      "Initializing parameters\n",
      "Step 31500 | Loss: 11485.8632812555"
     ]
    },
    {
     "ename": "KeyboardInterrupt",
     "evalue": "",
     "output_type": "error",
     "traceback": [
      "\u001b[0;31m---------------------------------------------------------------------------\u001b[0m",
      "\u001b[0;31mKeyboardInterrupt\u001b[0m                         Traceback (most recent call last)",
      "\u001b[0;32m<ipython-input-101-555be07d780e>\u001b[0m in \u001b[0;36m<module>\u001b[0;34m()\u001b[0m\n\u001b[1;32m     23\u001b[0m     \u001b[0;31m#    _, cur_loss, summary_str = sess.run([train_step, loss_y, summary_op], feed_dict=feed_dict)\u001b[0m\u001b[0;34m\u001b[0m\u001b[0;34m\u001b[0m\u001b[0m\n\u001b[1;32m     24\u001b[0m     \u001b[0;32mif\u001b[0m \u001b[0mstep\u001b[0m \u001b[0;34m%\u001b[0m \u001b[0;36m50\u001b[0m \u001b[0;34m==\u001b[0m \u001b[0;36m0\u001b[0m\u001b[0;34m:\u001b[0m\u001b[0;34m\u001b[0m\u001b[0m\n\u001b[0;32m---> 25\u001b[0;31m         \u001b[0msave_path\u001b[0m \u001b[0;34m=\u001b[0m \u001b[0msaver\u001b[0m\u001b[0;34m.\u001b[0m\u001b[0msave\u001b[0m\u001b[0;34m(\u001b[0m\u001b[0msess\u001b[0m\u001b[0;34m,\u001b[0m \u001b[0;34m\"save/model.ckpt\"\u001b[0m\u001b[0;34m)\u001b[0m\u001b[0;34m\u001b[0m\u001b[0m\n\u001b[0m\u001b[1;32m     26\u001b[0m         \u001b[0msys\u001b[0m\u001b[0;34m.\u001b[0m\u001b[0mstdout\u001b[0m\u001b[0;34m.\u001b[0m\u001b[0mwrite\u001b[0m\u001b[0;34m(\u001b[0m\u001b[0;34m\"\\rStep {0} | Loss: {1}\"\u001b[0m\u001b[0;34m.\u001b[0m\u001b[0mformat\u001b[0m\u001b[0;34m(\u001b[0m\u001b[0mstep\u001b[0m\u001b[0;34m,\u001b[0m \u001b[0mcur_loss\u001b[0m\u001b[0;34m)\u001b[0m\u001b[0;34m)\u001b[0m\u001b[0;34m\u001b[0m\u001b[0m\n",
      "\u001b[0;32m/usr/local/lib/python3.5/dist-packages/tensorflow/python/training/saver.py\u001b[0m in \u001b[0;36msave\u001b[0;34m(self, sess, save_path, global_step, latest_filename, meta_graph_suffix, write_meta_graph, write_state)\u001b[0m\n\u001b[1;32m   1599\u001b[0m       \u001b[0;32mif\u001b[0m \u001b[0mcontext\u001b[0m\u001b[0;34m.\u001b[0m\u001b[0min_graph_mode\u001b[0m\u001b[0;34m(\u001b[0m\u001b[0;34m)\u001b[0m\u001b[0;34m:\u001b[0m\u001b[0;34m\u001b[0m\u001b[0m\n\u001b[1;32m   1600\u001b[0m         \u001b[0;32mwith\u001b[0m \u001b[0msess\u001b[0m\u001b[0;34m.\u001b[0m\u001b[0mgraph\u001b[0m\u001b[0;34m.\u001b[0m\u001b[0mas_default\u001b[0m\u001b[0;34m(\u001b[0m\u001b[0;34m)\u001b[0m\u001b[0;34m:\u001b[0m\u001b[0;34m\u001b[0m\u001b[0m\n\u001b[0;32m-> 1601\u001b[0;31m           \u001b[0mself\u001b[0m\u001b[0;34m.\u001b[0m\u001b[0mexport_meta_graph\u001b[0m\u001b[0;34m(\u001b[0m\u001b[0mmeta_graph_filename\u001b[0m\u001b[0;34m)\u001b[0m\u001b[0;34m\u001b[0m\u001b[0m\n\u001b[0m\u001b[1;32m   1602\u001b[0m \u001b[0;34m\u001b[0m\u001b[0m\n\u001b[1;32m   1603\u001b[0m     \u001b[0;32mif\u001b[0m \u001b[0mself\u001b[0m\u001b[0;34m.\u001b[0m\u001b[0m_is_empty\u001b[0m\u001b[0;34m:\u001b[0m\u001b[0;34m\u001b[0m\u001b[0m\n",
      "\u001b[0;32m/usr/local/lib/python3.5/dist-packages/tensorflow/python/training/saver.py\u001b[0m in \u001b[0;36mexport_meta_graph\u001b[0;34m(self, filename, collection_list, as_text, export_scope, clear_devices, clear_extraneous_savers)\u001b[0m\n\u001b[1;32m   1637\u001b[0m         \u001b[0mexport_scope\u001b[0m\u001b[0;34m=\u001b[0m\u001b[0mexport_scope\u001b[0m\u001b[0;34m,\u001b[0m\u001b[0;34m\u001b[0m\u001b[0m\n\u001b[1;32m   1638\u001b[0m         \u001b[0mclear_devices\u001b[0m\u001b[0;34m=\u001b[0m\u001b[0mclear_devices\u001b[0m\u001b[0;34m,\u001b[0m\u001b[0;34m\u001b[0m\u001b[0m\n\u001b[0;32m-> 1639\u001b[0;31m         clear_extraneous_savers=clear_extraneous_savers)\n\u001b[0m\u001b[1;32m   1640\u001b[0m \u001b[0;34m\u001b[0m\u001b[0m\n\u001b[1;32m   1641\u001b[0m   \u001b[0;32mdef\u001b[0m \u001b[0mrestore\u001b[0m\u001b[0;34m(\u001b[0m\u001b[0mself\u001b[0m\u001b[0;34m,\u001b[0m \u001b[0msess\u001b[0m\u001b[0;34m,\u001b[0m \u001b[0msave_path\u001b[0m\u001b[0;34m)\u001b[0m\u001b[0;34m:\u001b[0m\u001b[0;34m\u001b[0m\u001b[0m\n",
      "\u001b[0;32m/usr/local/lib/python3.5/dist-packages/tensorflow/python/training/saver.py\u001b[0m in \u001b[0;36mexport_meta_graph\u001b[0;34m(filename, meta_info_def, graph_def, saver_def, collection_list, as_text, graph, export_scope, clear_devices, clear_extraneous_savers, **kwargs)\u001b[0m\n\u001b[1;32m   1881\u001b[0m       \u001b[0mclear_devices\u001b[0m\u001b[0;34m=\u001b[0m\u001b[0mclear_devices\u001b[0m\u001b[0;34m,\u001b[0m\u001b[0;34m\u001b[0m\u001b[0m\n\u001b[1;32m   1882\u001b[0m       \u001b[0mclear_extraneous_savers\u001b[0m\u001b[0;34m=\u001b[0m\u001b[0mclear_extraneous_savers\u001b[0m\u001b[0;34m,\u001b[0m\u001b[0;34m\u001b[0m\u001b[0m\n\u001b[0;32m-> 1883\u001b[0;31m       **kwargs)\n\u001b[0m\u001b[1;32m   1884\u001b[0m   \u001b[0;32mreturn\u001b[0m \u001b[0mmeta_graph_def\u001b[0m\u001b[0;34m\u001b[0m\u001b[0m\n\u001b[1;32m   1885\u001b[0m \u001b[0;34m\u001b[0m\u001b[0m\n",
      "\u001b[0;32m/usr/local/lib/python3.5/dist-packages/tensorflow/python/framework/meta_graph.py\u001b[0m in \u001b[0;36mexport_scoped_meta_graph\u001b[0;34m(filename, graph_def, graph, export_scope, as_text, unbound_inputs_col_name, clear_devices, saver_def, clear_extraneous_savers, **kwargs)\u001b[0m\n\u001b[1;32m    841\u001b[0m         \u001b[0mos\u001b[0m\u001b[0;34m.\u001b[0m\u001b[0mpath\u001b[0m\u001b[0;34m.\u001b[0m\u001b[0mdirname\u001b[0m\u001b[0;34m(\u001b[0m\u001b[0mfilename\u001b[0m\u001b[0;34m)\u001b[0m\u001b[0;34m,\u001b[0m\u001b[0;34m\u001b[0m\u001b[0m\n\u001b[1;32m    842\u001b[0m         \u001b[0mos\u001b[0m\u001b[0;34m.\u001b[0m\u001b[0mpath\u001b[0m\u001b[0;34m.\u001b[0m\u001b[0mbasename\u001b[0m\u001b[0;34m(\u001b[0m\u001b[0mfilename\u001b[0m\u001b[0;34m)\u001b[0m\u001b[0;34m,\u001b[0m\u001b[0;34m\u001b[0m\u001b[0m\n\u001b[0;32m--> 843\u001b[0;31m         as_text=as_text)\n\u001b[0m\u001b[1;32m    844\u001b[0m \u001b[0;34m\u001b[0m\u001b[0m\n\u001b[1;32m    845\u001b[0m   \u001b[0;32mreturn\u001b[0m \u001b[0mscoped_meta_graph_def\u001b[0m\u001b[0;34m,\u001b[0m \u001b[0mvar_list\u001b[0m\u001b[0;34m\u001b[0m\u001b[0m\n",
      "\u001b[0;32m/usr/local/lib/python3.5/dist-packages/tensorflow/python/framework/graph_io.py\u001b[0m in \u001b[0;36mwrite_graph\u001b[0;34m(graph_or_graph_def, logdir, name, as_text)\u001b[0m\n\u001b[1;32m     69\u001b[0m                                         text_format.MessageToString(graph_def))\n\u001b[1;32m     70\u001b[0m   \u001b[0;32melse\u001b[0m\u001b[0;34m:\u001b[0m\u001b[0;34m\u001b[0m\u001b[0m\n\u001b[0;32m---> 71\u001b[0;31m     \u001b[0mfile_io\u001b[0m\u001b[0;34m.\u001b[0m\u001b[0matomic_write_string_to_file\u001b[0m\u001b[0;34m(\u001b[0m\u001b[0mpath\u001b[0m\u001b[0;34m,\u001b[0m \u001b[0mgraph_def\u001b[0m\u001b[0;34m.\u001b[0m\u001b[0mSerializeToString\u001b[0m\u001b[0;34m(\u001b[0m\u001b[0;34m)\u001b[0m\u001b[0;34m)\u001b[0m\u001b[0;34m\u001b[0m\u001b[0m\n\u001b[0m\u001b[1;32m     72\u001b[0m   \u001b[0;32mreturn\u001b[0m \u001b[0mpath\u001b[0m\u001b[0;34m\u001b[0m\u001b[0m\n",
      "\u001b[0;31mKeyboardInterrupt\u001b[0m: "
     ]
    }
   ],
   "source": [
    "summary_writer = tf.summary.FileWriter('experiment',\n",
    "                                      graph=sess.graph)\n",
    "if os.path.isfile(\"save/model.ckpt\"):\n",
    "    print(\"Restoring saved parameters\")\n",
    "    saver.restore(sess, \"save/model.ckpt\")\n",
    "else:\n",
    "    print(\"Initializing parameters\")\n",
    "    sess.run(tf.global_variables_initializer())\n",
    "\n",
    "for step in range(1, n_steps):\n",
    "    batch = mnist.train.next_batch(batch_size)\n",
    "    if step % 10 == 9:\n",
    "        feed_dict = {x: batch[0], y:batch[1]}\n",
    "        _, cur_loss, summary_str = sess.run([train_step, loss, summary_op], feed_dict=feed_dict)\n",
    "        summary_writer.add_summary(summary_str, step)\n",
    "    else : #if step % 3 == 1:\n",
    "        # x predit x\n",
    "        feed_dict = {x: batch[0], y:batch[1] * 0}\n",
    "        _, cur_loss, summary_str = sess.run([train_step, loss_x, summary_op], feed_dict=feed_dict)\n",
    "    #else:\n",
    "        # y predit y\n",
    "    #    feed_dict = {x: batch[0] * 0, y:batch[1]}\n",
    "    #    _, cur_loss, summary_str = sess.run([train_step, loss_y, summary_op], feed_dict=feed_dict)\n",
    "    if step % 50 == 0:\n",
    "        save_path = saver.save(sess, \"save/model.ckpt\")\n",
    "        sys.stdout.write(\"\\rStep {0} | Loss: {1}\".format(step, cur_loss))\n"
   ]
  },
  {
   "cell_type": "code",
   "execution_count": 102,
   "metadata": {},
   "outputs": [],
   "source": [
    "batch = mnist.train.next_batch(batch_size)\n",
    "liste_z = z.eval(feed_dict={x: batch[0], y:batch[1]})"
   ]
  },
  {
   "cell_type": "code",
   "execution_count": 103,
   "metadata": {},
   "outputs": [
    {
     "data": {
      "text/plain": [
       "[<matplotlib.lines.Line2D at 0x7fa5af570208>]"
      ]
     },
     "execution_count": 103,
     "metadata": {},
     "output_type": "execute_result"
    },
    {
     "data": {
      "image/png": "[encoded data removed]",
      "text/plain": [
       "<matplotlib.figure.Figure at 0x7fa5af4ca358>"
      ]
     },
     "metadata": {},
     "output_type": "display_data"
    }
   ],
   "source": [
    "plt.plot(liste_z[:,0], liste_z[:,1], '.')\n",
    "ref = np.random.randn(batch_size, params.latent_dim)\n",
    "plt.plot(ref[:,0], ref[:,1], '.')"
   ]
  },
  {
   "cell_type": "code",
   "execution_count": 149,
   "metadata": {},
   "outputs": [
    {
     "data": {
      "text/plain": [
       "<matplotlib.legend.Legend at 0x7fa5ad528588>"
      ]
     },
     "execution_count": 149,
     "metadata": {},
     "output_type": "execute_result"
    },
    {
     "data": {
      "image/png": "[encoded data removed]",
      "text/plain": [
       "<matplotlib.figure.Figure at 0x7fa5acd08588>"
      ]
     },
     "metadata": {},
     "output_type": "display_data"
    }
   ],
   "source": [
    "z_cat = {}\n",
    "for i in range(10):\n",
    "    z_cat[i] = []\n",
    "for i in range(len(liste_z)):\n",
    "    index = np.where(batch[1][i] == 1)[0][0]\n",
    "    z_cat[index] += [liste_z[i]]\n",
    "for i in range(10):\n",
    "    z_aff = np.transpose(z_cat[i])\n",
    "    plt.plot(z_aff[4,:], z_aff[3,:], '.')\n",
    "plt.legend((0,1,2,3,4,5,6,7,8,9))"
   ]
  },
  {
   "cell_type": "code",
   "execution_count": 131,
   "metadata": {},
   "outputs": [
    {
     "data": {
      "text/plain": [
       "<matplotlib.image.AxesImage at 0x7fa5ada26550>"
      ]
     },
     "execution_count": 131,
     "metadata": {},
     "output_type": "execute_result"
    },
    {
     "data": {
      "image/png": "[encoded data removed]",
      "text/plain": [
       "<matplotlib.figure.Figure at 0x7fa5ae775e80>"
      ]
     },
     "metadata": {},
     "output_type": "display_data"
    },
    {
     "data": {
      "image/png": "[encoded data removed]",
      "text/plain": [
       "<matplotlib.figure.Figure at 0x7fa5ad9e8630>"
      ]
     },
     "metadata": {},
     "output_type": "display_data"
    }
   ],
   "source": [
    "TEST_ZERO_x = 0\n",
    "TEST_ZERO_y = 1\n",
    "x_hat_logit_test, y_hat_logit_test = sess.run((x_hat_logit, y_hat_logit), feed_dict={x: batch[0] * TEST_ZERO_x, y:batch[1]* TEST_ZERO_y})\n",
    "x_hat = sess.run(tf.nn.sigmoid(x_hat_logit_test))\n",
    "y_hat = sess.run(tf.nn.sigmoid(y_hat_logit_test))\n",
    "\n",
    "i = 1\n",
    "plt.subplot(1,2,1)\n",
    "plt.imshow(batch[0][i].reshape((28, 28)), cmap = 'gray_r')\n",
    "plt.subplot(1,2,2)\n",
    "plt.imshow(x_hat[i].reshape((28, 28)), cmap = 'gray_r')\n",
    "plt.figure()\n",
    "plt.subplot(2,1,1)\n",
    "plt.imshow(batch[1][i].reshape((1, 10)), cmap = 'gray_r')\n",
    "plt.subplot(2,1,2)\n",
    "plt.imshow(y_hat[i].reshape((1, 10)), cmap = 'gray_r')"
   ]
  },
  {
   "cell_type": "code",
   "execution_count": 107,
   "metadata": {},
   "outputs": [
    {
     "data": {
      "text/plain": [
       "array([  1.98262642e-04,   1.47123792e-04,   3.15069668e-02,\n",
       "         4.26342860e-02,   7.75925635e-09,   4.06491999e-05,\n",
       "         1.25592096e-05,   2.82948662e-07,   2.01792084e-02,\n",
       "         6.02461284e-07], dtype=float32)"
      ]
     },
     "execution_count": 107,
     "metadata": {},
     "output_type": "execute_result"
    }
   ],
   "source": [
    "i = 8\n",
    "\n",
    "y_hat[i]"
   ]
  },
  {
   "cell_type": "code",
   "execution_count": 162,
   "metadata": {},
   "outputs": [
    {
     "name": "stdout",
     "output_type": "stream",
     "text": [
      "categ =  2\n",
      "mu =  [-0.29432905  0.52772808  0.05851339  0.50286782  0.84499198 -0.81893992\n",
      "  0.11510324  1.2844404  -0.10273338  0.19110379 -1.46408188 -0.6714977\n",
      "  0.64035857 -0.9510268   0.1318268 ]\n",
      "std =  [ 0.06037654  0.9081983   0.15233627  0.08381969  0.0464786   0.22504766\n",
      "  1.02959228  0.10348164  1.16635263  0.85734415  0.14988735  0.12674108\n",
      "  0.11256431  0.24490596  1.06100786]\n"
     ]
    },
    {
     "data": {
      "image/png": "[encoded data removed]",
      "text/plain": [
       "<matplotlib.figure.Figure at 0x7fa5ac946b38>"
      ]
     },
     "metadata": {},
     "output_type": "display_data"
    },
    {
     "data": {
      "image/png": "[encoded data removed]",
      "text/plain": [
       "<matplotlib.figure.Figure at 0x7fa5ad626e80>"
      ]
     },
     "metadata": {},
     "output_type": "display_data"
    }
   ],
   "source": [
    "TEST_ZERO_x = 1\n",
    "TEST_ZERO_y = 0\n",
    "i = 10\n",
    "\n",
    "#x_hat, y_hat = tf.nn.sigmoid((x_hat_logit, y_hat_logit)).eval(feed_dict={x: batch[0] * TEST_ZERO_x, y:batch[1]* TEST_ZERO_y})\n",
    "# = tf.nn.sigmoid().eval(feed_dict={x: batch[0] * TEST_ZERO_x, y:batch[1]* TEST_ZERO_y})\n",
    "x_hat_logit_test, y_hat_logit_test, mu_test, std_test, z_test = sess.run((x_hat_logit, y_hat_logit, mu_encoder, std_encoder, z), feed_dict={x: batch[0] * TEST_ZERO_x, y:batch[1]* TEST_ZERO_y})\n",
    "x_hat, y_hat = tf.nn.sigmoid(x_hat_logit_test), tf.nn.sigmoid(y_hat_logit_test)\n",
    "\n",
    "plt.figure(figsize = (12,3))\n",
    "plt.subplot(1,4,1)\n",
    "plt.imshow(batch[0][i].reshape((28, 28)) * TEST_ZERO_x, cmap = 'gray_r')\n",
    "plt.subplot(1,4,2)\n",
    "plt.imshow(x_hat.eval()[i].reshape((28, 28)), cmap = 'gray_r')\n",
    "plt.subplot(2,4,3)\n",
    "plt.imshow(batch[1][i].reshape((1, 10)) * TEST_ZERO_y, cmap = 'gray_r')\n",
    "plt.subplot(2,4,7)\n",
    "plt.imshow(y_hat[i].eval().reshape((1, 10)) , cmap = 'gray_r')\n",
    "\n",
    "\n",
    "print('categ = ', np.where(batch[1][i] == 1)[0][0])\n",
    "#mu_test = mu_encoder.eval(feed_dict={x: batch[0] * TEST_ZERO_x, y:batch[1]* TEST_ZERO_y})[i]\n",
    "print('mu = ', mu_test[i])\n",
    "#std_test = std_encoder.eval(feed_dict={x: batch[0] * TEST_ZERO_x, y:batch[1]* TEST_ZERO_y})[i]\n",
    "print('std = ', std_test[i])\n",
    "\n",
    "DIM1 = 3\n",
    "DIM2 = 4\n",
    "axe_x, axe_y = np.mgrid[-4:4:.01, -4:4:.01]\n",
    "q = multivariate_normal(mu_test[i], std_test[i]**2 * np.eye(params.latent_dim))\n",
    "pos = np.empty(axe_x.shape + (params.latent_dim,))\n",
    "pos[:, :, DIM1] = axe_x; pos[:, :, DIM2] = axe_y\n",
    "\n",
    "plt.figure(figsize = (6, 3))\n",
    "plt.subplot(1,2,1)\n",
    "plt.contourf(axe_x, axe_y, q.pdf(pos))\n",
    "ax = plt.subplot(1,2,2)\n",
    "spl = q.rvs(10)\n",
    "plt.plot(spl[:,DIM1], spl[:,DIM2], '.')\n",
    "plt.plot(z_test[i,DIM1], z_test[i,DIM2], 'xr')\n",
    "plt.xlim(-4, 4)\n",
    "plt.ylim(-4, 4)\n",
    "ax.yaxis.grid(True)\n",
    "ax.xaxis.grid(True)"
   ]
  },
  {
   "cell_type": "code",
   "execution_count": null,
   "metadata": {},
   "outputs": [],
   "source": [
    "hidden_y_encoder.eval(feed_dict = {y : batch[1]})[i]"
   ]
  },
  {
   "cell_type": "code",
   "execution_count": 29,
   "metadata": {},
   "outputs": [],
   "source": [
    "KLD_test, BCE_x_test, BCE_y_test = sess.run((KLD, BCE_x, BCE_y), feed_dict={x: batch[0] , y:batch[1]})\n"
   ]
  },
  {
   "cell_type": "code",
   "execution_count": 30,
   "metadata": {},
   "outputs": [
    {
     "data": {
      "text/plain": [
       "9711.5742"
      ]
     },
     "execution_count": 30,
     "metadata": {},
     "output_type": "execute_result"
    }
   ],
   "source": [
    "BCE_x_test"
   ]
  },
  {
   "cell_type": "code",
   "execution_count": 31,
   "metadata": {},
   "outputs": [
    {
     "data": {
      "text/plain": [
       "19.166883"
      ]
     },
     "execution_count": 31,
     "metadata": {},
     "output_type": "execute_result"
    }
   ],
   "source": [
    "BCE_y_test"
   ]
  },
  {
   "cell_type": "code",
   "execution_count": 32,
   "metadata": {},
   "outputs": [
    {
     "data": {
      "text/plain": [
       "2144.3965"
      ]
     },
     "execution_count": 32,
     "metadata": {},
     "output_type": "execute_result"
    }
   ],
   "source": [
    "KLD_test"
   ]
  },
  {
   "cell_type": "code",
   "execution_count": null,
   "metadata": {},
   "outputs": [],
   "source": []
  },
  {
   "cell_type": "code",
   "execution_count": null,
   "metadata": {},
   "outputs": [],
   "source": []
  },
  {
   "cell_type": "code",
   "execution_count": null,
   "metadata": {},
   "outputs": [],
   "source": []
  },
  {
   "cell_type": "code",
   "execution_count": null,
   "metadata": {},
   "outputs": [],
   "source": []
  }
 ],
 "metadata": {
  "kernelspec": {
   "display_name": "Python 3",
   "language": "python",
   "name": "python3"
  },
  "language_info": {
   "codemirror_mode": {
    "name": "ipython",
    "version": 3
   },
   "file_extension": ".py",
   "mimetype": "text/x-python",
   "name": "python",
   "nbconvert_exporter": "python",
   "pygments_lexer": "ipython3",
   "version": "3.5.3"
  }
 },
 "nbformat": 4,
 "nbformat_minor": 2
}
